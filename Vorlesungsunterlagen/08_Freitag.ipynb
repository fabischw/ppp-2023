{
 "cells": [
  {
   "cell_type": "markdown",
   "id": "596951ce-fcac-4fda-87cc-5be3e56af589",
   "metadata": {
    "jp-MarkdownHeadingCollapsed": true
   },
   "source": [
    "## weird stuff: mutating immutables"
   ]
  },
  {
   "cell_type": "code",
   "execution_count": null,
   "id": "5253bcde-2531-4228-a010-c4b257b2548c",
   "metadata": {},
   "outputs": [],
   "source": [
    "my_tuple = (1, 2, [30, 40])"
   ]
  },
  {
   "cell_type": "markdown",
   "id": "fe6b7f6e-befb-4364-afbf-7a8bd70f8047",
   "metadata": {},
   "source": [
    "what happens if I try to change the mutable list inside the immutable tuple through augmented assignments (`+=`)?\n",
    "- my_tuple becomes `(1, 2, [30, 40, 50])`\n",
    "- An exception is raised, since I'm changing the content of an immutable\n",
    "- both\n",
    "- neither\n",
    "- something else\n"
   ]
  },
  {
   "cell_type": "code",
   "execution_count": null,
   "id": "ac8da1c0-09ac-4330-b85c-f9ea2f1f5f76",
   "metadata": {},
   "outputs": [],
   "source": [
    "my_tuple[-1] += [50]"
   ]
  },
  {
   "cell_type": "code",
   "execution_count": null,
   "id": "0d2504f6-c9bd-4e39-a8d5-85d00cf1a484",
   "metadata": {},
   "outputs": [],
   "source": [
    "my_tuple"
   ]
  },
  {
   "cell_type": "markdown",
   "id": "ab91857e-f10b-46ba-b7bd-7d0449c6ba6c",
   "metadata": {},
   "source": [
    "what happens if I try to change the mutable list insie the immutable tuple through a list method (`append`)"
   ]
  },
  {
   "cell_type": "code",
   "execution_count": null,
   "id": "53eb6aff-74b2-46fa-b436-9b0164214cf4",
   "metadata": {},
   "outputs": [],
   "source": [
    "my_tuple[-1].append(60)"
   ]
  },
  {
   "cell_type": "code",
   "execution_count": null,
   "id": "37f23922-a0ee-424c-8847-860b682f2351",
   "metadata": {},
   "outputs": [],
   "source": [
    "my_tuple"
   ]
  },
  {
   "cell_type": "code",
   "execution_count": null,
   "id": "7cb7e244-f749-472d-8e2f-69a4bac4cc85",
   "metadata": {},
   "outputs": [],
   "source": [
    "# for completeness sake: this is due to `__iadd__` in List\n",
    "from collections import UserList\n",
    "class MyList(UserList):\n",
    "    def __iadd__(self, other):\n",
    "        return NotImplemented"
   ]
  },
  {
   "cell_type": "code",
   "execution_count": null,
   "id": "76faaedc-c461-42b2-ba93-a3092c4dc780",
   "metadata": {},
   "outputs": [],
   "source": [
    "my_list = MyList([30, 40])"
   ]
  },
  {
   "cell_type": "code",
   "execution_count": null,
   "id": "6927581d-fa24-400b-a874-8b0436304cb6",
   "metadata": {},
   "outputs": [],
   "source": [
    "my_tuple = (1, 2, my_list)"
   ]
  },
  {
   "cell_type": "code",
   "execution_count": null,
   "id": "67e25021-03a0-4324-a359-4b54d7256797",
   "metadata": {},
   "outputs": [],
   "source": [
    "my_tuple[-1] += [50]"
   ]
  },
  {
   "cell_type": "code",
   "execution_count": null,
   "id": "e7ba2baf-9ed7-4d5f-8162-b10c3b5419b4",
   "metadata": {},
   "outputs": [],
   "source": [
    "my_tuple"
   ]
  },
  {
   "cell_type": "markdown",
   "id": "809c2814-96f1-4d14-b292-c4026b17ebef",
   "metadata": {},
   "source": [
    "### Summary:\n",
    "- Putting mutables inside immutables is not a good idea\n",
    "- augmented assignment (+=) is /not/ an atomic operations, and so you get the 'both' answer above..."
   ]
  },
  {
   "cell_type": "markdown",
   "id": "ebbae7bc-b32d-42fd-9409-3dd72bcbee52",
   "metadata": {
    "jp-MarkdownHeadingCollapsed": true
   },
   "source": [
    "## Dictionaries and Sets: How do they actually work?"
   ]
  },
  {
   "cell_type": "markdown",
   "id": "b0c821f5-6a64-41df-b26e-0feae9abb65d",
   "metadata": {
    "jp-MarkdownHeadingCollapsed": true
   },
   "source": [
    "### set and dict lookups are blazing fast"
   ]
  },
  {
   "cell_type": "code",
   "execution_count": null,
   "id": "b3127ca8-e80f-4f02-be3f-fd37bb635331",
   "metadata": {},
   "outputs": [],
   "source": [
    "import random, string"
   ]
  },
  {
   "cell_type": "code",
   "execution_count": null,
   "id": "c70a8eae-d305-49c6-b070-75ba25d0a843",
   "metadata": {},
   "outputs": [],
   "source": [
    "haystack = [random.random() for _ in range(1000000)]\n",
    "needles = random.sample(haystack, 1000)\n",
    "\n",
    "haystack_set = set(haystack)\n",
    "needles_set = set(needles)"
   ]
  },
  {
   "cell_type": "code",
   "execution_count": null,
   "id": "aee59aed-f546-4c99-9e65-be833355a849",
   "metadata": {},
   "outputs": [],
   "source": [
    "# find 1000 needles in a haystack of 1M entries"
   ]
  },
  {
   "cell_type": "code",
   "execution_count": null,
   "id": "c4a6b1de-5777-4b56-a99a-e03c80ffb892",
   "metadata": {},
   "outputs": [],
   "source": [
    "%timeit [needle for needle in needles if needle in haystack];"
   ]
  },
  {
   "cell_type": "code",
   "execution_count": null,
   "id": "8e23e5db-0615-4577-8bf9-0785f869f8ba",
   "metadata": {},
   "outputs": [],
   "source": [
    "%timeit haystack_set.intersection(needles_set)"
   ]
  },
  {
   "cell_type": "code",
   "execution_count": null,
   "id": "38ae5cb7-d67c-4ffe-aec1-be717635548d",
   "metadata": {},
   "outputs": [],
   "source": [
    "# the first element in the list is much faster than the last..."
   ]
  },
  {
   "cell_type": "code",
   "execution_count": null,
   "id": "e257d067-e9d4-4a95-9f50-cf15cb1bee3c",
   "metadata": {},
   "outputs": [],
   "source": [
    "%timeit haystack[0] in haystack"
   ]
  },
  {
   "cell_type": "code",
   "execution_count": null,
   "id": "acfe3b86-0956-44e3-83aa-ce9007c790be",
   "metadata": {},
   "outputs": [],
   "source": [
    "%timeit haystack[-1] in haystack"
   ]
  },
  {
   "cell_type": "code",
   "execution_count": null,
   "id": "0b06d929-1328-4eb3-bf4b-a8d2f689483c",
   "metadata": {},
   "outputs": [],
   "source": [
    "%timeit haystack[0] in haystack_set"
   ]
  },
  {
   "cell_type": "code",
   "execution_count": null,
   "id": "a922a794-4c23-488a-a61a-cbf190ba2dfd",
   "metadata": {},
   "outputs": [],
   "source": [
    "%timeit haystack[-1] in haystack_set"
   ]
  },
  {
   "cell_type": "markdown",
   "id": "4ee9f4af-b05a-4038-8149-9d3e0bb915cb",
   "metadata": {},
   "source": [
    "### how is this achieved?\n",
    "- https://github.com/python/cpython/blob/main/Objects/dictobject.c"
   ]
  },
  {
   "cell_type": "code",
   "execution_count": null,
   "id": "dd4bf4f0-b172-4386-8b66-303901a725ae",
   "metadata": {},
   "outputs": [],
   "source": [
    "import string"
   ]
  },
  {
   "cell_type": "code",
   "execution_count": null,
   "id": "ce80780e-3651-474e-9f5c-c12db15a5d70",
   "metadata": {},
   "outputs": [],
   "source": [
    "# assume we want to re-create the functionality python offers for a dict like this here:\n",
    "dict = {'first_key': 13, 'second_key': 'some_value'}"
   ]
  },
  {
   "cell_type": "code",
   "execution_count": null,
   "id": "edf8fe4b-1c31-45ac-8d78-ecb2f04db04a",
   "metadata": {},
   "outputs": [],
   "source": [
    "# the list way of doing something that looks like a dict...\n",
    "\n",
    "class ListDict:\n",
    "    def __init__(self, **kwargs):\n",
    "        self._data = []\n",
    "        for k, v in kwargs.items():\n",
    "            self[k] = v\n",
    "\n",
    "    # adding elements to our 'dict'\n",
    "    def __setitem__(self, key, value):\n",
    "        self._data.append((key, value))\n",
    "\n",
    "    # getting elements from our 'dict'\n",
    "    def __getitem__(self, key):\n",
    "        for elem in self._data:  # iterate over all elements in the list!\n",
    "            if elem[0] == key:\n",
    "                return elem[1]\n",
    "\n",
    "    def __contains__(self, key):\n",
    "        for elem in self._data:  # iterate over all elements in the list!\n",
    "            if elem[0] == key:\n",
    "                return True\n",
    "        return False"
   ]
  },
  {
   "cell_type": "code",
   "execution_count": null,
   "id": "6d78eae9-4dea-45b6-b8c2-049086cd5473",
   "metadata": {},
   "outputs": [],
   "source": [
    "ld = ListDict(first_key=13, second_key='some_value')"
   ]
  },
  {
   "cell_type": "code",
   "execution_count": null,
   "id": "3d5fd53f-4641-4d45-982e-1464c775a375",
   "metadata": {},
   "outputs": [],
   "source": [
    "ld['first_key']"
   ]
  },
  {
   "cell_type": "code",
   "execution_count": null,
   "id": "7f1b0ed7-2d85-4ffe-9f64-5be39c93ff6f",
   "metadata": {},
   "outputs": [],
   "source": [
    "'second_key' in ld"
   ]
  },
  {
   "cell_type": "code",
   "execution_count": null,
   "id": "322281bd-9bd9-4dfb-ad76-0bde233b3845",
   "metadata": {},
   "outputs": [],
   "source": [
    "'some_key' in ld"
   ]
  },
  {
   "cell_type": "code",
   "execution_count": null,
   "id": "408dee29-e5b0-4617-9e93-970e78735927",
   "metadata": {},
   "outputs": [],
   "source": [
    "# the hash-table value of building a dict\n",
    "# what if, instead of searching through the list we could just /calculate/ which element is the correct one?!\n",
    "\n",
    "\n",
    "class HashDict:\n",
    "    def __init__(self, size=3, **kwargs):\n",
    "        self.bit_selector = 2**size - 1\n",
    "        self._data = [None]*2**size  # extra memory allocation here!\n",
    "        for k, v in kwargs.items():\n",
    "            self[k] = v\n",
    "\n",
    "    def _get_index(self, key):\n",
    "        return hash(key) & self.bit_selector\n",
    "\n",
    "    def __getitem__(self, key):\n",
    "        index = self._get_index(key)\n",
    "        element = self._data[index]  # whoa, no loop!\n",
    "        if element is None:\n",
    "            raise KeyError\n",
    "        return element[1]\n",
    "\n",
    "    def __setitem__(self, key, value):\n",
    "        index = self._get_index(key)\n",
    "        self._data[index] = (key, value)\n",
    "\n",
    "    def __contains__(self, key):\n",
    "        index = self._get_index(key)\n",
    "        return not self._data[index] is None\n",
    "            "
   ]
  },
  {
   "cell_type": "code",
   "execution_count": null,
   "id": "32934f91-3ebf-4f79-b09c-96debcf448f8",
   "metadata": {},
   "outputs": [],
   "source": [
    "hd = HashDict(first_key=13, second_key='some_value')"
   ]
  },
  {
   "cell_type": "code",
   "execution_count": null,
   "id": "78e1e02d-dd8a-4d34-a61e-1f2f5be3aa8b",
   "metadata": {},
   "outputs": [],
   "source": [
    "hd['first_key']"
   ]
  },
  {
   "cell_type": "code",
   "execution_count": null,
   "id": "c469e36a-18dd-4b62-af5c-0938c2eb41b7",
   "metadata": {},
   "outputs": [],
   "source": [
    "'second_key' in hd"
   ]
  },
  {
   "cell_type": "code",
   "execution_count": null,
   "id": "54e69e87-e582-4524-8e2c-73e1f6ca2a96",
   "metadata": {},
   "outputs": [],
   "source": [
    "'some_key' in hd"
   ]
  },
  {
   "cell_type": "code",
   "execution_count": null,
   "id": "4ca9c3a6-a602-4d68-8090-091728f45f26",
   "metadata": {},
   "outputs": [],
   "source": [
    "# what's a problem with our implementation?"
   ]
  },
  {
   "cell_type": "code",
   "execution_count": null,
   "id": "35866de0-7528-472d-8f03-74637ce5935a",
   "metadata": {},
   "outputs": [],
   "source": [
    "'foo' in hd"
   ]
  },
  {
   "cell_type": "code",
   "execution_count": null,
   "id": "7388f067-624c-44a3-acfd-b2091b0a2cd4",
   "metadata": {},
   "outputs": [],
   "source": [
    "# let's make it larger\n",
    "hd = HashDict(size=4, first_key=13, second_key='some_value')\n",
    "'foo' in hd"
   ]
  },
  {
   "cell_type": "code",
   "execution_count": null,
   "id": "588fabcc-54af-4fdb-b717-fc90ec32a42a",
   "metadata": {},
   "outputs": [],
   "source": [
    "# that was a hash collision: same (lower bits) hash for two different objects"
   ]
  },
  {
   "cell_type": "code",
   "execution_count": null,
   "id": "46af9218-d54d-4ea6-848c-8751657a08d0",
   "metadata": {},
   "outputs": [],
   "source": [
    "# let's try to do better\n",
    "\n",
    "class CollisionSafeHashDict:\n",
    "    def __init__(self, size=3, **kwargs):\n",
    "        self.bit_selector = 2**size - 1\n",
    "        self._data = [None]*2**size  # extra memory allocation here!\n",
    "        for k, v in kwargs.items():\n",
    "            self[k] = v\n",
    "\n",
    "    def _get_index(self, key, shift=0):\n",
    "        if shift >= 8:\n",
    "            raise RuntimeError('our implementation is too simple to deal with resizing the dict')\n",
    "        selected_bits = hash(key) & (self.bit_selector << shift)  # the real logic here is smarter...\n",
    "        return selected_bits >> shift  # bring it into index range again\n",
    "\n",
    "    def __getitem__(self, key):\n",
    "        for shift in range(16):\n",
    "            index = self._get_index(key, shift)\n",
    "            element = self._data[index]  # whoa, no loop!\n",
    "            if element is None:\n",
    "                raise KeyError\n",
    "            elif element[0] == key:\n",
    "                return element[1]\n",
    "\n",
    "    def __setitem__(self, key, value):\n",
    "        for shift in range(16):\n",
    "            index = self._get_index(key, shift)\n",
    "            if self._data[index] is None:\n",
    "                self._data[index] = (key, value)\n",
    "                break\n",
    "            elif self._data[index][0] == key:\n",
    "                self._data[index] = (key, value)\n",
    "                break\n",
    "            \n",
    "\n",
    "    def __contains__(self, key):\n",
    "        for shift in range(16):\n",
    "            index = self._get_index(key, shift)\n",
    "            if self._data[index] is None:\n",
    "                return False\n",
    "            elif self._data[index][0] == key:\n",
    "                return True\n",
    "        return False"
   ]
  },
  {
   "cell_type": "code",
   "execution_count": null,
   "id": "30c8dc0f-0759-4223-8eb9-253791cee83e",
   "metadata": {},
   "outputs": [],
   "source": [
    "chd = CollisionSafeHashDict(first_key=13, second_key='some_value')  # using the old size here"
   ]
  },
  {
   "cell_type": "code",
   "execution_count": null,
   "id": "209d6572-40ae-45d7-9dc2-ca76c0a68341",
   "metadata": {},
   "outputs": [],
   "source": [
    "'foo' in chd"
   ]
  },
  {
   "cell_type": "code",
   "execution_count": null,
   "id": "172860a5-807a-437d-919c-4d3e22ea9c89",
   "metadata": {},
   "outputs": [],
   "source": [
    "'first_key' in chd"
   ]
  },
  {
   "cell_type": "code",
   "execution_count": null,
   "id": "2bbcd4b3-65f5-477b-ae0d-9a68b05c9b79",
   "metadata": {},
   "outputs": [],
   "source": [
    "'second_key' in chd"
   ]
  },
  {
   "cell_type": "code",
   "execution_count": null,
   "id": "bbc6c40b-bbc9-476d-9ef6-44f280579233",
   "metadata": {},
   "outputs": [],
   "source": [
    "for i in string.ascii_lowercase:\n",
    "    chd[i] = 'value'"
   ]
  },
  {
   "cell_type": "code",
   "execution_count": null,
   "id": "acf60d5b-3e9b-4f6b-8ea3-ab34a7c4aa30",
   "metadata": {},
   "outputs": [],
   "source": [
    "chd._data"
   ]
  },
  {
   "cell_type": "markdown",
   "id": "cf3b55ee-4082-4b47-92c6-47d33f10b42e",
   "metadata": {},
   "source": [
    "### Summary\n",
    "- classic time-space-tradeoff\n",
    "- significant memory overhead for dictionaries\n",
    "- all keys (and all set elements) must be hashable\n",
    "- element retrieval and membership tests are very fast (O(1) effectively)\n",
    "- dicts have some dedicated logic to conserve order of entries\n",
    "- for sets the order is not defined, and any insert may change the existing order of all elements\n",
    "- inserts can (ocassionally) trigger a re-sizing of the underlying data structure"
   ]
  },
  {
   "cell_type": "markdown",
   "id": "ff1aebfc-8eef-47ea-89a9-00172d6445c7",
   "metadata": {
    "jp-MarkdownHeadingCollapsed": true
   },
   "source": [
    "## Debugging"
   ]
  },
  {
   "cell_type": "markdown",
   "id": "3d6db562-114e-49b7-92b4-266b89ac0816",
   "metadata": {
    "jp-MarkdownHeadingCollapsed": true
   },
   "source": [
    "### Python Debugger (`pdb`) Commands\n",
    "\n",
    "#### Starting the Debugger\n",
    "- known breakpoint in advance: `breakpoint()`\n",
    "- break into debugger on unhandled exceptions: `python -m pdb <my_script.py>`\n",
    "\n",
    "#### Navigation\n",
    "- **`n` or `next`**: Execute the current line and stop at the first possible occasion (step over).\n",
    "\n",
    "- **`s` or `step`**: Execute and stop at the first possible occasion (step into).\n",
    "\n",
    "- **`c` or `continue`**: Continue execution until the next breakpoint is encountered.\n",
    "\n",
    "#### Breakpoints\n",
    "- **`b` or `break`**: Set a breakpoint at the current line.\n",
    "\n",
    "- **`b <line_number>`**: Set a breakpoint at a specific line.\n",
    "\n",
    "- **`clear <breakpoint_number>`**: Clear a breakpoint.\n",
    "\n",
    "#### Information\n",
    "- **`l` or `list`**: Show the current source code around the current line.\n",
    "\n",
    "- **`p <variable>` or `print <variable>`**: Print the value of a variable.\n",
    "\n",
    "- **`q` or `quit`**: Quit the debugger and abort the program.\n",
    "\n",
    "#### Stack and Context\n",
    "- **`bt` or `where`**: Print a stack trace with the current line number.\n",
    "\n",
    "- **`u` or `up`**: Move the current frame up the stack trace.\n",
    "\n",
    "- **`d` or `down`**: Move the current frame down the stack trace.\n",
    "\n",
    "#### Miscellaneous\n",
    "- **`h` or `help`**: Display a list of available commands or help for a specific command.\n",
    "\n",
    "- **`!`**: Execute a Python statement in the context of the current stack frame.\n"
   ]
  },
  {
   "cell_type": "markdown",
   "id": "01893699-5ab8-4649-b319-4ca5c1caa997",
   "metadata": {
    "jp-MarkdownHeadingCollapsed": true
   },
   "source": [
    "## typing and type hints\n",
    "- type annotations have special syntax\n",
    "- but are **entirely optional**\n",
    "- they can be used by static types checkers, documentation, IDEs or just for better understanding by the reader\n",
    "- but they *do not* influence the interpreter in any way\n",
    "- in particular there is no runtime effect: nothing gets faster (or slower) because you provided type annotations\n",
    "- and nothing is enforced by the interpreter either"
   ]
  },
  {
   "cell_type": "code",
   "execution_count": null,
   "id": "abb136ab-44b9-484d-9318-25571c2cf01f",
   "metadata": {},
   "outputs": [],
   "source": [
    "# motivating example"
   ]
  },
  {
   "cell_type": "code",
   "execution_count": null,
   "id": "d0b649a0-cccb-4269-b9e6-e1a301b76c69",
   "metadata": {},
   "outputs": [],
   "source": [
    "def some_function(some_argument):\n",
    "    some_argument."
   ]
  },
  {
   "cell_type": "code",
   "execution_count": null,
   "id": "66c03cc3-22a2-4dd6-af21-fa17a4c3b937",
   "metadata": {},
   "outputs": [],
   "source": [
    "def some_function(some_argument: str):\n",
    "    some_argument."
   ]
  },
  {
   "cell_type": "markdown",
   "id": "0afefd87-42f0-4076-8590-9b1e75ba540b",
   "metadata": {},
   "source": [
    "### types for variables"
   ]
  },
  {
   "cell_type": "code",
   "execution_count": null,
   "id": "75838ea8-4a05-4945-b57c-6a7d6aa2cb92",
   "metadata": {},
   "outputs": [],
   "source": [
    "x: int = 5  # syntax to specify x should be an integer"
   ]
  },
  {
   "cell_type": "code",
   "execution_count": null,
   "id": "57217237-cc63-4a69-8fdf-10a6faec64b9",
   "metadata": {},
   "outputs": [],
   "source": [
    "x = 'foo'  # the interpreter doesn't care at all "
   ]
  },
  {
   "cell_type": "code",
   "execution_count": null,
   "id": "13231008-0202-4c5b-a942-81ab0a2cabcb",
   "metadata": {},
   "outputs": [],
   "source": [
    "# you can use all the builtin types as type hint\n",
    "s: str = 'foo'\n",
    "b: bool = True\n",
    "# and so on"
   ]
  },
  {
   "cell_type": "code",
   "execution_count": null,
   "id": "5786ada4-0a0c-4b64-ba65-c852d01d5896",
   "metadata": {},
   "outputs": [],
   "source": [
    "# simple list type\n",
    "l: list = []"
   ]
  },
  {
   "cell_type": "code",
   "execution_count": null,
   "id": "531452b6-cd8c-4d76-9e74-e5ebc2f6eb26",
   "metadata": {},
   "outputs": [],
   "source": [
    "# generic types\n",
    "list_of_strings: list[str] = []"
   ]
  },
  {
   "cell_type": "code",
   "execution_count": null,
   "id": "c5c35b05-b824-4f76-bcba-126f48393f09",
   "metadata": {},
   "outputs": [],
   "source": [
    "def foo(l: list[str]) -> None:\n",
    "    l[1]."
   ]
  },
  {
   "cell_type": "code",
   "execution_count": null,
   "id": "a18705e4-43f5-4e16-8f03-c6be61ad5b7c",
   "metadata": {},
   "outputs": [],
   "source": [
    "# but, lists are expected to be homogeneous; you can not specify different types per element\n",
    "def foo(l: list[str, int]) -> None:\n",
    "    l[1]."
   ]
  },
  {
   "cell_type": "code",
   "execution_count": null,
   "id": "3e0365d9-a8df-4fcd-9b46-430d3bedd36f",
   "metadata": {},
   "outputs": [],
   "source": [
    "# same for tuples or sets\n",
    "t: tuple = ()\n",
    "t: tuple[int] = ()"
   ]
  },
  {
   "cell_type": "code",
   "execution_count": null,
   "id": "3441ed14-5c85-423d-a9b2-def635e7a4b1",
   "metadata": {},
   "outputs": [],
   "source": [
    "# but tuples are often inhomogeneous, so the following /is/ officially allowed:\n",
    "# unfortunately, both examples are only theoretical for the type hint system in this notebook...\n",
    "# see vscode, which does better here...\n",
    "def foo(t: tuple[str, int]) -> None:\n",
    "    t[1]."
   ]
  },
  {
   "cell_type": "code",
   "execution_count": null,
   "id": "5625120e-7f44-4785-a559-349de9a8500e",
   "metadata": {},
   "outputs": [],
   "source": [
    "# for a homogeneous tuple of any length use Ellipsis \n",
    "t: tuple[int, ...] = (1, 2, 3, 4, 5)"
   ]
  },
  {
   "cell_type": "code",
   "execution_count": null,
   "id": "991efbb1-1d1a-46ae-be64-8740622cb29f",
   "metadata": {},
   "outputs": [],
   "source": [
    "# sets are simple again, they are expected to be homogeneous\n",
    "s: set = set()\n",
    "s: set[float] = set()"
   ]
  },
  {
   "cell_type": "code",
   "execution_count": null,
   "id": "ab16064e-5924-46bc-8126-d4debedda092",
   "metadata": {},
   "outputs": [],
   "source": [
    "# dictionaries follow a fairly natural syntax, too\n",
    "d: dict[str, int] = {'key': 1}"
   ]
  },
  {
   "cell_type": "markdown",
   "id": "8af50428-02af-45cb-9df1-31f96e9ac0b9",
   "metadata": {},
   "source": [
    "### abstract base classes as types"
   ]
  },
  {
   "cell_type": "code",
   "execution_count": null,
   "id": "4d3cebd6-d607-4542-9a8f-f9d687e815e6",
   "metadata": {},
   "outputs": [],
   "source": [
    "from collections.abc import Iterable, Sequence, Mapping\n",
    "from collections import UserList, UserDict\n",
    "\n",
    "\n",
    "class MyIterable(Iterable):\n",
    "    def __iter__(self):\n",
    "        return (x for x in [1, 2, 3])\n",
    "\n",
    "class MyList(UserList):\n",
    "    pass\n",
    "\n",
    "class MyDict(UserDict):\n",
    "    pass\n",
    "\n",
    "# if you just expect something to be iterable (implements `__iter__`), no matter what exactly it is\n",
    "iterable: Iterable = MyIterable()\n",
    "# if you just expect something to implement the sequence protocal (`__getitem__`, `__len__`), no matter what exactly it is\n",
    "sequence: Sequence = MySequence([1, 2, 3])\n",
    "# if you just expect something to implement the mapping protocal (`__getitem__`, `__len__`, `__iter__`), no matter what exactly it is\n",
    "d: Mapping = MyDict({'foo': 'bar'})\n",
    "\n"
   ]
  },
  {
   "cell_type": "markdown",
   "id": "6d0c75ac-20d4-414f-8803-3242a40fc68e",
   "metadata": {},
   "source": [
    "### types for functions"
   ]
  },
  {
   "cell_type": "code",
   "execution_count": null,
   "id": "9173a954-295e-401b-8c6b-39b9f8f2bca1",
   "metadata": {},
   "outputs": [],
   "source": [
    "def my_function(first_argument: str, second_argument: int = 3) -> bool:\n",
    "    print(f'{first_argument=}, {second_argument=}')\n",
    "    return True"
   ]
  },
  {
   "cell_type": "code",
   "execution_count": null,
   "id": "4c3fc724-eed5-4cec-b896-f9d39db68acf",
   "metadata": {},
   "outputs": [],
   "source": [
    "my_function('foo', 0)"
   ]
  },
  {
   "cell_type": "code",
   "execution_count": null,
   "id": "7976cbef-c28f-41a5-b7d9-935c0ef5153a",
   "metadata": {},
   "outputs": [],
   "source": [
    "# the default value keeps working of course\n",
    "my_function('foo')"
   ]
  },
  {
   "cell_type": "code",
   "execution_count": null,
   "id": "14d2c6b0-1626-4915-aab4-d64d6b072b4c",
   "metadata": {},
   "outputs": [],
   "source": [
    "# and - as before - nothing is enforced!\n",
    "my_function([1, 2, 3])"
   ]
  },
  {
   "cell_type": "markdown",
   "id": "1354f523-2207-441b-b691-21778b91e813",
   "metadata": {},
   "source": [
    "### type unions"
   ]
  },
  {
   "cell_type": "code",
   "execution_count": null,
   "id": "92fbb716-5f29-4068-a1b8-d2e3ac7b7a99",
   "metadata": {},
   "outputs": [],
   "source": [
    "from typing import Union"
   ]
  },
  {
   "cell_type": "code",
   "execution_count": null,
   "id": "640e1546-9822-4510-a6f8-7775dc544bf3",
   "metadata": {},
   "outputs": [],
   "source": [
    "x: Union[str, float] = 3.14"
   ]
  },
  {
   "cell_type": "code",
   "execution_count": null,
   "id": "830abe1f-1af9-44dd-9a9a-d82ab9fb7344",
   "metadata": {},
   "outputs": [],
   "source": [
    "x: str | float = 3.14  # use `\\` instead of union (since python 3.10)"
   ]
  },
  {
   "cell_type": "code",
   "execution_count": null,
   "id": "70faefe2-8a98-4c36-9976-fbca57634ee3",
   "metadata": {},
   "outputs": [],
   "source": [
    "# you can also make it explicit that a value can be None\n",
    "def some_function(optional_integer: int | None) -> None:\n",
    "    if optional_integer is None:\n",
    "        print('I got nothin')"
   ]
  },
  {
   "cell_type": "code",
   "execution_count": null,
   "id": "7f1fb6a9-b48f-411f-943c-168a574b2dc3",
   "metadata": {},
   "outputs": [],
   "source": [
    "some_function(None)"
   ]
  },
  {
   "cell_type": "code",
   "execution_count": null,
   "id": "b90d6142-c839-4ed2-a8d4-f1efb7e30d9a",
   "metadata": {},
   "outputs": [],
   "source": [
    "some_function(5)"
   ]
  },
  {
   "cell_type": "code",
   "execution_count": null,
   "id": "8e56bc2d-7d27-4792-9d38-0a7a12f198eb",
   "metadata": {},
   "outputs": [],
   "source": [
    "# this is independent of a default value you might also give it\n",
    "# here we have it with default\n",
    "def some_function(optional_integer: int | None = None) -> None:\n",
    "    if optional_integer is None:\n",
    "        print('I got nothin')"
   ]
  },
  {
   "cell_type": "markdown",
   "id": "6138e791-7eef-4ae9-a94c-6f6981fabb8e",
   "metadata": {},
   "source": [
    "### using classes as types"
   ]
  },
  {
   "cell_type": "code",
   "execution_count": null,
   "id": "3fafa690-236b-43a5-a0b3-039e2f098be8",
   "metadata": {},
   "outputs": [],
   "source": [
    "class Car:\n",
    "    def __init__(self, make, model):\n",
    "        self.make = make\n",
    "        self.model = model\n",
    "\n",
    "    def describe(self):\n",
    "        print(f'This is a shiny new {self.make} {self.model}')\n",
    "\n",
    "def car_consumer(car: Car) -> None:\n",
    "    car."
   ]
  },
  {
   "cell_type": "code",
   "execution_count": null,
   "id": "e389eb7d-1359-4523-bbe2-172e19ba9143",
   "metadata": {},
   "outputs": [],
   "source": [
    "def car_factory(model: str) -> Car:\n",
    "    model_map = {\n",
    "        'Focus': 'Ford',\n",
    "        'TT': 'Audi'\n",
    "    }\n",
    "    return Car(model_map[model], model)"
   ]
  },
  {
   "cell_type": "code",
   "execution_count": null,
   "id": "8e4d1bc1-aa9e-4e60-bc7c-8948e0a80810",
   "metadata": {},
   "outputs": [],
   "source": [
    "car_factory('Focus')"
   ]
  },
  {
   "cell_type": "code",
   "execution_count": null,
   "id": "f16656db-9bd5-4608-8e1d-c6b866830a44",
   "metadata": {},
   "outputs": [],
   "source": [
    "car_factory('Focus')."
   ]
  },
  {
   "cell_type": "code",
   "execution_count": null,
   "id": "7c092948-157b-4b2d-9a8a-66844535fd22",
   "metadata": {},
   "outputs": [],
   "source": [
    "# what if you actually want the class as argument?\n",
    "class User: pass\n",
    "class TechnicalUser(User): pass\n",
    "class AdminUser(TechnicalUser): pass\n",
    "\n",
    "# this actually expects an **instance** of the class. But the function really wants the class!\n",
    "def user_factory(user_class: User) -> User:\n",
    "    pass\n",
    "\n",
    "# this does actually expect the class, and returns an instance!\n",
    "# thanks to inheritance subclasses are also subtypes, and hence also allowed here\n",
    "def user_factory(user_class: type[User]) -> User:\n",
    "    pass"
   ]
  },
  {
   "cell_type": "markdown",
   "id": "5cffb995-3bfe-4510-94d1-3249fa51263a",
   "metadata": {},
   "source": [
    "### Special Types\n",
    "**Type Aliases**"
   ]
  },
  {
   "cell_type": "code",
   "execution_count": null,
   "id": "397519ed-8dba-413e-b48a-4c12c8ad82a0",
   "metadata": {},
   "outputs": [],
   "source": [
    "# this is unreadable already, and just imagine you actually need this tye in multiple places\n",
    "# (which is common)\n",
    "def send_message(message: str, server: tuple[tuple[str, int], dict[str, str]]) -> None:\n",
    "    pass"
   ]
  },
  {
   "cell_type": "code",
   "execution_count": null,
   "id": "297345c7-cc16-4463-8f20-0313137d9e9b",
   "metadata": {},
   "outputs": [],
   "source": [
    "# define an alias simply using the assignment operator\n",
    "ConnectionOptions = dict[str, str]\n",
    "Address = tuple[str, int]\n",
    "Server = tuple[Address, ConnectionOptions]\n",
    "def send_message(message: str, server: Server) -> None:\n",
    "    pass"
   ]
  },
  {
   "cell_type": "code",
   "execution_count": null,
   "id": "fe231fdb-e13d-4acc-902d-105cd3cb7dda",
   "metadata": {},
   "outputs": [],
   "source": [
    "# you might want to annotate those aliases, to make it clear they are a type\n",
    "from typing import TypeAlias\n",
    "ConnectionOptions: TypeAlias = dict[str, str]"
   ]
  },
  {
   "cell_type": "markdown",
   "id": "e4ec9a10-9958-4af1-b95a-48235df80be9",
   "metadata": {},
   "source": [
    "**custom (semantic) types**"
   ]
  },
  {
   "cell_type": "code",
   "execution_count": null,
   "id": "98f61ecc-e022-410c-9f9d-738604576ca9",
   "metadata": {},
   "outputs": [],
   "source": [
    "from typing import NewType"
   ]
  },
  {
   "cell_type": "code",
   "execution_count": null,
   "id": "5bb1c28b-3183-4ff2-8c87-de35ae6b2a82",
   "metadata": {},
   "outputs": [],
   "source": [
    "# the only thing indicating user_id is not just any odd int, but a 'user_id' is the name\n",
    "# for the return value of the function that connection is ever more tenuous\n",
    "def get_user_name(user_id: int) -> str:\n",
    "    pass"
   ]
  },
  {
   "cell_type": "code",
   "execution_count": null,
   "id": "4ff33b61-14e6-40f9-b010-7d47389c9618",
   "metadata": {},
   "outputs": [],
   "source": [
    "# always derived from some 'base type'\n",
    "UserIDType = NewType('UserIDType', int)\n",
    "UserNameType = NewType('UserNameType', str)\n",
    "\n",
    "def get_user_name(user_id: UserIDType) -> UserNameType:\n",
    "    return UserNameType('Zaphod Beeblebrox')\n",
    "\n",
    "user_id = UserIDType(42)\n",
    "get_user_name(user_id)\n"
   ]
  },
  {
   "cell_type": "markdown",
   "id": "76c411d9-8182-4018-93f8-c0aa0d971c3d",
   "metadata": {},
   "source": [
    "**types for callables**"
   ]
  },
  {
   "cell_type": "code",
   "execution_count": null,
   "id": "528aa785-5f3d-4791-9d0d-15f27b9ed822",
   "metadata": {},
   "outputs": [],
   "source": [
    "# example from week 2\n",
    "def formatter(s):\n",
    "    return f'Hey, look at that! ==> \"{s}\"'\n",
    "\n",
    "def some_function(x, y, formatting_function):\n",
    "    my_text = f'The sum of {x} and {y} is {x + y}'\n",
    "    return formatting_function(my_text)\n",
    "\n",
    "some_function(3, 5, formatter)"
   ]
  },
  {
   "cell_type": "code",
   "execution_count": null,
   "id": "236efc26-2af8-42cf-a306-1585806602eb",
   "metadata": {},
   "outputs": [],
   "source": [
    "# annotating the formatter is easy\n",
    "def formatter(s: str) -> str:\n",
    "    return f'Hey, look at that! ==> \"{s}\"'"
   ]
  },
  {
   "cell_type": "code",
   "execution_count": null,
   "id": "35a63b83-4d2d-4a49-a3ae-861a4ddad7ba",
   "metadata": {},
   "outputs": [],
   "source": [
    "# but what about `some_function`, which has as function as an argument?\n",
    "from typing import Callable\n",
    "\n",
    "def some_function(x: int, y: int, formatting_function: Callable[[str], str]) -> str:\n",
    "    my_text = f'The sum of {x} and {y} is {x + y}'\n",
    "    return formatting_function(my_text)"
   ]
  },
  {
   "cell_type": "markdown",
   "id": "c9545a17-1a34-40ea-b8a3-406e5005a68d",
   "metadata": {},
   "source": [
    "`Callable`: the first 'argument' is the list of parameters of the function, the second is the return type!"
   ]
  },
  {
   "cell_type": "markdown",
   "id": "77d5a398-6864-4ed7-ba83-3bf8752711eb",
   "metadata": {
    "jp-MarkdownHeadingCollapsed": true
   },
   "source": [
    "## iterables, iterators, and generators and the like"
   ]
  },
  {
   "cell_type": "markdown",
   "id": "df24f4d1-ef44-460a-b26c-1e746d1eeaef",
   "metadata": {
    "jp-MarkdownHeadingCollapsed": true
   },
   "source": [
    "### iterables, iterators and their relationship\n",
    "- iterable: 'An object capable of returning its members one at a time.'\n",
    "  - so for example list, tuple, string, ...\n",
    "  - when calling the built-in `iter` on an `iterable`, what you get is an `iterator`\n",
    "- iterator: 'An object representing a stream of data'\n",
    "  - used internally in for loops, comprehensions, lopping over file contents, ...\n",
    "  - each iterator can only be traversed once\n",
    "  - there is **no need** to have the data in memory before or after an element is requested"
   ]
  },
  {
   "cell_type": "markdown",
   "id": "f8d6d7c8-1d40-4835-9e09-c3c2cc015e78",
   "metadata": {},
   "source": [
    "#### Basics"
   ]
  },
  {
   "cell_type": "code",
   "execution_count": null,
   "id": "236db230-163e-4575-bfc1-76a9694d713f",
   "metadata": {},
   "outputs": [],
   "source": [
    "my_list = [1, 2, 3]\n",
    "for element in my_list:\n",
    "    print(element)"
   ]
  },
  {
   "cell_type": "code",
   "execution_count": null,
   "id": "2d628e60-37c4-42b5-95dd-390f3c22109e",
   "metadata": {},
   "outputs": [],
   "source": [
    "iterator = iter(my_list)\n",
    "iterator"
   ]
  },
  {
   "cell_type": "code",
   "execution_count": null,
   "id": "29c95c5e-1a12-49b8-8660-d3f2cc74401a",
   "metadata": {},
   "outputs": [],
   "source": [
    "# calling `next` on the iterator returns the next value\n",
    "next(iterator)"
   ]
  },
  {
   "cell_type": "code",
   "execution_count": null,
   "id": "004bd295-50fb-410c-b0bb-f67dd7b91de5",
   "metadata": {},
   "outputs": [],
   "source": [
    "next(iterator)"
   ]
  },
  {
   "cell_type": "code",
   "execution_count": null,
   "id": "05007b66-6d58-4540-80b2-e15a5767d201",
   "metadata": {},
   "outputs": [],
   "source": [
    "next(iterator)"
   ]
  },
  {
   "cell_type": "code",
   "execution_count": null,
   "id": "1871cbc0-a83c-4e45-8cfc-fd07136a6242",
   "metadata": {},
   "outputs": [],
   "source": [
    "# if the iterator is `exhausted` (no more elements to return) it raises `StopIteration`\n",
    "next(iterator)"
   ]
  },
  {
   "cell_type": "code",
   "execution_count": null,
   "id": "1f174a38-3791-4a56-8e43-70a290950062",
   "metadata": {},
   "outputs": [],
   "source": [
    "# re-building the above for loop by hand\n",
    "my_list = [1, 2, 3]\n",
    "iterator = iter(my_list)\n",
    "while True:\n",
    "    try:\n",
    "        print(next(iterator))\n",
    "    except StopIteration:\n",
    "        print('Iterator is exhausted')\n",
    "        break"
   ]
  },
  {
   "cell_type": "code",
   "execution_count": null,
   "id": "89709da6-a9cf-42d3-87d7-5f217124b6e3",
   "metadata": {},
   "outputs": [],
   "source": [
    "# can only use iterator once, it remains exhausted (and I should have deleted it in the exception handler above)\n",
    "next(iterator)"
   ]
  },
  {
   "cell_type": "code",
   "execution_count": null,
   "id": "2b4e2762-f273-4a44-a302-6b742eda68d7",
   "metadata": {},
   "outputs": [],
   "source": [
    "# another way of showing exaustion of the iterator\n",
    "iterator = iter(my_list)\n",
    "for elem in iterator:\n",
    "    print(elem)\n",
    "for elem in iterator:\n",
    "    print(elem)"
   ]
  },
  {
   "cell_type": "markdown",
   "id": "ed86e972-97ab-4a68-b920-6eb1b9845742",
   "metadata": {},
   "source": [
    "#### Building your own"
   ]
  },
  {
   "cell_type": "code",
   "execution_count": null,
   "id": "97a5612a-8cfd-468d-8d9b-8a6929024545",
   "metadata": {},
   "outputs": [],
   "source": [
    "import requests"
   ]
  },
  {
   "cell_type": "code",
   "execution_count": null,
   "id": "28170095-387c-4960-8e0d-1118cde65174",
   "metadata": {},
   "outputs": [],
   "source": [
    "# Iterables implement `__iter__` and iterators implement `__iter__` and `__next__`\n",
    "class TitanicPassengers:\n",
    "    def __iter__(self):\n",
    "        return TitanicIterator()\n",
    "\n",
    "class TitanicIterator:\n",
    "    def __init__(self):\n",
    "        self.index = 0\n",
    "\n",
    "    def __iter__(self):\n",
    "        return self\n",
    "\n",
    "    def __next__(self):\n",
    "        response = requests.get(f'http://127.0.0.1:3333/passenger/{self.index}')\n",
    "        if response.ok:\n",
    "            self.index += 1\n",
    "            return response.json()\n",
    "        else:\n",
    "            raise StopIteration"
   ]
  },
  {
   "cell_type": "code",
   "execution_count": null,
   "id": "f2438090-a141-46a9-a341-aea3e40ac639",
   "metadata": {},
   "outputs": [],
   "source": [
    "for passenger in TitanicPassengers():\n",
    "    print(passenger['Name'])"
   ]
  },
  {
   "cell_type": "code",
   "execution_count": null,
   "id": "19cfa009-042e-4f24-a394-ac95bb0ef7cd",
   "metadata": {},
   "outputs": [],
   "source": [
    "passenger"
   ]
  },
  {
   "cell_type": "code",
   "execution_count": null,
   "id": "047379a6-5e46-4d13-8a39-bf86b68a3e0c",
   "metadata": {},
   "outputs": [],
   "source": [
    "iter(TitanicPassengers())  # gives us our Iterator"
   ]
  },
  {
   "cell_type": "code",
   "execution_count": null,
   "id": "3c127bce-c814-452f-8b0d-7f29ec999cd4",
   "metadata": {},
   "outputs": [],
   "source": [
    "# waaaait a second, that's super lengthy, and we already saw an easier form, just implementing __getitem__\n",
    "class OldfashionedTitanicPassengers:\n",
    "    def __getitem__(self, index):\n",
    "        response = requests.get(f'http://127.0.0.1:3333/passenger/{index}')\n",
    "        if response.ok:\n",
    "            return response.json()\n",
    "        else:\n",
    "            raise IndexError"
   ]
  },
  {
   "cell_type": "code",
   "execution_count": null,
   "id": "3e943563-f116-418f-a640-604284e96c37",
   "metadata": {},
   "outputs": [],
   "source": [
    "for passenger in OldfashionedTitanicPassengers():\n",
    "    print(passenger['Name'])"
   ]
  },
  {
   "cell_type": "code",
   "execution_count": null,
   "id": "62af09c3-19c6-482d-b36a-1ac2cc983ae4",
   "metadata": {},
   "outputs": [],
   "source": [
    "iter(OldfashionedTitanicPassengers())  # gives us a 'generic' iterator"
   ]
  },
  {
   "cell_type": "markdown",
   "id": "4b4fa3ef-d5b9-4c8b-b42f-2303ef493a15",
   "metadata": {},
   "source": [
    "**Summary**\n",
    "- Iterables have to implement `__iter__`, returning an `iterator`\n",
    "- `iterator`s have to implement `__iter__` and `__next__`, returning `self` and the next element respectively\n",
    "- ...\n",
    "- **except** if the iterable implements only `__getitem__` then `iter` will automatically construct the iterator for you\n",
    "- but this is legacy behaviour, you /should/ use `__iter__`.\n",
    "- but that's annoying, because we have to have a whole class for the `iterator` that doesn't do anything interesting"
   ]
  },
  {
   "cell_type": "markdown",
   "id": "2a66b6f9-7156-43b1-b9df-c3e71bfa6350",
   "metadata": {
    "jp-MarkdownHeadingCollapsed": true
   },
   "source": [
    "### generator functions to the rescue\n",
    "- any function that has the `yield` keyword in it's body is called a `generator function`\n",
    "- calling a generator function immediately returns a `generator`\n",
    "- and `generator`s are pretty much the same as `iterator`s above\n",
    "- `yield` is sort of like a `return` for the `generator` -- execution continues after the last `yield` if `next` is called on the `generator`\n",
    "- any (explicit or implicit) `return` in the generator actually raises `StopIteration`"
   ]
  },
  {
   "cell_type": "code",
   "execution_count": null,
   "id": "002fa8b4-11cf-45c9-841c-887a4914051e",
   "metadata": {},
   "outputs": [],
   "source": [
    "def generate_123():\n",
    "    print('start')\n",
    "    yield 1\n",
    "    print('in between')\n",
    "    yield 2\n",
    "    print('still in between')\n",
    "    yield 3\n",
    "    print('now we\\'re done')"
   ]
  },
  {
   "cell_type": "code",
   "execution_count": null,
   "id": "074eb7dd-8770-44fd-b2d0-d27ace813719",
   "metadata": {},
   "outputs": [],
   "source": [
    "generator = generate_123()\n",
    "generator"
   ]
  },
  {
   "cell_type": "code",
   "execution_count": null,
   "id": "58c0f090-3d18-4bdd-83a5-88f7d2772ad6",
   "metadata": {},
   "outputs": [],
   "source": [
    "next(generator)"
   ]
  },
  {
   "cell_type": "code",
   "execution_count": null,
   "id": "df4ba763-a0a5-4018-a784-e4f8af836f06",
   "metadata": {},
   "outputs": [],
   "source": [
    "next(generator)"
   ]
  },
  {
   "cell_type": "code",
   "execution_count": null,
   "id": "fa098751-6eed-4e4b-b274-bb5e5afbb6b4",
   "metadata": {},
   "outputs": [],
   "source": [
    "next(generator)"
   ]
  },
  {
   "cell_type": "code",
   "execution_count": null,
   "id": "2c1e216f-89e3-4ec9-9c21-eb9101a9048e",
   "metadata": {},
   "outputs": [],
   "source": [
    "next(generator)"
   ]
  },
  {
   "cell_type": "code",
   "execution_count": null,
   "id": "7d3b7c29-24ab-4d5e-9600-951af7fae437",
   "metadata": {},
   "outputs": [],
   "source": [
    "for element in generate_123():\n",
    "    print(element)"
   ]
  },
  {
   "cell_type": "code",
   "execution_count": null,
   "id": "ab25a49c-9768-4f8f-9237-36184dd498cf",
   "metadata": {},
   "outputs": [],
   "source": [
    "# so let's re-do our Titanic example using generator functions\n",
    "class TitanicPassengerGenerator:\n",
    "    def __iter__(self):\n",
    "        index = 0  # since this is a generator function, the value is preserved between successive 'calls' (without explicit closure)\n",
    "        while True:\n",
    "            response = requests.get(f'http://127.0.0.1:3333/passenger/{index}')\n",
    "            if response.ok:\n",
    "                index += 1\n",
    "                yield response.json()\n",
    "            else:\n",
    "                break"
   ]
  },
  {
   "cell_type": "code",
   "execution_count": null,
   "id": "8e8c910e-6e58-4cd5-845a-8b9ec7f586b9",
   "metadata": {},
   "outputs": [],
   "source": [
    "for passenger in TitanicPassengerGenerator():\n",
    "    print(passenger['Name'])"
   ]
  },
  {
   "cell_type": "code",
   "execution_count": null,
   "id": "3b82880b-6651-4d7f-a80c-c518683570af",
   "metadata": {},
   "outputs": [],
   "source": [
    "iter(TitanicPassengerGenerator())  # what we get from calling `iter` is a `generator object`"
   ]
  },
  {
   "cell_type": "markdown",
   "id": "075447ca-6c22-4239-a547-85fe734572cb",
   "metadata": {
    "jp-MarkdownHeadingCollapsed": true
   },
   "source": [
    "### `yield from` as shortcut for nesting generators\n",
    "- yield from gets an **iterator** from the thing to the right of it\n",
    "- it then keeps yielding from that iterator until the iterator is exhausted\n",
    "- during this time the outer function is effectively suspended\n",
    "- after the iterator is exhausted execution continues in the outer function"
   ]
  },
  {
   "cell_type": "code",
   "execution_count": null,
   "id": "46ddb2d7-6134-41d7-9f34-add7ea427962",
   "metadata": {},
   "outputs": [],
   "source": [
    "def my_generator():\n",
    "    yield from 'ABC'\n",
    "    yield from range(3)"
   ]
  },
  {
   "cell_type": "code",
   "execution_count": null,
   "id": "a8829a98-9007-4d39-8eb8-11dc00502610",
   "metadata": {},
   "outputs": [],
   "source": [
    "for element in my_generator():\n",
    "    print(element)"
   ]
  },
  {
   "cell_type": "code",
   "execution_count": null,
   "id": "3131fcd0-01ac-4f66-89aa-6c978f585404",
   "metadata": {},
   "outputs": [],
   "source": [
    "# a more interesting example (from the python cookbook, https://github.com/dabeaz/python-cookbook/blob/master/src/4/how_to_flatten_a_nested_sequence/example.py)\n",
    "from collections.abc import Iterable\n",
    "\n",
    "def flatten(items):\n",
    "    for x in items:\n",
    "        if isinstance(x, Iterable):\n",
    "            yield from flatten(x)\n",
    "        else:\n",
    "            yield x"
   ]
  },
  {
   "cell_type": "code",
   "execution_count": null,
   "id": "38001539-99ba-4e9e-8537-be5d74106776",
   "metadata": {},
   "outputs": [],
   "source": [
    "items = [1, 2, [3, 4, [5, 6], 7], 8]\n",
    "items"
   ]
  },
  {
   "cell_type": "code",
   "execution_count": null,
   "id": "7f5289fb-28db-4274-8f62-074c329b2016",
   "metadata": {},
   "outputs": [],
   "source": [
    "flat_items = flatten(items)\n",
    "flat_items"
   ]
  },
  {
   "cell_type": "code",
   "execution_count": null,
   "id": "75f0f088-5f00-48bd-8ce2-fe95cacafe86",
   "metadata": {},
   "outputs": [],
   "source": [
    "list(flat_items)"
   ]
  },
  {
   "cell_type": "markdown",
   "id": "dc6a9a65-9b37-4ffb-b01a-960eb1ff5fee",
   "metadata": {
    "jp-MarkdownHeadingCollapsed": true
   },
   "source": [
    "### and generator expressions"
   ]
  },
  {
   "cell_type": "code",
   "execution_count": null,
   "id": "41e502dc-755f-4bb1-adfa-512fa6baf8d4",
   "metadata": {},
   "outputs": [],
   "source": [
    "# we all remember list comprehensions\n",
    "# list comprehensions realize the list in memory upon execution\n",
    "out1 = [element*3 for element in generate_123()]"
   ]
  },
  {
   "cell_type": "code",
   "execution_count": null,
   "id": "92228e4b-a0ba-47ea-9429-fb30d93b0bb1",
   "metadata": {},
   "outputs": [],
   "source": [
    "out1"
   ]
  },
  {
   "cell_type": "code",
   "execution_count": null,
   "id": "8e4db6a9-7e72-446b-9b57-7bf623106a55",
   "metadata": {},
   "outputs": [],
   "source": [
    "# what looks like a 'tuple expression' is in reality a `generator expression`\n",
    "out2 = (element*3 for element in generate_123())  # function was not actually called!?"
   ]
  },
  {
   "cell_type": "code",
   "execution_count": null,
   "id": "6bd02248-6574-4832-87b6-739b908da39b",
   "metadata": {},
   "outputs": [],
   "source": [
    "out2  # out2 is a 'generator object', just like what we got above for the titanic example"
   ]
  },
  {
   "cell_type": "code",
   "execution_count": null,
   "id": "2c7f9fe7-ea5d-4c7c-8488-a8f72bef2806",
   "metadata": {},
   "outputs": [],
   "source": [
    "for elem in out2:  # \n",
    "    print(elem)"
   ]
  },
  {
   "cell_type": "code",
   "execution_count": null,
   "id": "258c742d-2a8c-4821-90e0-f3e2deb9c5ee",
   "metadata": {},
   "outputs": [],
   "source": [
    "# also possible the other way round\n",
    "my_iterator = (3*x for x in [1, 2, 3])\n",
    "my_iterator"
   ]
  },
  {
   "cell_type": "code",
   "execution_count": null,
   "id": "3f14b461-84e5-4e95-b973-31e995f5b599",
   "metadata": {},
   "outputs": [],
   "source": [
    "# and we can also just return those objects in `__iter__`\n",
    "class MyIterable:\n",
    "    def __iter__(self):\n",
    "        return (3*x for x in [1, 2, 3])"
   ]
  },
  {
   "cell_type": "code",
   "execution_count": null,
   "id": "69226cfe-69ff-4847-ae36-059a2240577b",
   "metadata": {},
   "outputs": [],
   "source": [
    "for element in MyIterable():\n",
    "    print(element)"
   ]
  },
  {
   "cell_type": "code",
   "execution_count": null,
   "id": "e2110672-b19e-4801-983e-8c97978f1834",
   "metadata": {},
   "outputs": [],
   "source": [
    "# itertools gives us all kinds of nifty built-in generator functionality\n",
    "import itertools"
   ]
  },
  {
   "cell_type": "code",
   "execution_count": null,
   "id": "e08c0f60-4033-4f0a-a893-b58454422dc7",
   "metadata": {},
   "outputs": [],
   "source": [
    "# now we understand why I always needed `list` in those examples\n",
    "list(itertools.combinations('ABC', 2))"
   ]
  },
  {
   "cell_type": "code",
   "execution_count": null,
   "id": "54d254b2-aecc-44f0-8648-552ad760dcf8",
   "metadata": {},
   "outputs": [],
   "source": [
    "abc_combinations = itertools.combinations('ABC', 2)\n",
    "abc_combinations"
   ]
  },
  {
   "cell_type": "code",
   "execution_count": null,
   "id": "cfbb891b-a880-44b1-82c0-ac9afba53b19",
   "metadata": {},
   "outputs": [],
   "source": [
    "next(abc_combinations)"
   ]
  },
  {
   "cell_type": "code",
   "execution_count": null,
   "id": "94fd5fb4-c7f3-4213-b5e9-7bc0b38b811a",
   "metadata": {},
   "outputs": [],
   "source": [
    "next(abc_combinations)"
   ]
  },
  {
   "cell_type": "code",
   "execution_count": null,
   "id": "257ebc13-9519-48ea-903d-a4b0fc4d607e",
   "metadata": {},
   "outputs": [],
   "source": [
    "next(abc_combinations)"
   ]
  },
  {
   "cell_type": "code",
   "execution_count": null,
   "id": "1d946a54-c70b-4410-bcdb-37252a866f99",
   "metadata": {},
   "outputs": [],
   "source": [
    "next(abc_combinations)"
   ]
  },
  {
   "cell_type": "markdown",
   "id": "cd1e6567-26ca-48f3-ac64-891a08020cf0",
   "metadata": {
    "jp-MarkdownHeadingCollapsed": true
   },
   "source": [
    "### passing data into generators ('coroutines')\n",
    "- Coroutines are a more generalized form of functions. Functions are entered at one point and exited at another point. Coroutines can be entered, exited, and resumed at many different points."
   ]
  },
  {
   "cell_type": "code",
   "execution_count": null,
   "id": "488a260c-c7db-43e6-99f8-b8890bc5ee4b",
   "metadata": {},
   "outputs": [],
   "source": [
    "# instead, the keyword here is nonlocal!\n",
    "def make_averager_nonlocal():\n",
    "    count = 0\n",
    "    total = 0\n",
    "    def averager(new_value):\n",
    "        nonlocal count, total\n",
    "        count += 1\n",
    "        total += new_value\n",
    "        return total / count\n",
    "    return averager"
   ]
  },
  {
   "cell_type": "code",
   "execution_count": null,
   "id": "ef756b5b-3d94-4877-8874-667bc8359863",
   "metadata": {},
   "outputs": [],
   "source": [
    "my_averager_global = make_averager_nonlocal()\n",
    "my_averager_global(10)\n",
    "my_averager_global(11)\n",
    "my_averager_global(12)\n",
    "my_averager_global(13)"
   ]
  },
  {
   "cell_type": "code",
   "execution_count": null,
   "id": "3b2fcd96-f873-4a00-95e3-fce586e0dbe8",
   "metadata": {},
   "outputs": [],
   "source": [
    "def make_coro_averager():\n",
    "    count = 0\n",
    "    total = 0\n",
    "    new_value = yield None\n",
    "    while True:\n",
    "        total += new_value\n",
    "        count += 1\n",
    "        new_value = yield total / count"
   ]
  },
  {
   "cell_type": "code",
   "execution_count": null,
   "id": "ff362adc-00cf-4360-bd0a-674bd1d6212c",
   "metadata": {},
   "outputs": [],
   "source": [
    "my_coro_averager = make_coro_averager()\n",
    "next(my_coro_averager)  # priming the co-routine"
   ]
  },
  {
   "cell_type": "code",
   "execution_count": null,
   "id": "ee582c8a-fffa-4509-8467-c9f2cd4eb419",
   "metadata": {},
   "outputs": [],
   "source": [
    "my_coro_averager.send(10)\n",
    "my_coro_averager.send(11)\n",
    "my_coro_averager.send(12)\n",
    "my_coro_averager.send(13)"
   ]
  },
  {
   "cell_type": "code",
   "execution_count": null,
   "id": "73508ccc-04a2-45f2-8949-3db4b2ca8494",
   "metadata": {},
   "outputs": [],
   "source": [
    "# priming is necessary, can't send before priming"
   ]
  },
  {
   "cell_type": "code",
   "execution_count": null,
   "id": "d95a4098-5992-4430-86fa-d059a7f38e59",
   "metadata": {},
   "outputs": [],
   "source": [
    "my_coro_averager = make_coro_averager()\n",
    "my_coro_averager.send(10)"
   ]
  },
  {
   "cell_type": "code",
   "execution_count": null,
   "id": "80784000-f001-415c-99fc-1693774faed2",
   "metadata": {},
   "outputs": [],
   "source": [
    "my_coro_averager = make_coro_averager()\n",
    "my_coro_averager.send(None)  # can also prime by `send`ing `None`\n",
    "my_coro_averager.send(10)\n",
    "my_coro_averager.send(11)\n",
    "my_coro_averager.send(12)\n",
    "my_coro_averager.send(13)"
   ]
  },
  {
   "cell_type": "code",
   "execution_count": null,
   "id": "32158f66-7963-4a6e-917f-aa0f8b84df22",
   "metadata": {},
   "outputs": [],
   "source": [
    "my_coro_averager = make_coro_averager()\n",
    "my_coro_averager.send(None)  # prime the coroutine\n",
    "try:\n",
    "    my_coro_averager.send('foo')  # exceptions terminate the coroutine execution\n",
    "except TypeError:\n",
    "    print('There was an exception in the coroutine')"
   ]
  },
  {
   "cell_type": "code",
   "execution_count": null,
   "id": "6f6c5ee5-9512-4e2d-88c3-a45ff7c148d7",
   "metadata": {},
   "outputs": [],
   "source": [
    "# so I can't use it any further, trying to do so raises `StopIteration` (indicating the coroutine is exhausted\n",
    "my_coro_averager.send(10)"
   ]
  },
  {
   "cell_type": "code",
   "execution_count": null,
   "id": "82d6c527-c3ea-479c-a85e-f57caff48c6f",
   "metadata": {},
   "outputs": [],
   "source": [
    "# calling `next` is the same as `send(None)`\n",
    "my_coro_averager = make_coro_averager()\n",
    "next(my_coro_averager)  # priming, advance to the first yield\n",
    "next(my_coro_averager)  # continue from the first yield, with an implicit `None` assigned to the variable"
   ]
  },
  {
   "cell_type": "markdown",
   "id": "fc6a9d70-3ec9-4c7d-ac09-a6bf354fc0c9",
   "metadata": {},
   "source": [
    "### Summary\n",
    "- to make an object **iterable** it should implement the `__iter__` method, and return an **iterator** from that method\n",
    "- you get an iterator from an iterable using `iter(iterable)`\n",
    "- you get elements from the iterator using `next(iterator)`\n",
    "- there are different flavours of iterators:\n",
    "  - explicit iterators, objects that implement `__next__` (and `__iter__`).\n",
    "  - generator functions, functions that have `yield` somewhere in their body automatically return a `generator` (which is a a flavour of an iterator)\n",
    "  - `generator expressions`\n",
    "- Explicitly implementing your own iterator is almost never necessary\n",
    "- generator functions suspend whenever they encounter `yield`, and pick up execution from that point whenever they are advanced again using `next`\n",
    "- You can use generators as coroutines (allowing you to send data into them) using `<name> = yield <value>`\n",
    "  - you have to prime these coroutines with an initial call to `next` (or `send(None)`)\n",
    "  - after priming you feed data into them using `send` (and get intermediate results back from the `yield`)"
   ]
  },
  {
   "cell_type": "markdown",
   "id": "1b68322f-a478-4ff7-be36-abf753f4d032",
   "metadata": {},
   "source": [
    "<div class=\"alert alert-block alert-info\">\n",
    "<b>Reminder:</b> <br>\n",
    "<a>\n",
    "    the `itertools` is all about generators with lots of built-in functionality for those\n",
    "</a>\n",
    "</div>"
   ]
  },
  {
   "cell_type": "markdown",
   "id": "87331441-9beb-4549-b498-bfffffa5e1b7",
   "metadata": {},
   "source": [
    "<div class=\"alert alert-block alert-info\">\n",
    "<b>Outlook:</b> <br>\n",
    "<a>\n",
    "    understanding 'simple' co-routines is important for later understanding 'asynchronous' co-routines and the functionality of `async`/`await` and the `asyncio` package <br>\n",
    "    unfortunately, there are many subtleties to sub-generators using `yield from` that go beyond the material discussed here\n",
    "</a>\n",
    "</div>"
   ]
  }
 ],
 "metadata": {
  "kernelspec": {
   "display_name": "dhbw",
   "language": "python",
   "name": "dhbw"
  },
  "language_info": {
   "codemirror_mode": {
    "name": "ipython",
    "version": 3
   },
   "file_extension": ".py",
   "mimetype": "text/x-python",
   "name": "python",
   "nbconvert_exporter": "python",
   "pygments_lexer": "ipython3",
   "version": "3.11.0"
  }
 },
 "nbformat": 4,
 "nbformat_minor": 5
}
