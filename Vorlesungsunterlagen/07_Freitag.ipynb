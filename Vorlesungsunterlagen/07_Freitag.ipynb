{
 "cells": [
  {
   "cell_type": "markdown",
   "id": "0cacfa71-7f50-451c-b086-d510d0f47f68",
   "metadata": {},
   "source": [
    "# standard library -- continued\n",
    "- a large numer of packages\n",
    "- comes with the python installation, no need to install anything separately\n",
    "- [python docs](https://docs.python.org/3/library/index.html)"
   ]
  },
  {
   "cell_type": "code",
   "execution_count": null,
   "id": "b519871a-2895-4552-bee3-c6ba042106fb",
   "metadata": {
    "scrolled": true
   },
   "outputs": [],
   "source": [
    "# poor mans progress bar...\n",
    "for _ in range(100):\n",
    "    print('.', end='')"
   ]
  },
  {
   "cell_type": "code",
   "execution_count": null,
   "id": "9bec5cb4-a88b-474b-a46a-000c2c90e37c",
   "metadata": {},
   "outputs": [],
   "source": [
    "help(print)"
   ]
  },
  {
   "cell_type": "markdown",
   "id": "feb684a4-ba45-4602-a323-c95ef07f11fa",
   "metadata": {
    "jp-MarkdownHeadingCollapsed": true
   },
   "source": [
    "## mathemtical things"
   ]
  },
  {
   "cell_type": "markdown",
   "id": "88e3b6ee-fb45-426b-a01c-4cc4c3af3e7a",
   "metadata": {
    "jp-MarkdownHeadingCollapsed": true
   },
   "source": [
    "### math & cmath\n",
    "- `math` all the mathematical functions defined in C99 for real numbers\n",
    "- `cmath` all the mathematical functions defined in C99 for complex numbers"
   ]
  },
  {
   "cell_type": "markdown",
   "id": "597aea73-a868-44ec-8bfa-3c013bf48cfc",
   "metadata": {},
   "source": [
    "- rounding: `trunc`, `floor`, `ceil`, ...\n",
    "- combinatorics: `comb`, `perm`, ...\n",
    "- integer arithmetics: `factorial`, `gcd`, `lcm`, ...\n",
    "- (float) modulo: `fmod` (watch out, different from `%`)\n",
    "- trigonometry: `sin`, `cos`, `tan`, `asin`, `acos`, `atan`, `sinh`, `cosh`, `tanh`, `asinh`, `acosh`, `atanh`\n",
    "- angles: `degrees`, `radians` for conversion\n",
    "- log and exp: `exp`, `exp2`, `log`, `log2`, `log10`, `pow`, ...\n",
    "- special functions: `erf`, `gamma`, ...\n",
    "- value tests: `isinf`, `isfinite`, `isnan`\n",
    "- constants: `pi`, `e`, `tau`, `nan`, `inf`"
   ]
  },
  {
   "cell_type": "code",
   "execution_count": null,
   "id": "c221f087-58f7-44dc-acaa-038e4edc8f87",
   "metadata": {},
   "outputs": [],
   "source": [
    "math.inf == float('inf')"
   ]
  },
  {
   "cell_type": "code",
   "execution_count": null,
   "id": "9b8b3ed7-364d-435f-9e34-8e3a29b685ab",
   "metadata": {},
   "outputs": [],
   "source": [
    "math.nan == float('nan')"
   ]
  },
  {
   "cell_type": "code",
   "execution_count": null,
   "id": "729e8e67-1592-454f-9060-798cde8da70e",
   "metadata": {},
   "outputs": [],
   "source": [
    "math.comb(7, 3)   # 7 choose 3 without order"
   ]
  },
  {
   "cell_type": "code",
   "execution_count": null,
   "id": "cf27cc32-d00e-420c-88e2-8f951fc13da9",
   "metadata": {},
   "outputs": [],
   "source": [
    "math.perm(7, 3)  # 7 choose 3 with order"
   ]
  },
  {
   "cell_type": "code",
   "execution_count": null,
   "id": "37a3dc09-4deb-4fe5-852e-27462108cc81",
   "metadata": {},
   "outputs": [],
   "source": [
    "math.cos(math.pi)"
   ]
  },
  {
   "cell_type": "code",
   "execution_count": null,
   "id": "a395b175-88ca-42c3-a086-c1223efa63a8",
   "metadata": {},
   "outputs": [],
   "source": [
    "math.acos(-1)"
   ]
  },
  {
   "cell_type": "code",
   "execution_count": null,
   "id": "99315a55-d8d9-43b0-95bc-bc1bb98539f6",
   "metadata": {},
   "outputs": [],
   "source": [
    "math.acos(1)"
   ]
  },
  {
   "cell_type": "code",
   "execution_count": null,
   "id": "d4737389-53bf-4c70-a8c8-13db4642aa3a",
   "metadata": {},
   "outputs": [],
   "source": [
    "math.acos(0)"
   ]
  },
  {
   "cell_type": "code",
   "execution_count": null,
   "id": "e7bacc34-fa69-40f0-b7d9-af20cc31661a",
   "metadata": {},
   "outputs": [],
   "source": [
    "cmath.exp(math.pi*1j)"
   ]
  },
  {
   "cell_type": "markdown",
   "id": "e0fe304a-7611-4507-acc0-cea2b48f71d2",
   "metadata": {
    "jp-MarkdownHeadingCollapsed": true
   },
   "source": [
    "### random\n",
    "- generate pseudorandom numbers from various distributions, and related functions\n",
    "- pseudorandom numbers are **not** suitable for cryptographic applications! take a look at `secrets` or 3rd party libraries\n",
    "- for matrices (or otherwise large arrays) of random numbers and additional distributions look into `numpy` and `scipy`"
   ]
  },
  {
   "cell_type": "markdown",
   "id": "e0543785-63a6-4d53-b2be-afffa0b57d51",
   "metadata": {},
   "source": [
    "- `random.seed`: set the seed for pseudorandom generator (same seed = same sequence will be generated)\n",
    "- `random.randrange` - random element from range\n",
    "- `random.randint` - uniform random int between min and max (both inclusive!)\n",
    "- `random.random` - uniform floating point between 0 (inclusive) and 1 (exclusive)\n",
    "- `random.uniform` - uniform floating point between min and max\n",
    "- `random.gauss` - normal distribution\n",
    "- `random.choice` - return random element from sequence\n",
    "- `random.shuffle` - shuffle sequence in-place\n",
    "- `random.sample` - return k elements from sequence without replacement"
   ]
  },
  {
   "cell_type": "code",
   "execution_count": null,
   "id": "9d27fddd-e8cf-4d2b-be0b-ad06756a3fcf",
   "metadata": {},
   "outputs": [],
   "source": [
    "import random, string"
   ]
  },
  {
   "cell_type": "code",
   "execution_count": null,
   "id": "f628639d-0db8-489a-8834-a75c660e54e1",
   "metadata": {},
   "outputs": [],
   "source": [
    "random.seed(42)"
   ]
  },
  {
   "cell_type": "code",
   "execution_count": null,
   "id": "bef53890-9bfb-43f4-869d-2591e18faca9",
   "metadata": {},
   "outputs": [],
   "source": [
    "random.randint(1, 10)"
   ]
  },
  {
   "cell_type": "code",
   "execution_count": null,
   "id": "75ae3c1e-bbfa-4e30-9c87-6549656f7512",
   "metadata": {},
   "outputs": [],
   "source": [
    "random.choice(string.ascii_lowercase)"
   ]
  },
  {
   "cell_type": "code",
   "execution_count": null,
   "id": "ba667212-84ee-4a13-af62-d2b3bb52e463",
   "metadata": {},
   "outputs": [],
   "source": [
    "random.choice(['abc', 'def', 'ghi'])"
   ]
  },
  {
   "cell_type": "code",
   "execution_count": null,
   "id": "5d6149da-e90a-4762-9690-3152ee022edf",
   "metadata": {},
   "outputs": [],
   "source": [
    "random.sample(string.ascii_lowercase, 5)"
   ]
  },
  {
   "cell_type": "code",
   "execution_count": null,
   "id": "ca9972ef-8340-4966-8ce5-61505c849e41",
   "metadata": {},
   "outputs": [],
   "source": [
    "from matplotlib import pyplot as plt\n",
    "%matplotlib inline"
   ]
  },
  {
   "cell_type": "code",
   "execution_count": null,
   "id": "4bbfab54-0640-44a5-b164-091d13172e36",
   "metadata": {},
   "outputs": [],
   "source": [
    "uniform_data = [random.uniform(-1, 1) for _ in range(100000)]\n",
    "normal_data = [random.gauss() for _ in range(100000)]\n",
    "\n",
    "plt.hist(normal_data, bins=100, range=(-4, 4), alpha=0.5);\n",
    "plt.hist(uniform_data, bins=100, range=(-4, 4), alpha=0.5);"
   ]
  },
  {
   "cell_type": "markdown",
   "id": "fdf33010-fbe5-44d4-8e56-b531013ed55b",
   "metadata": {
    "jp-MarkdownHeadingCollapsed": true
   },
   "source": [
    "### decimal\n",
    "- decimal numbers with configurable precision\n",
    "- 'exact' within that precision\n",
    "- useful particularly for e.g. accounting"
   ]
  },
  {
   "cell_type": "code",
   "execution_count": null,
   "id": "3b5f53b7-1a2e-433f-8a71-a83704c31eed",
   "metadata": {},
   "outputs": [],
   "source": [
    "import decimal"
   ]
  },
  {
   "cell_type": "code",
   "execution_count": null,
   "id": "6c187b28-7f2a-4c8c-8202-3b58ea1e826a",
   "metadata": {},
   "outputs": [],
   "source": [
    "0.1 + 0.1 + 0.1 - 0.3"
   ]
  },
  {
   "cell_type": "code",
   "execution_count": null,
   "id": "656d415a-3dd9-48ae-b0a1-b7a2c5dc6077",
   "metadata": {},
   "outputs": [],
   "source": [
    "decimal.Decimal(0.1) + decimal.Decimal(0.1) + decimal.Decimal(0.1) - decimal.Decimal(0.3)"
   ]
  },
  {
   "cell_type": "code",
   "execution_count": null,
   "id": "00e148a5-faca-48e3-b655-93452ced17c7",
   "metadata": {},
   "outputs": [],
   "source": [
    "decimal.Decimal('0.1') + decimal.Decimal('0.1') + decimal.Decimal('0.1') - decimal.Decimal('0.3')"
   ]
  },
  {
   "cell_type": "code",
   "execution_count": null,
   "id": "13ab825f-a284-4348-926e-6cac0be03076",
   "metadata": {},
   "outputs": [],
   "source": [
    "with decimal.localcontext(traps=[decimal.FloatOperation]):\n",
    "    decimal.Decimal(0.1)"
   ]
  },
  {
   "cell_type": "code",
   "execution_count": null,
   "id": "288391e5-af4a-40ed-9080-4375379bb358",
   "metadata": {},
   "outputs": [],
   "source": [
    "# significance\n",
    "decimal.Decimal('1.50') + decimal.Decimal('1.50')"
   ]
  },
  {
   "cell_type": "code",
   "execution_count": null,
   "id": "cdcc94f9-ce3e-4166-ac09-339b647b9092",
   "metadata": {},
   "outputs": [],
   "source": [
    "# setting precision\n",
    "with decimal.localcontext(prec=3):\n",
    "    print(decimal.Decimal('1.23456'))\n",
    "    print(decimal.Decimal(1) / decimal.Decimal(7))\n",
    "    print(decimal.Decimal('1.23456') + decimal.Decimal('1.23456'))"
   ]
  },
  {
   "cell_type": "code",
   "execution_count": null,
   "id": "7fba3897-64a5-4ea5-bc0d-4534a8577517",
   "metadata": {},
   "outputs": [],
   "source": [
    "# setting precision\n",
    "with decimal.localcontext(prec=345):\n",
    "    print(decimal.Decimal(1) / decimal.Decimal(7))"
   ]
  },
  {
   "cell_type": "markdown",
   "id": "75956d4d-47e0-4959-b0de-e0178c98eda8",
   "metadata": {
    "jp-MarkdownHeadingCollapsed": true
   },
   "source": [
    "## data persistence"
   ]
  },
  {
   "cell_type": "markdown",
   "id": "d4639f66-aa93-4bd3-abf2-6b96ac23e09b",
   "metadata": {
    "jp-MarkdownHeadingCollapsed": true
   },
   "source": [
    "### csv\n",
    "- csv: 'comma separated values' -- common data interchange format for tabular data\n",
    "- there is a standard ([RFC 4180](https://datatracker.ietf.org/doc/html/rfc4180.html)), but it's often ignored and/or misused\n",
    "- making the parsing of csv files tedious and error-prone\n",
    "- the `csv` module supports various 'dialects' of csv-files"
   ]
  },
  {
   "cell_type": "code",
   "execution_count": null,
   "id": "c2c1d0b9-f6ce-436d-b3d6-9ec8d8bec888",
   "metadata": {},
   "outputs": [],
   "source": [
    "import csv"
   ]
  },
  {
   "cell_type": "code",
   "execution_count": null,
   "id": "dac28738-8ea8-4ecb-81ef-fb2e68f658cc",
   "metadata": {},
   "outputs": [],
   "source": [
    "with open('../data/titanic.csv', 'r') as ifile:\n",
    "    reader = csv.reader(ifile)\n",
    "    data = [line for line in reader]"
   ]
  },
  {
   "cell_type": "code",
   "execution_count": null,
   "id": "23d27ab2-2d96-4e12-9c01-43ba80630bf1",
   "metadata": {},
   "outputs": [],
   "source": [
    "for line in data[:3]:\n",
    "    print(line)"
   ]
  },
  {
   "cell_type": "code",
   "execution_count": null,
   "id": "290bee80-4308-4810-96b2-2c16f406a973",
   "metadata": {},
   "outputs": [],
   "source": [
    "# and writing it again\n",
    "with open('../data/demo_output.csv', 'w') as ifile:\n",
    "    writer = csv.writer(ifile)\n",
    "    writer.writerows(data[:3])"
   ]
  },
  {
   "cell_type": "code",
   "execution_count": null,
   "id": "2487d235-4677-4ecf-933f-f68719632920",
   "metadata": {},
   "outputs": [],
   "source": [
    "# DictReader assumes the first line to be headers and uses the values as keys for dictionaries, each row becoming a dict.\n",
    "with open('../data/titanic.csv', 'r') as ifile:\n",
    "    reader = csv.DictReader(ifile)\n",
    "    data = [line for line in reader]"
   ]
  },
  {
   "cell_type": "code",
   "execution_count": null,
   "id": "59abe310-c217-4542-b921-a23e6cb7c0e5",
   "metadata": {},
   "outputs": [],
   "source": [
    "data[0]"
   ]
  },
  {
   "cell_type": "code",
   "execution_count": null,
   "id": "31784ae4-acce-4a42-9373-8b7fbbf5dcae",
   "metadata": {},
   "outputs": [],
   "source": [
    "# Terrible excel interpretation of what 'csv' means...\n",
    "with open('../data/bad_excel_titanic.csv', 'r') as ifile:\n",
    "    reader = csv.DictReader(ifile)\n",
    "    data = [line for line in reader]"
   ]
  },
  {
   "cell_type": "code",
   "execution_count": null,
   "id": "9d8dc05f-fe28-41b6-a834-1921425b67a9",
   "metadata": {},
   "outputs": [],
   "source": [
    "data[0]"
   ]
  },
  {
   "cell_type": "code",
   "execution_count": null,
   "id": "d46f2434-8501-4b83-bf25-21c87afe1446",
   "metadata": {},
   "outputs": [],
   "source": [
    "# Terrible excel interpretation of what 'csv' means...\n",
    "with open('../data/bad_excel_titanic.csv', 'r') as ifile:\n",
    "    dialect = csv.Sniffer().sniff(ifile.read(2048))\n",
    "    ifile.seek(0)\n",
    "    reader = csv.DictReader(ifile, dialect=dialect)\n",
    "    data = [line for line in reader]\n",
    "data[1]"
   ]
  },
  {
   "cell_type": "markdown",
   "id": "fb147c9d-3c63-4da8-99e7-c96db0b2f2cf",
   "metadata": {
    "jp-MarkdownHeadingCollapsed": true
   },
   "source": [
    "### json\n",
    "- javascript object notation\n",
    "- lightweight, text-based, language-independent data interchange format\n",
    "- but the syntax already maps quite nicely to python as-is, making the content easy to understand\n",
    "- standardized in [RFC7159](https://datatracker.ietf.org/doc/html/rfc7159.html)\n",
    "- some "
   ]
  },
  {
   "cell_type": "markdown",
   "id": "a7e70d7d-c324-4f0f-ad91-0e7685f30fc9",
   "metadata": {},
   "source": [
    "- `load`: parse json data from a file object\n",
    "- `loads`: parse json data from a string\n",
    "- `dump`: encode objects as json data and write to file\n",
    "- `dumps`: encode objects as json strings"
   ]
  },
  {
   "cell_type": "markdown",
   "id": "ff3fadb9-8cf4-415b-b486-5dc3f669e0e2",
   "metadata": {},
   "source": [
    "<div class=\"alert alert-block alert-warning\">\n",
    "<b>Untrusted data:</b> <br>\n",
    "<a>\n",
    "Be cautious when parsing JSON data from untrusted sources. A malicious JSON string may cause the decoder to consume considerable CPU and memory resources. Limiting the size of data to be parsed is recommended.\n",
    "</a>\n",
    "</div>"
   ]
  },
  {
   "cell_type": "code",
   "execution_count": null,
   "id": "a6f3652a-7aa2-4d3d-a692-41d3404105a6",
   "metadata": {},
   "outputs": [],
   "source": [
    "import json"
   ]
  },
  {
   "cell_type": "code",
   "execution_count": null,
   "id": "ef8efe86-a05b-4e46-b554-253a4454520a",
   "metadata": {},
   "outputs": [],
   "source": [
    "encoded_list = json.dumps([1, '2', 3.1415])\n",
    "encoded_list"
   ]
  },
  {
   "cell_type": "code",
   "execution_count": null,
   "id": "4afc1d30-f25e-4f64-8bb2-4568f356b957",
   "metadata": {},
   "outputs": [],
   "source": [
    "decoded_list = json.loads(encoded_list)\n",
    "decoded_list"
   ]
  },
  {
   "cell_type": "code",
   "execution_count": null,
   "id": "e2afc8fb-b213-449e-ad7d-ad85598879b9",
   "metadata": {},
   "outputs": [],
   "source": [
    "for element in decoded_list:\n",
    "    print(f\"{element} is a {type(element)}\")"
   ]
  },
  {
   "cell_type": "code",
   "execution_count": null,
   "id": "10a66f57-c9ff-4192-8085-a74b72d43c0b",
   "metadata": {},
   "outputs": [],
   "source": [
    "encoded_dict = json.dumps({'a': 'foo', 'b': 3.1415})\n",
    "encoded_dict"
   ]
  },
  {
   "cell_type": "code",
   "execution_count": null,
   "id": "5787dff5-3648-4c07-81a0-821f8a43f3c4",
   "metadata": {},
   "outputs": [],
   "source": [
    "decoded_dict = json.loads(encoded_dict)\n",
    "decoded_dict"
   ]
  },
  {
   "cell_type": "code",
   "execution_count": null,
   "id": "54af6732-a064-4bba-a971-48bf0244b2ff",
   "metadata": {},
   "outputs": [],
   "source": [
    "# arbitrary nesting works just fine\n",
    "my_data = {\n",
    "    \"some_key\": \"simple\",\n",
    "    \"mixed_list\": [1, \"2\", 3.1415, {\"inner_dict\": \"also_works\"}],\n",
    "    \"dict\": {\n",
    "        \"my_list\": [1, 2, 3]\n",
    "    }\n",
    "}\n",
    "encoded_data = json.dumps(my_data)\n",
    "encoded_data"
   ]
  },
  {
   "cell_type": "code",
   "execution_count": null,
   "id": "45dce31b-2cde-45ef-a338-43f725de8d8c",
   "metadata": {},
   "outputs": [],
   "source": [
    "restored_data = json.loads(encoded_data)\n",
    "restored_data"
   ]
  },
  {
   "cell_type": "code",
   "execution_count": null,
   "id": "411aa3e0-85e4-46e0-94e8-d6749ff740fe",
   "metadata": {},
   "outputs": [],
   "source": [
    "restored_data == my_data"
   ]
  },
  {
   "cell_type": "markdown",
   "id": "6d3ac040-6b86-40c7-8e92-feb5d47133bf",
   "metadata": {},
   "source": [
    "#### possible issues"
   ]
  },
  {
   "cell_type": "code",
   "execution_count": null,
   "id": "537e3532-23cb-4f32-a771-c699e82f45d9",
   "metadata": {},
   "outputs": [],
   "source": [
    "# json standard only supports strings as keys\n",
    "encoded_dict = json.dumps({17: \"seventeen\"})\n",
    "decoded_dict = json.loads(encoded_dict)\n",
    "decoded_dict"
   ]
  },
  {
   "cell_type": "code",
   "execution_count": null,
   "id": "3e8c2424-6dbf-4115-b50b-1d1d1e59c836",
   "metadata": {},
   "outputs": [],
   "source": [
    "for k, v in decoded_dict.items():\n",
    "    print(f\"{k} is a {type(k)} and {v} is a {type(v)}\")"
   ]
  },
  {
   "cell_type": "code",
   "execution_count": null,
   "id": "dac9f8e9-89ec-45d9-89ad-e1b692ab4706",
   "metadata": {},
   "outputs": [],
   "source": [
    "# and even worse, collisions can occur and are silent\n",
    "encoded_dict = json.dumps({17: \"int_key\", '17': 'str_key'})\n",
    "decoded_dict = json.loads(encoded_dict)\n",
    "decoded_dict"
   ]
  },
  {
   "cell_type": "code",
   "execution_count": null,
   "id": "961e1327-7a68-4f63-adce-2ad99bacf98c",
   "metadata": {},
   "outputs": [],
   "source": [
    "# order matters...\n",
    "encoded_dict = json.dumps({'17': \"str_key\", 17: 'int_key'})\n",
    "decoded_dict = json.loads(encoded_dict)\n",
    "decoded_dict"
   ]
  },
  {
   "cell_type": "code",
   "execution_count": null,
   "id": "adeca771-c06f-44a5-8d7b-9adf2b344c53",
   "metadata": {},
   "outputs": [],
   "source": [
    "# the reverse is also possible\n",
    "weird_json = '{\"x\": 1, \"x\": 2, \"x\": 3}'\n",
    "json.loads(weird_json)"
   ]
  },
  {
   "cell_type": "code",
   "execution_count": null,
   "id": "70db00a9-3438-4aeb-9030-3dbf799080f1",
   "metadata": {},
   "outputs": [],
   "source": [
    "# constants and weird floats\n",
    "funky_json = json.dumps([True, False, None, float('nan'), float('inf')])\n",
    "funky_json"
   ]
  },
  {
   "cell_type": "code",
   "execution_count": null,
   "id": "b1767c85-24e4-4b70-b4f5-31a4b82a4ebf",
   "metadata": {},
   "outputs": [],
   "source": [
    "json.loads(funky_json)"
   ]
  },
  {
   "cell_type": "code",
   "execution_count": null,
   "id": "20e8b46f-5e4c-41f1-97dd-8c0b7779cc5d",
   "metadata": {},
   "outputs": [],
   "source": [
    "# NaNs and Infinity are beyond the standard though\n",
    "json.dumps([float('nan'), float('inf')], allow_nan=False)"
   ]
  },
  {
   "cell_type": "code",
   "execution_count": null,
   "id": "66109a64-cf94-49cf-8ffc-3f6de9d0d5fa",
   "metadata": {},
   "outputs": [],
   "source": [
    "# recursion dosn't work...\n",
    "recursive_list = [1, 2, 3]\n",
    "recursive_list.append(recursive_list)\n",
    "recursive_list"
   ]
  },
  {
   "cell_type": "code",
   "execution_count": null,
   "id": "9adfa1f3-d4a8-46b3-bf53-acc3fccc8c62",
   "metadata": {},
   "outputs": [],
   "source": [
    "recursive_list[-1]"
   ]
  },
  {
   "cell_type": "code",
   "execution_count": null,
   "id": "fdaa7672-8382-4127-ba94-d59f25363540",
   "metadata": {},
   "outputs": [],
   "source": [
    "json.dumps(recursive_list)"
   ]
  },
  {
   "cell_type": "markdown",
   "id": "7c8c9be0-4301-4314-8b75-c7fd5a6c4488",
   "metadata": {
    "jp-MarkdownHeadingCollapsed": true
   },
   "source": [
    "### pickle\n",
    "- serialize and deserialize arbitrary python objects\n",
    "- serialization: converting Python objects into a byte stream that can be easily stored, transmitted, or shared\n",
    "- `pickle.dump` -- serialize a python object and write it to a file object\n",
    "- `pickle.load` -- the reverse, load bytes from file and restore python object\n",
    "- `pickle.dumps` / `pickle.loads` -- the same but to/from just bytes\n",
    "- look at `dill` for a third-party extension allowing to serialize more types of objects"
   ]
  },
  {
   "cell_type": "markdown",
   "id": "c8f93d4f-3cfc-4db8-866c-0d965de3eaa9",
   "metadata": {},
   "source": [
    "#### important considerations"
   ]
  },
  {
   "cell_type": "markdown",
   "id": "f8787bf6-3f45-41bd-88d8-ee3a4415f435",
   "metadata": {},
   "source": [
    "<div class=\"alert alert-block alert-warning\">\n",
    "<b>Untrusted data:</b> <br>\n",
    "<a>\n",
    "    don't every unpickle data from untrusted sources, as unpickling can lead to code execution\n",
    "</a>\n",
    "</div>\n",
    "\n",
    "- not all objects can be pickled (file handles, database connections, ...) and attempting to do so will result in errors\n",
    "- restoring old pickles into updated versions of your code can lead to incompatibilities"
   ]
  },
  {
   "cell_type": "markdown",
   "id": "23c53441-b0a3-4ef9-8009-cb7e3cce183b",
   "metadata": {},
   "source": [
    "#### basic pickling/unpickling"
   ]
  },
  {
   "cell_type": "code",
   "execution_count": null,
   "id": "c1edbc8b-03ce-493a-9295-f619ba60ae47",
   "metadata": {},
   "outputs": [],
   "source": [
    "import pickle"
   ]
  },
  {
   "cell_type": "code",
   "execution_count": null,
   "id": "c062f21c-25fa-4ab7-a02d-8d28bb1b7ed1",
   "metadata": {},
   "outputs": [],
   "source": [
    "list_bytes = bytes([1, 2, 3])\n",
    "list_bytes"
   ]
  },
  {
   "cell_type": "code",
   "execution_count": null,
   "id": "a758f02d-69ce-40d1-97db-9e3937485618",
   "metadata": {},
   "outputs": [],
   "source": [
    "pickled_list = pickle.dumps([1, 2, 3])\n",
    "pickled_list"
   ]
  },
  {
   "cell_type": "code",
   "execution_count": null,
   "id": "28f5de9b-c384-43df-8e92-f28e1da2d09f",
   "metadata": {},
   "outputs": [],
   "source": [
    "pickle.loads(pickled_list)"
   ]
  },
  {
   "cell_type": "code",
   "execution_count": null,
   "id": "d2b245d6-bc7d-40d8-bb05-a8ee9f899145",
   "metadata": {},
   "outputs": [],
   "source": [
    "pickle.loads(list_bytes)"
   ]
  },
  {
   "cell_type": "code",
   "execution_count": null,
   "id": "2d793af5-641d-4fa4-b793-887fd45ce289",
   "metadata": {},
   "outputs": [],
   "source": [
    "list(list_bytes)"
   ]
  },
  {
   "cell_type": "code",
   "execution_count": null,
   "id": "040d79ea-963c-4034-97a0-e9596a17f852",
   "metadata": {},
   "outputs": [],
   "source": [
    "print(list(pickled_list))"
   ]
  },
  {
   "cell_type": "code",
   "execution_count": null,
   "id": "519a7bc7-5b34-49de-914c-207545dbb32b",
   "metadata": {},
   "outputs": [],
   "source": [
    "with open('stored_list.pickle', 'wb') as ifile:\n",
    "    pickle.dump([1, 2, 3], ifile)"
   ]
  },
  {
   "cell_type": "code",
   "execution_count": null,
   "id": "6f5b199c-bfc3-4453-9b45-ccca97d5f356",
   "metadata": {},
   "outputs": [],
   "source": [
    "with open('stored_list.pickle', 'rb') as ifile:\n",
    "    print(ifile.read())"
   ]
  },
  {
   "cell_type": "code",
   "execution_count": null,
   "id": "5eacb6af-a90a-47ff-bc70-d569ee70a8b5",
   "metadata": {},
   "outputs": [],
   "source": [
    "with open('stored_list.pickle', 'rb') as ifile:\n",
    "    print(pickle.load(ifile))"
   ]
  },
  {
   "cell_type": "markdown",
   "id": "2e2a4f73-fe71-4296-9c45-28b143b9a775",
   "metadata": {
    "jp-MarkdownHeadingCollapsed": true
   },
   "source": [
    "#### pickling custom objects/classes"
   ]
  },
  {
   "cell_type": "code",
   "execution_count": null,
   "id": "3e780db0-24af-4959-88c8-d4c3f1e8501b",
   "metadata": {},
   "outputs": [],
   "source": [
    "class PickleDemo:\n",
    "    def say(self):\n",
    "        print(f\"Hey, I'm a pickle demo\")"
   ]
  },
  {
   "cell_type": "code",
   "execution_count": null,
   "id": "06dac140-36f7-436c-8b95-4bee72509423",
   "metadata": {},
   "outputs": [],
   "source": [
    "pd = PickleDemo()\n",
    "pd.say()"
   ]
  },
  {
   "cell_type": "code",
   "execution_count": null,
   "id": "45b9d3b4-81ed-4ea2-bef8-521f6abad2db",
   "metadata": {},
   "outputs": [],
   "source": [
    "pickled_pd = pickle.dumps(pd)\n",
    "pickled_pd"
   ]
  },
  {
   "cell_type": "code",
   "execution_count": null,
   "id": "9d78f4ec-2636-4911-aaae-2b51a7d29c24",
   "metadata": {},
   "outputs": [],
   "source": [
    "restored_pd = pickle.loads(pickled_pd)\n",
    "restored_pd.say()"
   ]
  },
  {
   "cell_type": "code",
   "execution_count": null,
   "id": "38760310-e04d-4d45-98ea-a99084bf709a",
   "metadata": {},
   "outputs": [],
   "source": [
    "# the class still needs to be defined!\n",
    "del PickleDemo"
   ]
  },
  {
   "cell_type": "code",
   "execution_count": null,
   "id": "be02e8b4-66b8-4a30-8e9e-d6c43a7442df",
   "metadata": {},
   "outputs": [],
   "source": [
    "pickle.loads(pickled_pd)"
   ]
  },
  {
   "cell_type": "code",
   "execution_count": null,
   "id": "ef16faf5-04ea-46c4-9fe4-1d1d70794c44",
   "metadata": {},
   "outputs": [],
   "source": [
    "class PickleDemo:\n",
    "    def say(self):\n",
    "        print(f\"hello, I'm new\")"
   ]
  },
  {
   "cell_type": "code",
   "execution_count": null,
   "id": "aa555f55-6b4e-4926-89fa-ed003ed77bef",
   "metadata": {},
   "outputs": [],
   "source": [
    "# the method code is actually taken from the new class, the pickle just tells you to create an instance\n",
    "new_pd = pickle.loads(pickled_pd)"
   ]
  },
  {
   "cell_type": "code",
   "execution_count": null,
   "id": "03e57918-df29-43f8-80e9-410d5ca47a98",
   "metadata": {},
   "outputs": [],
   "source": [
    "new_pd.say()"
   ]
  },
  {
   "cell_type": "code",
   "execution_count": null,
   "id": "5ddcea7a-2482-44c9-b3e4-4c2d95cbc661",
   "metadata": {},
   "outputs": [],
   "source": [
    "# you made some changes to your code and updates your pickle class to have an attribute"
   ]
  },
  {
   "cell_type": "code",
   "execution_count": null,
   "id": "7e35875d-5fd3-471c-a7a7-74254a444dab",
   "metadata": {},
   "outputs": [],
   "source": [
    "class PickleDemo:\n",
    "    def __init__(self, attribute):\n",
    "        self.some_attribute = attribute\n",
    "\n",
    "    def say(self):\n",
    "        print(f\"Hey, I'm a pickle demo, and my attribute is \\\"{self.some_attribute}\\\"\")"
   ]
  },
  {
   "cell_type": "code",
   "execution_count": null,
   "id": "5f380079-f09a-4c75-89df-b4d8be42c0b1",
   "metadata": {},
   "outputs": [],
   "source": [
    "restored_pd = pickle.loads(pickled_pd)\n",
    "restored_pd.say()"
   ]
  },
  {
   "cell_type": "code",
   "execution_count": null,
   "id": "77aa08bc-b674-41a3-ace7-e9fa10071db7",
   "metadata": {},
   "outputs": [],
   "source": [
    "# but the value of the attribute is stored in the pickle\n",
    "pd_with_attribute = PickleDemo(\"attribute_value\")\n",
    "pd_with_attribute.say()"
   ]
  },
  {
   "cell_type": "code",
   "execution_count": null,
   "id": "47ea43f6-9b19-4a23-a747-606fba18e9c6",
   "metadata": {},
   "outputs": [],
   "source": [
    "pickled_pd_with_attribute = pickle.dumps(pd_with_attribute)\n",
    "restored_with_attribute = pickle.loads(pickled_pd_with_attribute)\n",
    "restored_with_attribute.say()"
   ]
  },
  {
   "cell_type": "markdown",
   "id": "b4c722f4-7a17-41a3-8585-da94a7e36e48",
   "metadata": {},
   "source": [
    "#### some un-pickle-able objects"
   ]
  },
  {
   "cell_type": "code",
   "execution_count": null,
   "id": "68290802-913c-4f14-b0c9-29f75dd678cd",
   "metadata": {},
   "outputs": [],
   "source": [
    "# closures\n",
    "def my_function(a, b):\n",
    "    def inner_function():\n",
    "        print(f\"hey there, from function f with arguments {a} and {b}\")\n",
    "    return inner_function"
   ]
  },
  {
   "cell_type": "code",
   "execution_count": null,
   "id": "b9171f8f-5e1b-4457-8ad1-be2ae2f0c5c9",
   "metadata": {},
   "outputs": [],
   "source": [
    "pickled_f = pickle.dumps(my_function(3, 5))\n",
    "pickled_f"
   ]
  },
  {
   "cell_type": "code",
   "execution_count": null,
   "id": "11ca91d9-3f39-4116-adbd-a34a31e5a6d0",
   "metadata": {},
   "outputs": [],
   "source": [
    "try:\n",
    "    fp = open('demo_file.txt', 'rb')\n",
    "    pickle.dumps(fp)\n",
    "finally:\n",
    "    fp.close()"
   ]
  },
  {
   "cell_type": "code",
   "execution_count": null,
   "id": "51b88b2f-1d60-4c24-9eb9-a93344b8b6e8",
   "metadata": {},
   "outputs": [],
   "source": [
    "# unlike json, recursion works just fine though\n",
    "recursive_list = [1, 2, 3]\n",
    "recursive_list.append(recursive_list)\n",
    "recursive_list"
   ]
  },
  {
   "cell_type": "code",
   "execution_count": null,
   "id": "2b68d3e9-3b84-4e6a-8285-c0e052bbd439",
   "metadata": {},
   "outputs": [],
   "source": [
    "encoded_recursive_list = pickle.dumps(recursive_list)\n",
    "encoded_recursive_list"
   ]
  },
  {
   "cell_type": "code",
   "execution_count": null,
   "id": "e57b37b6-88e7-4f6a-9c96-f849d9a422ae",
   "metadata": {},
   "outputs": [],
   "source": [
    "restored_recursive_list = pickle.loads(encoded_recursive_list)\n",
    "restored_recursive_list"
   ]
  },
  {
   "cell_type": "code",
   "execution_count": null,
   "id": "1ab7b1c3-ca8a-4fa1-9504-7d30ca29e4c2",
   "metadata": {},
   "outputs": [],
   "source": [
    "restored_recursive_list[-1]"
   ]
  },
  {
   "cell_type": "markdown",
   "id": "52dca762-bb3e-442a-a786-f10b2d51d857",
   "metadata": {
    "jp-MarkdownHeadingCollapsed": true
   },
   "source": [
    "#### customizing pickling behaviour"
   ]
  },
  {
   "cell_type": "code",
   "execution_count": null,
   "id": "b6d4369c-c833-4af2-af92-9347c3c4f2ea",
   "metadata": {},
   "outputs": [],
   "source": [
    "class MyFileReader:\n",
    "    def __init__(self, filename):\n",
    "        self.fp = open(filename)\n",
    "\n",
    "    def read(self):\n",
    "        return self.fp.read()\n",
    "\n",
    "    def close(self):\n",
    "        self.fp.close()"
   ]
  },
  {
   "cell_type": "code",
   "execution_count": null,
   "id": "66879303-b9f7-4175-ab96-9fac3a744d36",
   "metadata": {},
   "outputs": [],
   "source": [
    "my_reader = MyFileReader('demo_file.txt')\n",
    "my_reader.read()"
   ]
  },
  {
   "cell_type": "code",
   "execution_count": null,
   "id": "2416cbe8-aaa9-4aca-803c-1d4ad4ad2dfc",
   "metadata": {},
   "outputs": [],
   "source": [
    "try:\n",
    "    pickle.dumps(my_reader)\n",
    "finally:\n",
    "    my_reader.close()"
   ]
  },
  {
   "cell_type": "code",
   "execution_count": null,
   "id": "a9eb99ef-6319-45bb-b0bb-2b63c2c724d6",
   "metadata": {},
   "outputs": [],
   "source": [
    "class MyPickleFileReader:\n",
    "    def __init__(self, filename):\n",
    "        self.fp = open(filename)\n",
    "        self.filename = filename\n",
    "\n",
    "    def __reduce__(self):\n",
    "        return (self.__class__, (self.filename, ))\n",
    "\n",
    "    def read(self):\n",
    "        return self.fp.read()\n",
    "\n",
    "    def close(self):\n",
    "        self.fp.close()"
   ]
  },
  {
   "cell_type": "code",
   "execution_count": null,
   "id": "e1475d37-452c-43d1-9476-b86f42400b3d",
   "metadata": {},
   "outputs": [],
   "source": [
    "my_pickle_reader = MyPickleFileReader('demo_file.txt')\n",
    "my_pickle_reader.read()"
   ]
  },
  {
   "cell_type": "code",
   "execution_count": null,
   "id": "16098222-bb7e-41c5-b29d-75362e27d575",
   "metadata": {},
   "outputs": [],
   "source": [
    "try:\n",
    "    pickled_reader = pickle.dumps(my_pickle_reader)\n",
    "finally:\n",
    "    my_pickle_reader.close()"
   ]
  },
  {
   "cell_type": "code",
   "execution_count": null,
   "id": "6f26f8e6-f22a-4f82-8c86-4ee577401092",
   "metadata": {},
   "outputs": [],
   "source": [
    "pickled_reader"
   ]
  },
  {
   "cell_type": "code",
   "execution_count": null,
   "id": "c30cd6b2-18ac-4209-a256-307c10b38904",
   "metadata": {},
   "outputs": [],
   "source": [
    "restored_reader = pickle.loads(pickled_reader)\n",
    "restored_reader.read()"
   ]
  },
  {
   "cell_type": "code",
   "execution_count": null,
   "id": "63311408-be44-4a3a-ad19-507a2a2e5f72",
   "metadata": {},
   "outputs": [],
   "source": [
    "restored_reader.close()"
   ]
  },
  {
   "cell_type": "markdown",
   "id": "7deaecef-06f0-44d7-af19-80a782c3a9e8",
   "metadata": {},
   "source": [
    "#### BUT: this is dangerous if you get pickles from untrusted sources!"
   ]
  },
  {
   "cell_type": "code",
   "execution_count": null,
   "id": "d8535264-aa6f-4815-bfb5-4d2b09109ae6",
   "metadata": {},
   "outputs": [],
   "source": [
    "class Exploit:\n",
    "    def __reduce__(self):\n",
    "        return (print, (\"You've been pwned!\", ))\n",
    "\n",
    "exploit = Exploit()\n",
    "pickled_exploit = pickle.dumps(exploit)\n",
    "pickled_exploit"
   ]
  },
  {
   "cell_type": "code",
   "execution_count": null,
   "id": "702d77ed-7987-422b-ba88-403a5fa8f269",
   "metadata": {},
   "outputs": [],
   "source": [
    "# sending this pickle to your system, which doesn't know about the `Exploit` class\n",
    "del Exploit"
   ]
  },
  {
   "cell_type": "code",
   "execution_count": null,
   "id": "112f1acf-6156-46d9-99f5-909caea6fd4e",
   "metadata": {},
   "outputs": [],
   "source": [
    "# but still...\n",
    "pickle.loads(pickled_exploit)"
   ]
  },
  {
   "cell_type": "markdown",
   "id": "b29a045a-ce49-4203-b590-6d6ab8c0b3f5",
   "metadata": {
    "jp-MarkdownHeadingCollapsed": true
   },
   "source": [
    "## generic operating system and runtime services"
   ]
  },
  {
   "cell_type": "markdown",
   "id": "eee073f1-1866-40c8-bdcf-1de786765a91",
   "metadata": {
    "jp-MarkdownHeadingCollapsed": true
   },
   "source": [
    "### os\n",
    "- platform-independent way of interacting with the operating system\n",
    "  - read environment variables\n",
    "  - low-level file access: prefer builtins (`open`) as well as `pathlib` and `shutil`\n",
    "  - process management (running external commands): prefer e.g. `subprocess`\n",
    "  - reading and changing user-ids/groups/..."
   ]
  },
  {
   "cell_type": "code",
   "execution_count": null,
   "id": "2a41d80e-b2ed-4db8-a54d-f01442e5dfd4",
   "metadata": {},
   "outputs": [],
   "source": [
    "os.name"
   ]
  },
  {
   "cell_type": "code",
   "execution_count": null,
   "id": "3acf2f11-89bc-4ae1-8452-296b256fa4ba",
   "metadata": {},
   "outputs": [],
   "source": [
    "os.uname()"
   ]
  },
  {
   "cell_type": "code",
   "execution_count": null,
   "id": "b0c0ba98-2884-4850-92a0-6aca56572df0",
   "metadata": {
    "scrolled": true
   },
   "outputs": [],
   "source": [
    "os.environ"
   ]
  },
  {
   "cell_type": "code",
   "execution_count": null,
   "id": "ef14bf3c-49fe-479f-8f83-c3102bbce465",
   "metadata": {},
   "outputs": [],
   "source": [
    "os.sep  # path separator"
   ]
  },
  {
   "cell_type": "code",
   "execution_count": null,
   "id": "e520787c-16a8-4c9a-8ce0-c7342b904156",
   "metadata": {},
   "outputs": [],
   "source": [
    "os.linesep"
   ]
  },
  {
   "cell_type": "code",
   "execution_count": null,
   "id": "bc6b94c5-c923-4ef2-919c-1213ccdec22f",
   "metadata": {},
   "outputs": [],
   "source": [
    "os.getcwd()"
   ]
  },
  {
   "cell_type": "code",
   "execution_count": null,
   "id": "7af3c976-31f7-4e2a-bdf1-e149c94dc7a7",
   "metadata": {},
   "outputs": [],
   "source": [
    "os.chdir()  # change working directory"
   ]
  },
  {
   "cell_type": "code",
   "execution_count": null,
   "id": "00748c5f-725a-40f0-b073-574c08a6c26b",
   "metadata": {},
   "outputs": [],
   "source": [
    "os.system('ls')"
   ]
  },
  {
   "cell_type": "code",
   "execution_count": null,
   "id": "6d3115d2-5b62-4258-813e-b03264113be4",
   "metadata": {},
   "outputs": [],
   "source": [
    "# loads and loads of stuff for directory/file manipulation\n",
    "# CPU time scheduler, starting/stopping/killing other processes\n",
    "# special devices/mounts/..."
   ]
  },
  {
   "cell_type": "markdown",
   "id": "e5a7ec1d-a5b1-4a53-95b3-49a1f8b2f974",
   "metadata": {
    "jp-MarkdownHeadingCollapsed": true
   },
   "source": [
    "### sys\n",
    "- provides access to the Python interpreter's variables and functions, allowing us to interact with and control various aspects of the Python runtime.\n",
    "  - search path\n",
    "  - command line arguments\n",
    "  - python version and platform information\n",
    "  - I/O redirection\n",
    "  - recursion limits and other interpreter-specific settings"
   ]
  },
  {
   "cell_type": "code",
   "execution_count": null,
   "id": "bce64d23-cc78-485c-9946-2bd54ebdf754",
   "metadata": {},
   "outputs": [],
   "source": [
    "import sys"
   ]
  },
  {
   "cell_type": "markdown",
   "id": "79e9d3a0-d1e7-41f6-8fe7-0d1d80e4bdf7",
   "metadata": {
    "jp-MarkdownHeadingCollapsed": true
   },
   "source": [
    "#### Interpreter Info"
   ]
  },
  {
   "cell_type": "code",
   "execution_count": null,
   "id": "208da0e8-ccd5-4fcb-93a5-fb2bb4799da5",
   "metadata": {},
   "outputs": [],
   "source": [
    "sys.version"
   ]
  },
  {
   "cell_type": "code",
   "execution_count": null,
   "id": "73150cd9-fb8d-42e2-a2de-51a5fee56983",
   "metadata": {},
   "outputs": [],
   "source": [
    "sys.implementation"
   ]
  },
  {
   "cell_type": "code",
   "execution_count": null,
   "id": "0ba4d23c-3d91-4d0d-bf6f-289e6bd09673",
   "metadata": {},
   "outputs": [],
   "source": [
    "sys.platform"
   ]
  },
  {
   "cell_type": "code",
   "execution_count": null,
   "id": "200b4106-4081-4625-a2cd-873672f7881a",
   "metadata": {},
   "outputs": [],
   "source": [
    "sys.byteorder"
   ]
  },
  {
   "cell_type": "code",
   "execution_count": null,
   "id": "0cfc26b4-55a7-4050-a80b-a2c6047240fe",
   "metadata": {},
   "outputs": [],
   "source": [
    "sys.float_info"
   ]
  },
  {
   "cell_type": "code",
   "execution_count": null,
   "id": "885d6899-821f-4c82-9107-7993509645a9",
   "metadata": {},
   "outputs": [],
   "source": [
    "sys.flags"
   ]
  },
  {
   "cell_type": "code",
   "execution_count": null,
   "id": "420b5411-9754-43fb-ad96-f33613e494b7",
   "metadata": {},
   "outputs": [],
   "source": [
    "print(sys.copyright)"
   ]
  },
  {
   "cell_type": "code",
   "execution_count": null,
   "id": "f2264b41-0a72-41d4-971e-9e1c87b05922",
   "metadata": {},
   "outputs": [],
   "source": [
    "# and many many more..."
   ]
  },
  {
   "cell_type": "markdown",
   "id": "19c5142b-fe91-40be-8127-1e315fd38a87",
   "metadata": {
    "jp-MarkdownHeadingCollapsed": true
   },
   "source": [
    "#### controlling interpreter behaviour"
   ]
  },
  {
   "cell_type": "code",
   "execution_count": null,
   "id": "8e7344b9-ba0c-4882-888c-9b0499eeaf22",
   "metadata": {},
   "outputs": [],
   "source": [
    "sys.getrecursionlimit()\n",
    "sys.setrecursionlimit(200)"
   ]
  },
  {
   "cell_type": "code",
   "execution_count": null,
   "id": "ab9891ea-bde7-4223-96e2-16e867f9517e",
   "metadata": {},
   "outputs": [],
   "source": [
    "i = 0\n",
    "def infitite_recursion():\n",
    "    global i\n",
    "    i += 1\n",
    "    infitite_recursion()\n",
    "infitite_recursion()"
   ]
  },
  {
   "cell_type": "code",
   "execution_count": null,
   "id": "716a75a6-969f-44ad-88b4-75f902a44ab5",
   "metadata": {},
   "outputs": [],
   "source": [
    "print(i)"
   ]
  },
  {
   "cell_type": "code",
   "execution_count": null,
   "id": "e979907e-3611-4d29-98f0-961a8a8a11d1",
   "metadata": {},
   "outputs": [],
   "source": [
    "sys.setrecursionlimit(3000)"
   ]
  },
  {
   "cell_type": "code",
   "execution_count": null,
   "id": "1801312b-5d7b-419a-9424-bbf17e1489cf",
   "metadata": {},
   "outputs": [],
   "source": [
    "sys.get_int_max_str_digits()"
   ]
  },
  {
   "cell_type": "code",
   "execution_count": null,
   "id": "254a29ef-5555-4773-93c0-bd64d1a832e9",
   "metadata": {},
   "outputs": [],
   "source": [
    "sys.set_int_max_str_digits(640)"
   ]
  },
  {
   "cell_type": "code",
   "execution_count": null,
   "id": "e5bcdf43-fafa-4f0c-99b0-e4b446facfe3",
   "metadata": {},
   "outputs": [],
   "source": [
    "value = 2**10000"
   ]
  },
  {
   "cell_type": "code",
   "execution_count": null,
   "id": "ce9e0ca4-7725-4961-92d9-186867022db1",
   "metadata": {},
   "outputs": [],
   "source": [
    "value"
   ]
  },
  {
   "cell_type": "code",
   "execution_count": null,
   "id": "72abf649-045a-4485-9b60-036665bca70d",
   "metadata": {},
   "outputs": [],
   "source": [
    "sys.set_int_max_str_digits(4300)"
   ]
  },
  {
   "cell_type": "markdown",
   "id": "e55390ee-e304-4be3-89b2-503836d07af3",
   "metadata": {},
   "source": [
    "#### command line arguments\n",
    "- `sys.argv` contains command line arguments passed to the interpreter"
   ]
  },
  {
   "cell_type": "code",
   "execution_count": null,
   "id": "27e4fc4c-6f8b-44f7-ac2a-444e1c2fddba",
   "metadata": {},
   "outputs": [],
   "source": [
    "# first element: script name\n",
    "# any other elements: arguments\n",
    "sys.argv"
   ]
  },
  {
   "cell_type": "code",
   "execution_count": null,
   "id": "f0b60a7f-bc35-43d6-804e-be69cb2c1d42",
   "metadata": {},
   "outputs": [],
   "source": [
    "# demo: utils.py\n",
    "# also see package `argparse`"
   ]
  },
  {
   "cell_type": "markdown",
   "id": "87f27f76-3404-42f8-8787-5caaed798740",
   "metadata": {},
   "source": [
    "#### search path\n",
    "- `sys.path` is a list of directories that Python searches for modules when you use the import statement.\n",
    "- this allows you to `import` (e.g. your own) packages/modules from non-standard locations\n",
    "- look into building real packages and installing those (in development mode) for a better alternative"
   ]
  },
  {
   "cell_type": "code",
   "execution_count": null,
   "id": "72b25f94-03c0-4699-b5dd-a4f79450d924",
   "metadata": {},
   "outputs": [],
   "source": [
    "sys.path"
   ]
  },
  {
   "cell_type": "markdown",
   "id": "9faad192-5cc1-482a-8f72-35bf698b3396",
   "metadata": {},
   "source": [
    "#### in/output stream redirection"
   ]
  },
  {
   "cell_type": "code",
   "execution_count": null,
   "id": "43c5395d-8dab-432b-a51b-5bf475cbbadc",
   "metadata": {},
   "outputs": [],
   "source": [
    "with open('stdout.txt', 'w') as ifile:\n",
    "    original_stdout = sys.stdout\n",
    "    sys.stdout = ifile\n",
    "    print('hello')\n",
    "    sys.stdout = original_stdout"
   ]
  },
  {
   "cell_type": "markdown",
   "id": "37f6d1cd-bb50-4fb1-83da-967c4f0bf454",
   "metadata": {
    "jp-MarkdownHeadingCollapsed": true
   },
   "source": [
    "### platform\n",
    "- hardware- and OS-specific information"
   ]
  },
  {
   "cell_type": "code",
   "execution_count": null,
   "id": "1c54c653-d191-459f-a252-26a8b0f7748e",
   "metadata": {},
   "outputs": [],
   "source": [
    "import platform"
   ]
  },
  {
   "cell_type": "code",
   "execution_count": null,
   "id": "4cb9854e-0ff0-44a2-9767-964fa3b6b50d",
   "metadata": {},
   "outputs": [],
   "source": [
    "platform.architecture()"
   ]
  },
  {
   "cell_type": "code",
   "execution_count": null,
   "id": "722edd2a-9868-4650-8eca-14ddc3305326",
   "metadata": {},
   "outputs": [],
   "source": [
    "platform.processor()"
   ]
  },
  {
   "cell_type": "code",
   "execution_count": null,
   "id": "995a9bdd-e5f0-4d89-a001-7970113420ca",
   "metadata": {},
   "outputs": [],
   "source": [
    "platform.platform()"
   ]
  },
  {
   "cell_type": "markdown",
   "id": "f0d11edb-5bd9-4ca0-90f0-9bd8fecf5965",
   "metadata": {
    "jp-MarkdownHeadingCollapsed": true
   },
   "source": [
    "### time\n",
    "- provides various time-related functions. see also `datetime`\n",
    "- not all functions are available on all platforms. See [documentation](https://docs.python.org/3/library/time.html) for details.\n",
    "- use `datetime` for conversion from/to strings, timestamps and timestamp differences\n",
    "- use `time` or the `timeit` module for (simple) measuring of the execution time of your code\n",
    "- use `time.sleep` for (blocking) waits for a specified amount of time"
   ]
  },
  {
   "cell_type": "markdown",
   "id": "0febe9df-4e84-4455-b287-b552b29ad157",
   "metadata": {},
   "source": [
    "- `time.sleep`: wait for the specified number of seconds\n",
    "- `time.time` / `time.time_ns`: current time in (fractional) seconds since the epoch (1970-01-01 00:00+00:00)\n",
    "- `time.monotonic` / `time.monotonic_ns`: always increasing time counter with unspecified offset\n",
    "- `time.perf_counter` / `time.perf_counter_ns`: as `time.monotonic` but using the highes possible resolution clock source\n",
    "- `time.process_time` / `time.process_time_ns`: sum of user and system time, unspecified offset, excludes idle time\n",
    "- `time.get_clock_info`: return detailed information on the different time sources above"
   ]
  },
  {
   "cell_type": "code",
   "execution_count": null,
   "id": "c271cdfa-cb54-4fba-80ee-bedf81113565",
   "metadata": {},
   "outputs": [],
   "source": [
    "import time"
   ]
  },
  {
   "cell_type": "code",
   "execution_count": null,
   "id": "d9fba661-0472-4d0c-862b-2a3322368abf",
   "metadata": {},
   "outputs": [],
   "source": [
    "time.time()"
   ]
  },
  {
   "cell_type": "code",
   "execution_count": null,
   "id": "f72692ed-b663-40e1-9e4a-49c9d6bd4516",
   "metadata": {},
   "outputs": [],
   "source": [
    "time.time_ns()"
   ]
  },
  {
   "cell_type": "code",
   "execution_count": null,
   "id": "1d0dc6d8-754c-4f0b-9a7a-cc3918e771f8",
   "metadata": {},
   "outputs": [],
   "source": [
    "for clock in ['time', 'monotonic', 'perf_counter', 'process_time']:\n",
    "    print(time.get_clock_info(clock))"
   ]
  },
  {
   "cell_type": "code",
   "execution_count": null,
   "id": "a1231773-330e-4b08-b206-7c1ca00e8d20",
   "metadata": {},
   "outputs": [],
   "source": [
    "t0 = time.time()\n",
    "time.sleep(1)\n",
    "t1 = time.time()\n",
    "print(f'Elapsed time: {t1 - t0}')"
   ]
  },
  {
   "cell_type": "code",
   "execution_count": null,
   "id": "ef8600d4-8866-4e56-95cf-8c229afb8d25",
   "metadata": {},
   "outputs": [],
   "source": [
    "t0 = time.monotonic()\n",
    "time.sleep(1)\n",
    "t1 = time.monotonic()\n",
    "print(f'Elapsed monotonic time: {t1 - t0}')"
   ]
  },
  {
   "cell_type": "code",
   "execution_count": null,
   "id": "275ccc92-dcd0-4d46-9b2b-d90d54b4c39b",
   "metadata": {},
   "outputs": [],
   "source": [
    "t0 = time.process_time()\n",
    "time.sleep(1)\n",
    "t1 = time.process_time()\n",
    "print(f'Elapsed process time: {t1 - t0}')"
   ]
  },
  {
   "cell_type": "code",
   "execution_count": null,
   "id": "3204d5be-dba9-4267-a275-18bd97fd774a",
   "metadata": {},
   "outputs": [],
   "source": [
    "t0 = time.perf_counter_ns()\n",
    "t1 = time.perf_counter_ns()\n",
    "print(f'Elapsed time (ns): {t1 - t0}')"
   ]
  },
  {
   "cell_type": "markdown",
   "id": "0256dcfc-7c00-43e0-8302-dc501a1f1a9e",
   "metadata": {},
   "source": [
    "### logging\n",
    "- means of tracking events that happen when some software runs.\n",
    "- Add logging calls to your code to indicate that certain events have occurred. An event is described by a descriptive message which can optionally contain variable data (i.e. data that is potentially different for each occurrence of the event).\n",
    "- Events also have an importance which you ascribe to the event; the importance can also be called the level or severity.\n",
    "  - `debug`: very detailed logging of normal events\n",
    "  - `info`: logging of normal events, less verbose than `debug`\n",
    "  - `warning`: abnormal, but does not stop execution\n",
    "  - `error`: replaces an `Exception` in code that should not stop (e.g. long-running server processes)\n",
    "  - `critical`: like `error`, but you want to make everyone even more worried...\n",
    "- users of your code can potentially specify the minimum level of severity they are interested in\n",
    "- log output destination should be configurable"
   ]
  },
  {
   "cell_type": "code",
   "execution_count": null,
   "id": "3afd6194-d1b0-4cb3-a166-fdbb28dd5cc1",
   "metadata": {},
   "outputs": [],
   "source": [
    "import logging"
   ]
  },
  {
   "cell_type": "code",
   "execution_count": null,
   "id": "0367f503-2fd6-4083-9b19-d56677b6d3fc",
   "metadata": {},
   "outputs": [],
   "source": [
    "logging.debug(\"This is fine...\")"
   ]
  },
  {
   "cell_type": "code",
   "execution_count": null,
   "id": "049ccc99-4640-439c-bae6-fd5580cacd2b",
   "metadata": {},
   "outputs": [],
   "source": [
    "logging.info(\"All normal...\")"
   ]
  },
  {
   "cell_type": "code",
   "execution_count": null,
   "id": "d8f30e44-947d-415a-a70d-f7376050a928",
   "metadata": {},
   "outputs": [],
   "source": [
    "logging.warning(\"Hey, watch out!\")"
   ]
  },
  {
   "cell_type": "code",
   "execution_count": null,
   "id": "041f06e3-1adb-4536-b567-846713e464ce",
   "metadata": {},
   "outputs": [],
   "source": [
    "logging.error(\"It's all gone wrong :(\")"
   ]
  },
  {
   "cell_type": "code",
   "execution_count": null,
   "id": "8d80e606-f180-477a-8efc-d390e37fe024",
   "metadata": {},
   "outputs": [],
   "source": [
    "logging.critical(\"Really, really terribly wrong!\")"
   ]
  },
  {
   "cell_type": "code",
   "execution_count": null,
   "id": "680902c1-7801-4fb3-8c7e-4bfe8f399697",
   "metadata": {},
   "outputs": [],
   "source": [
    "logging.basicConfig(filename='demo.log', level=logging.DEBUG, force=True)"
   ]
  },
  {
   "cell_type": "code",
   "execution_count": null,
   "id": "d1501dde-86d6-4e0f-b6d6-c17c1eabe8eb",
   "metadata": {},
   "outputs": [],
   "source": [
    "logging.basicConfig(format='%(levelname)s:%(message)s', level=logging.DEBUG, force=True)\n",
    "logging.debug('This message should appear on the console')\n",
    "logging.info('So should this')\n",
    "logging.warning('And this, too')"
   ]
  },
  {
   "cell_type": "code",
   "execution_count": null,
   "id": "80594ff5-5330-446b-bc3a-871ee3c6c1a3",
   "metadata": {},
   "outputs": [],
   "source": [
    "logging.basicConfig(format='%(asctime)s - %(name)s - %(levelname)s - %(message)s', force=True)\n",
    "logging.warning('You still need to watch out!')"
   ]
  },
  {
   "cell_type": "code",
   "execution_count": null,
   "id": "8e067cd2-70a9-482c-b1e2-ada6991404b5",
   "metadata": {},
   "outputs": [],
   "source": [
    "logger = logging.getLogger('my_module_logger')\n",
    "logger.warning('This is a warning from my module')"
   ]
  },
  {
   "cell_type": "markdown",
   "id": "acaab764-4f3e-4db7-b2e7-ab55c27bf251",
   "metadata": {
    "jp-MarkdownHeadingCollapsed": true
   },
   "source": [
    "## selected other interesting packages:"
   ]
  },
  {
   "cell_type": "markdown",
   "id": "5a42a47c-27d1-426a-8856-74f5ddd2b938",
   "metadata": {},
   "source": [
    "- `struct`: Interpret bytes as packed binary data"
   ]
  },
  {
   "cell_type": "markdown",
   "id": "4cf547a7-7b71-4539-ba82-409e966aced0",
   "metadata": {},
   "source": [
    "- `calendar`: Calendar-related functions\n",
    "- `heapq`: Heap queue algorithm (ordered binary tree, each node smaller than any children)\n",
    "- `bisect`: bisection -- manipulating sorted lists\n",
    "- `weakref`: create weak references to objects (primarily for caching)\n",
    "- `types`: dynamic creation of new types / classes\n",
    "- `enum`: support enumerations\n",
    "- `graphlib`: support for graph-like structures"
   ]
  },
  {
   "cell_type": "markdown",
   "id": "6d5bdd89-1a9f-441e-8dbb-802cbf3531a3",
   "metadata": {},
   "source": [
    "- `abc`: abstract base classes (inheritance -- 'interfaces' in Python)\n",
    "  - `collections.abc`: abstract base classes for collections\n",
    "  - `numbers`: abstract base classes for numeric types"
   ]
  },
  {
   "cell_type": "markdown",
   "id": "f70b3a5e-f4fc-46f5-8f5f-a2f3ccc37d65",
   "metadata": {},
   "source": [
    "- `statistics`: simple statistics (mean/median/std etc). use `numpy`/`scipy` for more advanced capabilities"
   ]
  },
  {
   "cell_type": "markdown",
   "id": "2321531f-4266-4785-b32f-d8ca72deed26",
   "metadata": {},
   "source": [
    "- `sqlite3`: simple file-based database interface\n",
    "- `shelve`: python object persistence on top of pickle\n",
    "- `zlib`/`gzip`/`bz2`/`lzma`/`zipfile`/`tarfile`: support for various data compression formats"
   ]
  },
  {
   "cell_type": "markdown",
   "id": "b3028696-0f83-496d-a817-843019e3cd2f",
   "metadata": {},
   "source": [
    "- `hashlib`: Secure hashes and message digests\n",
    "- `secrets`: Generate secure random numbers for managing secrets"
   ]
  },
  {
   "cell_type": "markdown",
   "id": "2833bd74-a2f2-4f87-89d7-ecdc403106c5",
   "metadata": {},
   "source": [
    "- `curses`: build terminal UIs\n",
    "- `tkinter`: built-in UI framework"
   ]
  },
  {
   "cell_type": "markdown",
   "id": "a8a322ca-99bd-4529-bbf0-849b5a4c7c0e",
   "metadata": {},
   "source": [
    "- `ctypes`: call C code directly from python"
   ]
  },
  {
   "cell_type": "markdown",
   "id": "b5f61989-ac46-4822-a898-df98402d5f0d",
   "metadata": {},
   "source": [
    "- `threading`: Thread-based parallelism\n",
    "- `multiprocessing`: Process-based parallelism\n",
    " - `multiprocessing.shared_memory`: Shared memory for direct access across processes\n",
    "- `subprocess`: Subprocess management\n",
    "- `sched`: Event scheduler\n",
    "- `queue`: A synchronized (thread-safe) queue class\n",
    "- `concurrent.futures`: Launching parallel tasks\n",
    "- `asyncio`: asynchronous i/o for concurrent execution"
   ]
  },
  {
   "cell_type": "markdown",
   "id": "e42a9ab9-da8f-44ea-a7ec-b05ad937cbef",
   "metadata": {},
   "source": [
    "- `typing`: support for type hints\n",
    "- `unittest`: unit testing framework (prefer third-party `pytest`)\n",
    "- `pdb`: debugger\n",
    "- `timeit`: measure code execution time\n",
    "- `trace`: trace statement execution\n",
    "- `warnings`: control user-visible warnings\n",
    "- `dataclasses`: low-overhead 'passive' classes with just attributes\n",
    "- `gc`: garbage collector interface\n",
    "- `ast`: python abstract syntax tree parsers\n",
    "- `tokenize`: tokenizer for python source code\n",
    "- `dis`: disassemble python code (to bytecode)"
   ]
  },
  {
   "cell_type": "markdown",
   "id": "b85a5fbe-1869-4c6f-bdb7-5b18d6b1980f",
   "metadata": {},
   "source": [
    "- `msvcrt`/`winreg`/`winsound`: windows-specific functionality\n",
    "- `pwd`/`grp`/`tty`/...: unix/linux specific functionality"
   ]
  },
  {
   "cell_type": "code",
   "execution_count": null,
   "id": "850c39fe-33e9-4e0f-912d-99f0b822d581",
   "metadata": {},
   "outputs": [],
   "source": []
  }
 ],
 "metadata": {
  "kernelspec": {
   "display_name": "dhbw",
   "language": "python",
   "name": "dhbw"
  },
  "language_info": {
   "codemirror_mode": {
    "name": "ipython",
    "version": 3
   },
   "file_extension": ".py",
   "mimetype": "text/x-python",
   "name": "python",
   "nbconvert_exporter": "python",
   "pygments_lexer": "ipython3",
   "version": "3.11.0"
  }
 },
 "nbformat": 4,
 "nbformat_minor": 5
}
