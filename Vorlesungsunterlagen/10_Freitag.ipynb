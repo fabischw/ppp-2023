{
 "cells": [
  {
   "cell_type": "markdown",
   "id": "6455e7ee-090f-4f69-9945-61e6627249d5",
   "metadata": {
    "jp-MarkdownHeadingCollapsed": true
   },
   "source": [
    "# pandas\n",
    "- 'fast, powerful, flexible and easy to use open source data analysis and manipulation tool'\n",
    "- functionality looks a bit like execel sheets / relational tables\n",
    "- built on top of numpy\n",
    "- two main datastructures:\n",
    "  - `Series`: 1D Data -- typically single column, multiple rows\n",
    "  - `DataFrame`: 2D Data -- multiple rows, multiple columns\n",
    "- generally: avoid looping over rows of `DataFrames`: you can almost always achieve your goal using vectorized operations, joins etc."
   ]
  },
  {
   "cell_type": "markdown",
   "id": "f2c69db4-8d22-4b5a-a98f-d02edb13a613",
   "metadata": {
    "jp-MarkdownHeadingCollapsed": true
   },
   "source": [
    "## Installation and Import"
   ]
  },
  {
   "cell_type": "code",
   "execution_count": null,
   "id": "b738d357-a66c-4941-a335-261bad595325",
   "metadata": {},
   "outputs": [],
   "source": [
    "!/home/atreju/.conda/envs/dhbw/bin/pip install pandas"
   ]
  },
  {
   "cell_type": "code",
   "execution_count": null,
   "id": "dda9b055-98b6-4a78-bc4a-86406fdfa26f",
   "metadata": {},
   "outputs": [],
   "source": [
    "import numpy as np\n",
    "import pandas as pd  # convention, as usual"
   ]
  },
  {
   "cell_type": "markdown",
   "id": "40f906fd-834c-425f-9e59-7681545ab8aa",
   "metadata": {
    "jp-MarkdownHeadingCollapsed": true
   },
   "source": [
    "## pd.Series Basics\n",
    "- one-dimensional labeled array capable of holding any data type (integers, strings, floating point numbers, Python objects, etc.).\n",
    "- The axis labels are collectively referred to as the index. "
   ]
  },
  {
   "cell_type": "markdown",
   "id": "2db02cc7-5d86-49c1-99bd-a0c4566a9a79",
   "metadata": {},
   "source": [
    "### creating a Series\n",
    "- can be easily created from lists/numpy arrays/dicts/scalars"
   ]
  },
  {
   "cell_type": "code",
   "execution_count": null,
   "id": "0f08f6db-8bf5-46c4-b8c9-37e3cf401a23",
   "metadata": {},
   "outputs": [],
   "source": [
    "# create a Series from a list/numpy array\n",
    "pd.Series([3, 4, 5])"
   ]
  },
  {
   "cell_type": "code",
   "execution_count": null,
   "id": "cfd712a7-f225-4945-a528-6d4bb410d262",
   "metadata": {},
   "outputs": [],
   "source": [
    "# and specify an index while you're at it\n",
    "pd.Series([3, 4, 5], index=['a', 'b', 'c'])"
   ]
  },
  {
   "cell_type": "code",
   "execution_count": null,
   "id": "e457ac61-b3de-48fb-9091-acdf5895589a",
   "metadata": {},
   "outputs": [],
   "source": [
    "# or you can create it from a dictionary\n",
    "pd.Series({'a': 3, 'b': 4, 'c': 5})"
   ]
  },
  {
   "cell_type": "code",
   "execution_count": null,
   "id": "c07da205-fcc8-486a-8905-3a6cac3f70de",
   "metadata": {},
   "outputs": [],
   "source": [
    "# or from constants, basically like broadcasting. \n",
    "pd.Series(3, index=['a', 'b', 'c'])"
   ]
  },
  {
   "cell_type": "markdown",
   "id": "50637731-8c21-4294-b3a1-f45440519794",
   "metadata": {},
   "source": [
    "### Series properties\n",
    "- dtypes, math + broadcasting, names, ..."
   ]
  },
  {
   "cell_type": "code",
   "execution_count": null,
   "id": "9ea750b5-226a-4e7f-a874-6bcbe6fa258a",
   "metadata": {},
   "outputs": [],
   "source": [
    "# you can get out the index again\n",
    "s = pd.Series({'a': 3, 'b': 4, 'c': 5})\n",
    "s.index"
   ]
  },
  {
   "cell_type": "code",
   "execution_count": null,
   "id": "92dad5f5-fd5c-4921-a165-da874721ca1e",
   "metadata": {},
   "outputs": [],
   "source": [
    "# and there's a single datatype for a Series, usually one of the numpy types\n",
    "s.dtype"
   ]
  },
  {
   "cell_type": "code",
   "execution_count": null,
   "id": "30372d13-98ef-4529-a8b4-d96d3b422df2",
   "metadata": {},
   "outputs": [],
   "source": [
    "# just like numpy you can do vectorized math according to numpy broadcasting rules\n",
    "s + 2"
   ]
  },
  {
   "cell_type": "code",
   "execution_count": null,
   "id": "3a93a22b-9035-4635-837d-4f3fcb35854d",
   "metadata": {},
   "outputs": [],
   "source": [
    "# and a `pd.Series` can be used in many numpy functions directly (preserving, but not modifying the index)\n",
    "np.sqrt(s)"
   ]
  },
  {
   "cell_type": "code",
   "execution_count": null,
   "id": "0c8b8c8c-2583-4b5f-aa1e-a78f311bf701",
   "metadata": {},
   "outputs": [],
   "source": [
    "# and you can get a real numpy array out of it if you need to\n",
    "arr = s.to_numpy()\n",
    "arr"
   ]
  },
  {
   "cell_type": "code",
   "execution_count": null,
   "id": "dca5b184-50af-40ef-bae9-57f25c7f3aac",
   "metadata": {},
   "outputs": [],
   "source": [
    "type(arr)"
   ]
  },
  {
   "cell_type": "code",
   "execution_count": null,
   "id": "4a5a9059-71ad-4c02-984a-f84d4f02df77",
   "metadata": {},
   "outputs": [],
   "source": [
    "arr.dtype"
   ]
  },
  {
   "cell_type": "code",
   "execution_count": null,
   "id": "93cde00e-7cd5-478d-bdb0-32115aa0360e",
   "metadata": {},
   "outputs": [],
   "source": [
    "# a Series can also have a `name`, behaving sort of like a column label\n",
    "s = pd.Series({'a': 3, 'b': 4, 'c': 5}, name='series_name')\n",
    "s"
   ]
  },
  {
   "cell_type": "code",
   "execution_count": null,
   "id": "97b2ee96-7736-47ea-8709-1e6b54a77381",
   "metadata": {},
   "outputs": [],
   "source": [
    "# and you can change the name, of course\n",
    "s.rename('new_name')"
   ]
  },
  {
   "cell_type": "markdown",
   "id": "62f3242d-40ea-47c8-8cf9-75cf4ed1e315",
   "metadata": {},
   "source": [
    "### Indexing\n",
    "- indexing of rows by index value simply using []\n",
    "- indexing of rows by numerical row-number using `.iloc`\n",
    "- logical indexing like in numpy also works\n",
    "- no indexing of columns, since there's only one :)"
   ]
  },
  {
   "cell_type": "code",
   "execution_count": null,
   "id": "9feb4ddf-3bea-45b9-9060-2a42b9af393c",
   "metadata": {},
   "outputs": [],
   "source": [
    "s = pd.Series({'a': 3, 'b': 4, 'c': 5})\n",
    "s"
   ]
  },
  {
   "cell_type": "code",
   "execution_count": null,
   "id": "960be5c6-4513-40de-9464-190311ca564b",
   "metadata": {},
   "outputs": [],
   "source": [
    "# square bracket indexing returns the row with matching index\n",
    "s['a']"
   ]
  },
  {
   "cell_type": "code",
   "execution_count": null,
   "id": "dcbdb8f3-22c2-404f-9c54-c7fa9f1f1043",
   "metadata": {},
   "outputs": [],
   "source": [
    "# you can slice with non-numeric indices\n",
    "s['a':'c':2] *= 2\n",
    "s"
   ]
  },
  {
   "cell_type": "code",
   "execution_count": null,
   "id": "f42c76b0-88a5-43fa-afee-3dc532e0f74b",
   "metadata": {},
   "outputs": [],
   "source": [
    "# alternatively, use `Series.loc (more interesting for DataFrames)\n",
    "s.loc['a':'b']"
   ]
  },
  {
   "cell_type": "code",
   "execution_count": null,
   "id": "da78d7c1-be63-483f-a092-08ad960fa0d2",
   "metadata": {},
   "outputs": [],
   "source": [
    "# and iff the row name is a valid python variable name you can also access it as an attribute (but no slicing here)\n",
    "s.a"
   ]
  },
  {
   "cell_type": "code",
   "execution_count": null,
   "id": "b4fafe17-7889-44c9-86aa-001cf493ed0b",
   "metadata": {},
   "outputs": [],
   "source": [
    "# you can also use numerical indices -- row number, effectively\n",
    "s.iloc[1]"
   ]
  },
  {
   "cell_type": "code",
   "execution_count": null,
   "id": "8c3c6dff-3889-4b40-9afa-8ab5d1ddfbc1",
   "metadata": {},
   "outputs": [],
   "source": [
    "# and you can use logical indexing\n",
    "s[s > 4]"
   ]
  },
  {
   "cell_type": "code",
   "execution_count": null,
   "id": "d0218a64-090b-4371-bd63-463d1a00048a",
   "metadata": {},
   "outputs": [],
   "source": [
    "# you can create new rows simply by indexing and assignment\n",
    "# (but this is rather slow)\n",
    "s['foo'] = 5\n",
    "s"
   ]
  },
  {
   "cell_type": "code",
   "execution_count": null,
   "id": "cd4db35b-8a61-4f48-a5b7-f471e6eff7c1",
   "metadata": {},
   "outputs": [],
   "source": [
    "# and rows can be removed again using `del`\n",
    "# (again, rather slow)\n",
    "del s['foo']\n",
    "s"
   ]
  },
  {
   "cell_type": "markdown",
   "id": "d4401fdb-c5a2-4cb8-bead-53b1be695f06",
   "metadata": {},
   "source": [
    "### Automatic alignment\n",
    "- operations combining two Series objects automatically consider the index in all element-wise operations"
   ]
  },
  {
   "cell_type": "code",
   "execution_count": null,
   "id": "e2a041ea-a50e-4c94-925e-3d5fe04a9cef",
   "metadata": {},
   "outputs": [],
   "source": [
    "s1 = pd.Series({'a': 3, 'b': 4, 'c': 5           })\n",
    "s2 = pd.Series({        'b': 14, 'c': 15, 'd': 16})"
   ]
  },
  {
   "cell_type": "code",
   "execution_count": null,
   "id": "16f37933-2f02-41f5-abea-e00367271a55",
   "metadata": {},
   "outputs": [],
   "source": [
    "s1 + s2"
   ]
  },
  {
   "cell_type": "markdown",
   "id": "731a4b2b-4522-489a-9cdb-060184d03462",
   "metadata": {
    "jp-MarkdownHeadingCollapsed": true
   },
   "source": [
    "## pd.DataFrame Basics\n",
    "- 2-dimensional labeled data structure with columns of **potentially different** types\n",
    "- pretty much like a spreadsheet or SQL table\n",
    "- index for both rows and columns (and indices can be hierarchical)\n",
    "- most commonly used and most important pandas object"
   ]
  },
  {
   "cell_type": "markdown",
   "id": "c118307d-266a-4562-bf71-97f872f48fa4",
   "metadata": {},
   "source": [
    "### creating a DataFrame\n",
    "- can easily be created from dicts of lists, lists of dicts, Series, ...\n",
    "- or (commonly) read from files"
   ]
  },
  {
   "cell_type": "code",
   "execution_count": null,
   "id": "a286f0de-3e2b-4cb0-b4a6-97f59e0c36bf",
   "metadata": {},
   "outputs": [],
   "source": [
    "data = {\n",
    "    'first_column': [1, 2, 3, 4, 5],\n",
    "    'second_column': [1, 2, 3.1415, 4, 5]\n",
    "}\n",
    "df = pd.DataFrame(data)\n",
    "df"
   ]
  },
  {
   "cell_type": "code",
   "execution_count": null,
   "id": "9673809b-9094-452b-9c62-609b944b0ddc",
   "metadata": {},
   "outputs": [],
   "source": [
    "# or with more interesting row index\n",
    "data = {\n",
    "    'first_column': [1, 2, 3, 4, 5],\n",
    "    'second_column': [1, 2, 3.1415, 4, 5]\n",
    "}\n",
    "df = pd.DataFrame(data, index = ['a', 'b', 'c', 'd', 'e'])\n",
    "df"
   ]
  },
  {
   "cell_type": "code",
   "execution_count": null,
   "id": "aafbb42c-23ba-48f9-a458-409a5736afe6",
   "metadata": {},
   "outputs": [],
   "source": [
    "# or read from a large variety of file formats\n",
    "pd.read_csv('../data/iris.csv')"
   ]
  },
  {
   "cell_type": "code",
   "execution_count": null,
   "id": "1e43b46c-2af1-4d89-815d-e583d10f8dd5",
   "metadata": {},
   "outputs": [],
   "source": [
    "pd.read_"
   ]
  },
  {
   "cell_type": "markdown",
   "id": "b83cc4db-0362-4583-8322-6a6f434d0173",
   "metadata": {
    "jp-MarkdownHeadingCollapsed": true
   },
   "source": [
    "### DataFrame properties"
   ]
  },
  {
   "cell_type": "code",
   "execution_count": null,
   "id": "b7189751-ad6d-46ae-bf44-f34e606b3624",
   "metadata": {},
   "outputs": [],
   "source": [
    "data = {\n",
    "    'first_column': [1, 2, 3, 4, 5],\n",
    "    'second_column': [1, 2, 3.1415, 4, 5]\n",
    "}\n",
    "df = pd.DataFrame(data, index = ['a', 'b', 'c', 'd', 'e'])\n",
    "df"
   ]
  },
  {
   "cell_type": "code",
   "execution_count": null,
   "id": "b4082002-c06f-47d1-b5f2-a5d99ab45b11",
   "metadata": {},
   "outputs": [],
   "source": [
    "# you can get out the index again\n",
    "df.index"
   ]
  },
  {
   "cell_type": "code",
   "execution_count": null,
   "id": "6faef26b-e420-4acf-8cb5-0b717a8f6acf",
   "metadata": {},
   "outputs": [],
   "source": [
    "# but now there's also an index for the columns\n",
    "df.columns"
   ]
  },
  {
   "cell_type": "code",
   "execution_count": null,
   "id": "1a8d9d90-decd-4100-8c1a-74b87e306ad5",
   "metadata": {},
   "outputs": [],
   "source": [
    "# and the dtype is now column-specific\n",
    "df.dtypes"
   ]
  },
  {
   "cell_type": "code",
   "execution_count": null,
   "id": "3ff2fc1d-92eb-4c9e-a4de-869a9af455b4",
   "metadata": {},
   "outputs": [],
   "source": [
    "# you also have a shape, same as in numpy\n",
    "df.shape"
   ]
  },
  {
   "cell_type": "code",
   "execution_count": null,
   "id": "1e2ea61d-d4fa-4378-b837-6662175b6bd0",
   "metadata": {},
   "outputs": [],
   "source": [
    "# just like numpy you can do vectorized math according to numpy broadcasting rules\n",
    "df + 2"
   ]
  },
  {
   "cell_type": "code",
   "execution_count": null,
   "id": "d59fa751-30c8-492f-a1fa-eda41680da89",
   "metadata": {},
   "outputs": [],
   "source": [
    "# or pass it to numpy functions (if the datatypes of all columns are compatible of course)\n",
    "# this will automatically upcast column dtypes as necessary\n",
    "np.sqrt(df)"
   ]
  },
  {
   "cell_type": "code",
   "execution_count": null,
   "id": "c40d4c3e-21a5-4bd9-b0b9-d98ce42f422c",
   "metadata": {},
   "outputs": [],
   "source": [
    "np.sqrt(df).dtypes"
   ]
  },
  {
   "cell_type": "code",
   "execution_count": null,
   "id": "a6afa901-bfec-424b-9f45-bd36ffb3a013",
   "metadata": {},
   "outputs": [],
   "source": [
    "# you can still convert it to a single numpy array\n",
    "df_arr = df.to_numpy()\n",
    "df_arr"
   ]
  },
  {
   "cell_type": "code",
   "execution_count": null,
   "id": "fb83d00b-6f9c-42e7-9ef5-2ee09d4b783e",
   "metadata": {},
   "outputs": [],
   "source": [
    "# but that needs to bring all columns to a common type by upcasting\n",
    "df_arr.dtype"
   ]
  },
  {
   "cell_type": "code",
   "execution_count": null,
   "id": "bf656123-aa1f-4aed-ae4a-286a2797a333",
   "metadata": {},
   "outputs": [],
   "source": [
    "# more interestin type mixing\n",
    "data = {\n",
    "    'first_column': [1, 2, 3, 4, 5],\n",
    "    'second_column': ['foo', 'bar', 'bazz', 'here', 'there']\n",
    "}\n",
    "df = pd.DataFrame(data, index = ['a', 'b', 'c', 'd', 'e'])\n",
    "df"
   ]
  },
  {
   "cell_type": "code",
   "execution_count": null,
   "id": "7245f05c-0ce3-4dd1-a36e-84f60df00401",
   "metadata": {},
   "outputs": [],
   "source": [
    "df.dtypes"
   ]
  },
  {
   "cell_type": "code",
   "execution_count": null,
   "id": "2796280b-661d-4d3c-8701-e0ea4d637689",
   "metadata": {
    "scrolled": true
   },
   "outputs": [],
   "source": [
    "# obviously these kinds of operations only work on compatible column types\n",
    "df + 2"
   ]
  },
  {
   "cell_type": "code",
   "execution_count": null,
   "id": "8e6714c7-7655-4696-bc2f-9a5c5e8a5acc",
   "metadata": {},
   "outputs": [],
   "source": [
    "# and the last resort for upcasting mixed types is `object`\n",
    "df.to_numpy()"
   ]
  },
  {
   "cell_type": "markdown",
   "id": "96b6e3d4-4294-492e-a5ee-29c2cdab6b69",
   "metadata": {
    "jp-MarkdownHeadingCollapsed": true
   },
   "source": [
    "### indexing\n",
    "- square brackets now index columns, not rows\n",
    "- `.loc` allows indexing of both rows and column\n",
    "- `.iloc` allows numerical row/column-indices\n",
    "- logical indexing now doesn't reduce the size, but just replaces unselected values by `NaN`. Use `.dropna` to actually remove rows"
   ]
  },
  {
   "cell_type": "code",
   "execution_count": null,
   "id": "eb4b3262-0a45-4c2b-ac62-6fa899587dbd",
   "metadata": {},
   "outputs": [],
   "source": [
    "data = {\n",
    "    'first_column': [1, 2, 3, 4, 5],\n",
    "    'second_column': [1, 2, 3.1415, 4, 5]\n",
    "}\n",
    "df = pd.DataFrame(data, index = ['a', 'b', 'c', 'd', 'e'])\n",
    "df"
   ]
  },
  {
   "cell_type": "code",
   "execution_count": null,
   "id": "3739f7e9-0359-4858-8830-4b32378e1fe7",
   "metadata": {},
   "outputs": [],
   "source": [
    "# normal indexing gives me a column\n",
    "df['first_column']"
   ]
  },
  {
   "cell_type": "code",
   "execution_count": null,
   "id": "a4a5f5b0-e0fb-4b50-a891-0379d732f76c",
   "metadata": {},
   "outputs": [],
   "source": [
    "# but (watch out!) a slice in the same position will be applied to rows, not columns\n",
    "df['a'::2]"
   ]
  },
  {
   "cell_type": "code",
   "execution_count": null,
   "id": "e6ba224b-4c4b-4ca4-8168-505e947cec6f",
   "metadata": {},
   "outputs": [],
   "source": [
    "# you can also access the column as an attribute if it's a valid python variable name\n",
    "df.second_column"
   ]
  },
  {
   "cell_type": "code",
   "execution_count": null,
   "id": "341a2887-043b-478a-88ef-d875d97fda32",
   "metadata": {},
   "outputs": [],
   "source": [
    "# `.loc` by default will be a row-index still\n",
    "df.loc['a']"
   ]
  },
  {
   "cell_type": "code",
   "execution_count": null,
   "id": "631968d0-6592-4e81-9f93-88a4d4f5a507",
   "metadata": {},
   "outputs": [],
   "source": [
    "# but I can pass the column as second argument\n",
    "df.loc['c', 'first_column']"
   ]
  },
  {
   "cell_type": "code",
   "execution_count": null,
   "id": "17af1e6d-1998-4ee7-b747-95e442a118b1",
   "metadata": {},
   "outputs": [],
   "source": [
    "# slicing still works also in `.loc`\n",
    "# and also, I can select multiple rows (or columns) by indexing with a list/tuple\n",
    "df.loc['a':'d':2, ('first_column', 'second_column')]"
   ]
  },
  {
   "cell_type": "code",
   "execution_count": null,
   "id": "79a35a36-1447-4f9b-8ced-c92aa7a59562",
   "metadata": {},
   "outputs": [],
   "source": [
    "# and even re-order the index that way\n",
    "df.loc[('a', 'c', 'b'), 'first_column'::2]"
   ]
  },
  {
   "cell_type": "code",
   "execution_count": null,
   "id": "19b135b9-f4bb-4100-879a-492ecea7cea0",
   "metadata": {},
   "outputs": [],
   "source": [
    "# `.iloc` for numerical indicies into both rows and columns, otherwise working like `.loc`\n",
    "df.iloc[-1, :]"
   ]
  },
  {
   "cell_type": "code",
   "execution_count": null,
   "id": "4b28c976-b9d8-4985-b740-77dc21328f9f",
   "metadata": {},
   "outputs": [],
   "source": [
    "# logical indexing will simply set all non-selected values to NaN\n",
    "df[df > 3]"
   ]
  },
  {
   "cell_type": "code",
   "execution_count": null,
   "id": "17d72805-b77f-4498-aefa-2532a424bd89",
   "metadata": {},
   "outputs": [],
   "source": [
    "# use dropna to actuall git rid of extra rows/columns\n",
    "df[df > 3].dropna(how='any')"
   ]
  },
  {
   "cell_type": "code",
   "execution_count": null,
   "id": "f81973bb-ab14-419b-b312-68af94a8c66a",
   "metadata": {},
   "outputs": [],
   "source": [
    "# decide on dropping rows where any value is NaN, or all values are NaN\n",
    "df[df > 3].dropna(how='all')"
   ]
  },
  {
   "cell_type": "code",
   "execution_count": null,
   "id": "85d9544b-f401-47de-87a9-a551f678da2f",
   "metadata": {},
   "outputs": [],
   "source": [
    "# you can again add columns (or rows) using indexing + assignment\n",
    "df['new_column'] = [11, 12, 13, 14, 15]\n",
    "df"
   ]
  },
  {
   "cell_type": "code",
   "execution_count": null,
   "id": "ce9a8989-01a2-4090-a97f-c52f1f8bb8e2",
   "metadata": {},
   "outputs": [],
   "source": [
    "# obviously the length needs to be broadcastable\n",
    "df['new_column'] = [11, 12, 13]"
   ]
  },
  {
   "cell_type": "code",
   "execution_count": null,
   "id": "a5067725-d6e4-4cbe-8044-871c7ed60aae",
   "metadata": {},
   "outputs": [],
   "source": [
    "# broadcasting works just fine here\n",
    "df['new_column'] = 5\n",
    "df"
   ]
  },
  {
   "cell_type": "code",
   "execution_count": null,
   "id": "527ab5fb-519d-4802-b807-61301ceada83",
   "metadata": {},
   "outputs": [],
   "source": [
    "# same for rows, using loc\n",
    "df.loc['f', :] = [6, 6., 5]\n",
    "df"
   ]
  },
  {
   "cell_type": "code",
   "execution_count": null,
   "id": "59d27fe7-98cf-4755-bb2c-364b7ddc5049",
   "metadata": {},
   "outputs": [],
   "source": [
    "# or both could be new\n",
    "df.loc['g', 'some_column'] = 42\n",
    "df"
   ]
  },
  {
   "cell_type": "markdown",
   "id": "582cd39b-eb95-4e2e-9f2c-9c610a2bdbd7",
   "metadata": {
    "jp-MarkdownHeadingCollapsed": true
   },
   "source": [
    "### Automatic Alignment\n",
    "- for `DataFrame`s alignment happens on both rows and columns"
   ]
  },
  {
   "cell_type": "code",
   "execution_count": null,
   "id": "968152b9-cc33-452b-852e-6b905b7f1f04",
   "metadata": {},
   "outputs": [],
   "source": [
    "df1 = pd.DataFrame(np.ones((6, 4)), columns=['A', 'B', 'C', 'D'], index=['a', 'b', 'c', 'd', 'e', 'f'])\n",
    "df2 = pd.DataFrame(np.ones((3, 3)), columns=['A', 'C', 'D'], index=['b', 'd', 'f'])\n",
    "df1 + df2\n"
   ]
  },
  {
   "cell_type": "code",
   "execution_count": null,
   "id": "9c0ad469-3bc9-4346-a367-6c33410468b1",
   "metadata": {},
   "outputs": [],
   "source": [
    "# but you can manually specify a 'fill value' to use if one of the DataFrames is NaN\n",
    "df1.add(df2, fill_value=0)"
   ]
  },
  {
   "cell_type": "code",
   "execution_count": null,
   "id": "08df258d-ad4e-419d-adc8-1eede563a7b3",
   "metadata": {},
   "outputs": [],
   "source": [
    "df = pd.DataFrame(np.arange(15).reshape(5, 3), columns=['A', 'B', 'C'])\n",
    "df"
   ]
  },
  {
   "cell_type": "code",
   "execution_count": null,
   "id": "1d6046bb-51c4-4060-a066-dd76200a02c6",
   "metadata": {},
   "outputs": [],
   "source": [
    "# operations between DataFrames and Series are broadcast row-wise\n",
    "s = pd.Series([1, 1, 1], index=['A', 'B', 'C'])\n",
    "df - s"
   ]
  },
  {
   "cell_type": "code",
   "execution_count": null,
   "id": "7101c734-222c-49ec-8088-3c671bb533be",
   "metadata": {},
   "outputs": [],
   "source": [
    "# but only if the indices match will the result make much sense (automatic alignment again)\n",
    "s = pd.Series([1, 1, 1], index=['X', 'B', 'Z'])\n",
    "df - s"
   ]
  },
  {
   "cell_type": "code",
   "execution_count": null,
   "id": "513b58ac-ea2c-456a-9109-b1df1aeea651",
   "metadata": {},
   "outputs": [],
   "source": [
    "# so subtracting eg one columns from the rest doesn't work the way you think:\n",
    "df - df.C"
   ]
  },
  {
   "cell_type": "code",
   "execution_count": null,
   "id": "a290f0b4-83e8-446e-ba81-b22497ed1f3a",
   "metadata": {},
   "outputs": [],
   "source": [
    "# you can use explicit dataframe methods if you want to apply arithmetic column-wise, specifying an axis\n",
    "df.sub(df.C, axis=0)"
   ]
  },
  {
   "cell_type": "markdown",
   "id": "fa24b901-f67c-465d-95f4-5acf893970ac",
   "metadata": {
    "jp-MarkdownHeadingCollapsed": true
   },
   "source": [
    "## Truthiness and comparison of DataFrames"
   ]
  },
  {
   "cell_type": "code",
   "execution_count": null,
   "id": "83acd7bf-a491-456c-91c2-657d922435bf",
   "metadata": {},
   "outputs": [],
   "source": [
    "data = {\n",
    "    'first_column': [1, 2, 3, 4, 5],\n",
    "    'second_column': [1, 2, 3.1415, 4, 5]\n",
    "}\n",
    "df = pd.DataFrame(data, index = ['a', 'b', 'c', 'd', 'e'])\n",
    "df"
   ]
  },
  {
   "cell_type": "code",
   "execution_count": null,
   "id": "fe81015e-3173-4ea0-8f52-c6574017f31c",
   "metadata": {},
   "outputs": [],
   "source": [
    "if df > 0:\n",
    "    print('It is indeed greater than 0')"
   ]
  },
  {
   "cell_type": "code",
   "execution_count": null,
   "id": "12149a38-21db-4263-a881-a058f2c4d1cd",
   "metadata": {},
   "outputs": [],
   "source": [
    "boolean_df = df > 0\n",
    "boolean_df"
   ]
  },
  {
   "cell_type": "code",
   "execution_count": null,
   "id": "b0d9ce44-8bc0-484a-aada-29484921f496",
   "metadata": {},
   "outputs": [],
   "source": [
    "boolean_df.all()"
   ]
  },
  {
   "cell_type": "code",
   "execution_count": null,
   "id": "a1823690-9f09-43ab-9ef7-7d12008dd7a1",
   "metadata": {},
   "outputs": [],
   "source": [
    "boolean_df.all(axis=1)"
   ]
  },
  {
   "cell_type": "code",
   "execution_count": null,
   "id": "d3a35e2a-dae7-42ae-b519-ca50e52ef1a2",
   "metadata": {},
   "outputs": [],
   "source": [
    "boolean_df.all().all()"
   ]
  },
  {
   "cell_type": "code",
   "execution_count": null,
   "id": "d1d8643f-2580-48a3-85ad-b2e16fdab417",
   "metadata": {},
   "outputs": [],
   "source": [
    "if boolean_df.all().all():\n",
    "    print('Actually, all the elements are True')"
   ]
  },
  {
   "cell_type": "code",
   "execution_count": null,
   "id": "62228852-2a18-4632-8d45-8b0a3579d206",
   "metadata": {},
   "outputs": [],
   "source": [
    "df.loc['a', 'first_column'] = np.NaN\n",
    "df"
   ]
  },
  {
   "cell_type": "code",
   "execution_count": null,
   "id": "026a83e9-0279-4b55-892f-2d11e1634663",
   "metadata": {},
   "outputs": [],
   "source": [
    "# NaNs hiding in a DataFrame can make some things suprisingly false\n",
    "df + df == 2*df"
   ]
  },
  {
   "cell_type": "code",
   "execution_count": null,
   "id": "deb229eb-6b98-4376-9b1c-e65896f264c4",
   "metadata": {},
   "outputs": [],
   "source": [
    "(df + df == 2*df).all().all()"
   ]
  },
  {
   "cell_type": "code",
   "execution_count": null,
   "id": "6b86c43c-7034-4949-8210-107af6c3b277",
   "metadata": {},
   "outputs": [],
   "source": [
    "# use `equals` to compare dataframes for equality instead\n",
    "(df + df).equals(2*df)"
   ]
  },
  {
   "cell_type": "markdown",
   "id": "af1744dc-9330-4ca5-a93b-2df67a3fde12",
   "metadata": {
    "jp-MarkdownHeadingCollapsed": true
   },
   "source": [
    "## Summarizing DataFrames"
   ]
  },
  {
   "cell_type": "code",
   "execution_count": null,
   "id": "524561b2-7052-4491-b128-260d69c8bb7f",
   "metadata": {},
   "outputs": [],
   "source": [
    "df = pd.read_csv('../data/iris.csv')"
   ]
  },
  {
   "cell_type": "code",
   "execution_count": null,
   "id": "4c8209d7-4cdf-44b5-b8ba-9d6b36f68385",
   "metadata": {},
   "outputs": [],
   "source": [
    "# by default a limited number of rows (and columns) is printed\n",
    "df"
   ]
  },
  {
   "cell_type": "code",
   "execution_count": null,
   "id": "f296503e-6771-46c9-975f-cef9daf09f72",
   "metadata": {},
   "outputs": [],
   "source": [
    "# look only at the first N rows\n",
    "df.head(5)"
   ]
  },
  {
   "cell_type": "code",
   "execution_count": null,
   "id": "4b74f2da-52c4-4a9e-be31-fa7060ee3570",
   "metadata": {},
   "outputs": [],
   "source": [
    "# or the last N rows\n",
    "df.tail(3)"
   ]
  },
  {
   "cell_type": "code",
   "execution_count": null,
   "id": "7b69ab88-d8ce-44b1-be7c-09cc511aa6bb",
   "metadata": {},
   "outputs": [],
   "source": [
    "# get some overview of datatypes and NULL/NaN values\n",
    "df.info()"
   ]
  },
  {
   "cell_type": "code",
   "execution_count": null,
   "id": "815995f9-99e4-47a1-bd5d-6cfe2fbf8bb1",
   "metadata": {},
   "outputs": [],
   "source": [
    "# or some descriptive statistics (leaving out non-numeric columns)\n",
    "# (you can specify your own percentiles, too)\n",
    "df.describe()"
   ]
  },
  {
   "cell_type": "code",
   "execution_count": null,
   "id": "97b0059b-33fa-42cb-90a8-7ef5dd62b2c5",
   "metadata": {},
   "outputs": [],
   "source": [
    "# describe also works on some non-numeric columns, just not in combination with numerical columns)\n",
    "df.variety.describe()"
   ]
  },
  {
   "cell_type": "code",
   "execution_count": null,
   "id": "c0bd3c61-6eeb-4c45-a7e0-1f1af587df77",
   "metadata": {},
   "outputs": [],
   "source": [
    "# unless you force it\n",
    "df.describe(include='all')"
   ]
  },
  {
   "cell_type": "markdown",
   "id": "988334f0-acd0-47fd-9677-b96b4099464d",
   "metadata": {
    "jp-MarkdownHeadingCollapsed": true
   },
   "source": [
    "## sorting DataFrames"
   ]
  },
  {
   "cell_type": "code",
   "execution_count": null,
   "id": "c2101980-a6ea-4483-9323-d430f36c8070",
   "metadata": {},
   "outputs": [],
   "source": [
    "df = pd.DataFrame(\n",
    "    np.random.randint(low=3, high=17, size=(5, 3)),\n",
    "    columns=['col_1', 'col_2', 'col_3'],\n",
    "    index=['e', 'a', 'x', 'y', 'b']\n",
    ")\n",
    "df"
   ]
  },
  {
   "cell_type": "code",
   "execution_count": null,
   "id": "d1f9fe83-0e5b-48ba-8b83-0977c5bf8bcc",
   "metadata": {},
   "outputs": [],
   "source": [
    "# sort by index\n",
    "df.sort_index()"
   ]
  },
  {
   "cell_type": "code",
   "execution_count": null,
   "id": "ed801cc1-7980-416f-9f1f-d344251bad61",
   "metadata": {},
   "outputs": [],
   "source": [
    "# sort by the values in one column\n",
    "df.sort_values(['col_1'])"
   ]
  },
  {
   "cell_type": "code",
   "execution_count": null,
   "id": "c7dd1e8a-7c2a-42cd-95a4-099fc2eb73ca",
   "metadata": {},
   "outputs": [],
   "source": [
    "# or by multiple columns (if there are ties in the first column)\n",
    "df.sort_values(['col_1', 'col_3'])"
   ]
  },
  {
   "cell_type": "markdown",
   "id": "9c98a96b-47d5-47f4-9404-308403298ab7",
   "metadata": {
    "jp-MarkdownHeadingCollapsed": true
   },
   "source": [
    "## `query` for convenient filtering"
   ]
  },
  {
   "cell_type": "code",
   "execution_count": null,
   "id": "920ac5af-114c-4605-a4bc-94d7a33798c2",
   "metadata": {},
   "outputs": [],
   "source": [
    "df = pd.read_csv('../data/iris.csv')"
   ]
  },
  {
   "cell_type": "code",
   "execution_count": null,
   "id": "c2a28da6-a4a2-4e75-a60f-301d7c7bc722",
   "metadata": {},
   "outputs": [],
   "source": [
    "# not so super convenient to read\n",
    "df[((df.variety == 'Setosa') & (df['petal_width'] > 0.4)) | ((df.variety == 'Virginica') & (df['sepal_width'] > 3.5))]"
   ]
  },
  {
   "cell_type": "code",
   "execution_count": null,
   "id": "e3155527-48f7-4278-b712-1431444ebfd6",
   "metadata": {},
   "outputs": [],
   "source": [
    "# use a query string instead\n",
    "\n",
    "df.query('(variety == \"Setosa\" and petal_width > 0.4) or (variety == \"Virginica\" and sepal_width > 3.5)')"
   ]
  },
  {
   "cell_type": "code",
   "execution_count": null,
   "id": "f02a70b6-e240-4135-9952-1bac83df2324",
   "metadata": {},
   "outputs": [],
   "source": [
    "# of course you can just refer to column values in both sides of the comparison, and you can do math in the query...\n",
    "df.query('sepal_length < 1.1*petal_length')"
   ]
  },
  {
   "cell_type": "code",
   "execution_count": null,
   "id": "321b5386-900e-4be8-9cc7-0055f4cd3e57",
   "metadata": {},
   "outputs": [],
   "source": [
    "# sometimes column names are not valid python identifiers:\n",
    "renamed_df = df.rename(columns={'sepal_length': 'sepal length'})\n",
    "renamed_df.head(3)"
   ]
  },
  {
   "cell_type": "code",
   "execution_count": null,
   "id": "44907522-1266-4340-9e6a-0c8a0fb59d44",
   "metadata": {},
   "outputs": [],
   "source": [
    "# query doesn't work out of the box then\n",
    "renamed_df.query('sepal length > 7')"
   ]
  },
  {
   "cell_type": "code",
   "execution_count": null,
   "id": "d586f58a-ee25-4293-9a30-bd3482ac3330",
   "metadata": {},
   "outputs": [],
   "source": [
    "# but you can use backticks to escape such variable names\n",
    "renamed_df.query('`sepal length` > 7')"
   ]
  },
  {
   "cell_type": "code",
   "execution_count": null,
   "id": "35dc273e-2b74-4d3a-8616-23333f0933bc",
   "metadata": {},
   "outputs": [],
   "source": [
    "# you can refer to external variables by pre-fixing them with an @-sign\n",
    "min_sepal_length = 7\n",
    "df.query('sepal_length > @min_sepal_length')"
   ]
  },
  {
   "cell_type": "markdown",
   "id": "4af4741e-a8de-4c82-9d82-507f010e1fa0",
   "metadata": {
    "jp-MarkdownHeadingCollapsed": true
   },
   "source": [
    "## aggregations\n",
    "- return a single value for a series\n",
    "- usually applied per-column (but could also be applied per-row)\n",
    "- easy methods for aggregating multiple columns with multiple aggregation functions\n",
    "- revisit later with windowing/grouping"
   ]
  },
  {
   "cell_type": "markdown",
   "id": "db3f6221-cbd1-44f6-9bb2-b36a8a4a4f65",
   "metadata": {},
   "source": [
    "**there are a large number of such functions we could apply**\n",
    "- count: Number of non-NA observations\n",
    "- sum: Sum of values\n",
    "- prod: Product of values\n",
    "- mean: Mean of values\n",
    "- std: Sample standard deviation\n",
    "- sem: Standard error of the mean\n",
    "- var: Unbiased variance\n",
    "- skew: Sample skewness (3rd moment)\n",
    "- kurt: Sample kurtosis (4th moment)\n",
    "- median: Arithmetic median of values\n",
    "- quantile: Sample quantile (value at %)\n",
    "- min/max: Smalles/Largest value\n",
    "- idxmin/idxmax: Index of smallest/largest value\n",
    "- mode: Most frequent value\n",
    "- nunique: number of unique values\n",
    "- cumsum/comprod: Cumulative sum/product\n",
    "- cummax/cummin: Cumulative maximum/minimum\n",
    "- ... probably more that I forgot"
   ]
  },
  {
   "cell_type": "code",
   "execution_count": null,
   "id": "c2042389-1a17-4534-97f2-e75d0d104380",
   "metadata": {},
   "outputs": [],
   "source": [
    "df = pd.read_csv('../data/iris.csv')"
   ]
  },
  {
   "cell_type": "code",
   "execution_count": null,
   "id": "51de41fa-bff0-4c68-ba50-a485bd90f4e5",
   "metadata": {},
   "outputs": [],
   "source": [
    "# applying an aggregation function to a dataframe applies the function column-wise\n",
    "df.drop(columns='variety').mean()"
   ]
  },
  {
   "cell_type": "code",
   "execution_count": null,
   "id": "7d3fa92e-651b-4e6d-a0b0-63eb42239228",
   "metadata": {},
   "outputs": [],
   "source": [
    "# I can apply it row-wise using the `axis` parameter\n",
    "df.drop(columns='variety').mean(axis=1)"
   ]
  },
  {
   "cell_type": "code",
   "execution_count": null,
   "id": "6e7b132c-1164-4742-8517-c263f9de1ed3",
   "metadata": {},
   "outputs": [],
   "source": [
    "# sometimes we want to apply multiple aggregations, there's a convenient helper `aggregate`\n",
    "df.drop(columns='variety').aggregate(['sum', 'mean', 'median', 'nunique'])"
   ]
  },
  {
   "cell_type": "code",
   "execution_count": null,
   "id": "af1e17e5-9da7-4731-91e4-d800703ce439",
   "metadata": {},
   "outputs": [],
   "source": [
    "# you can use your own functions -- the argument will be a series\n",
    "# but the name is not very nice now...\n",
    "df.drop(columns='variety').aggregate([lambda x: sum(x), lambda x: x.median()])"
   ]
  },
  {
   "cell_type": "code",
   "execution_count": null,
   "id": "7bd03a89-5c90-4db3-9710-c8aed178819d",
   "metadata": {},
   "outputs": [],
   "source": [
    "def my_mean(s: pd.Series) -> float | str:\n",
    "    if s.dtype.name != 'object':\n",
    "        return sum(s) / len(s)\n",
    "    return '<CAN NOT AGGREGATE OBJECTS>'"
   ]
  },
  {
   "cell_type": "code",
   "execution_count": null,
   "id": "93b9bd8d-fda3-4424-ae26-491d02d30199",
   "metadata": {},
   "outputs": [],
   "source": [
    "# if I used named functions rather than lambdas, the name of the function is assigned\n",
    "df.aggregate([my_mean])"
   ]
  },
  {
   "cell_type": "code",
   "execution_count": null,
   "id": "28fdf423-d70a-4ba4-81e6-2573afd68557",
   "metadata": {},
   "outputs": [],
   "source": [
    "# I can also use aggregate with dictionary arguments, allowing me to apply separate functions for each column\n",
    "df.aggregate(\n",
    "    {\n",
    "        'sepal_length': 'mean',\n",
    "        'sepal_width': ['mean', 'min', 'max']\n",
    "    }\n",
    ")"
   ]
  },
  {
   "cell_type": "code",
   "execution_count": null,
   "id": "d7daba01-cb32-44f5-8056-6a69f9eb4e29",
   "metadata": {},
   "outputs": [],
   "source": [
    "# finally, you can use named arguments to select columns /and/ rename the output label\n",
    "df.aggregate(\n",
    "    sepal_length_mean=('sepal_length', lambda x: x.mean()),\n",
    "    sepal_width_max=('sepal_width', lambda x: x.max()),\n",
    ")"
   ]
  },
  {
   "cell_type": "code",
   "execution_count": null,
   "id": "fe889f1e-a919-40dd-824e-580df0f175a7",
   "metadata": {},
   "outputs": [],
   "source": [
    "# `agg` is an alias for `aggregate`\n",
    "# documentation actually recommends using the `agg` alias\n",
    "df.agg == df.aggregate"
   ]
  },
  {
   "cell_type": "markdown",
   "id": "cc5e8dfb-6302-42fb-9518-65dc5679b3e1",
   "metadata": {
    "jp-MarkdownHeadingCollapsed": true
   },
   "source": [
    "## apply functions to DataFrames\n",
    "- apply functions to a whole table: `pipe`\n",
    "- apply functions to rows/columns: `apply`\n",
    "- apply functions to each element: `map`\n",
    "- apply multiple functions to each element: `transform`"
   ]
  },
  {
   "cell_type": "markdown",
   "id": "87c71e2e-1eb4-4a3c-9aa0-be50620a7fd1",
   "metadata": {},
   "source": [
    "### pipe\n",
    "- function argument is a dataframe\n",
    "- function return is a dataframe"
   ]
  },
  {
   "cell_type": "code",
   "execution_count": null,
   "id": "fc330cd8-9f80-408b-8461-6522576579ae",
   "metadata": {},
   "outputs": [],
   "source": [
    "address_df = pd.DataFrame(dict(address = ['Frau Dr. Ute Herzog,  Esplanade 89,  31759 Teugn', 'Gaby Maier, Landsberger Allee 59, 31759 München']))\n",
    "address_df"
   ]
  },
  {
   "cell_type": "code",
   "execution_count": null,
   "id": "2ab683fe-020c-4dbe-9a8e-c40a8a295b46",
   "metadata": {},
   "outputs": [],
   "source": [
    "def extract_postcode_city(df):\n",
    "    df['postcode_city'] = df['address'].str.split(',').str.get(-1).str.strip()\n",
    "    return df\n",
    "\n",
    "def extract_postcode(df):\n",
    "    df['postcode'] = df['postcode_city'].str.split(' ').str.get(0).str.strip()\n",
    "    return df\n",
    "\n",
    "def extract_name(df):\n",
    "    df['name'] = df['address'].str.split(',').str.get(0).str.strip()\n",
    "    return df\n",
    "\n",
    "def add_country_name(df, country):\n",
    "    df['country'] = country\n",
    "    return df"
   ]
  },
  {
   "cell_type": "code",
   "execution_count": null,
   "id": "4a3534d0-ad96-4f85-8704-10abcb3a8f03",
   "metadata": {},
   "outputs": [],
   "source": [
    "# applying all three is not very nice to read\n",
    "extract_name(add_country_name(extract_postcode(extract_postcode_city(address_df)), ' DE'))"
   ]
  },
  {
   "cell_type": "code",
   "execution_count": null,
   "id": "8327dd2d-ddcc-4e78-8769-6920fbf4f730",
   "metadata": {},
   "outputs": [],
   "source": [
    "# much nicer to read with `pipe`\n",
    "(\n",
    "  address_df\n",
    "    .pipe(extract_postcode_city)\n",
    "    .pipe(extract_postcode)\n",
    "    .pipe(add_country_name, 'DE')\n",
    "    .pipe(extract_name)\n",
    ")"
   ]
  },
  {
   "cell_type": "markdown",
   "id": "055a6155-df15-4c81-a579-a9d8a075896b",
   "metadata": {},
   "source": [
    "### apply\n",
    "- function argument is a series\n",
    "- function return is a pd.Series or a scalar\n",
    "  - if the function returns a Series, `apply` returns a DataFrame\n",
    "  - if the function returns a scalar, `apply` returns a Series\n",
    "- the function is applied to all rows or columns of the `DataFrame` by `apply`"
   ]
  },
  {
   "cell_type": "code",
   "execution_count": null,
   "id": "3c54a696-a09f-475f-b52a-6c9eab70e59c",
   "metadata": {},
   "outputs": [],
   "source": [
    "# example where the function returns a Series\n",
    "def scale_min_max(s: pd.Series) -> pd.Series:\n",
    "    return (s - s.min()) / (s.max() - s.min())"
   ]
  },
  {
   "cell_type": "code",
   "execution_count": null,
   "id": "6047b3b5-1a47-4d2d-af74-0fd2eeed8d9a",
   "metadata": {},
   "outputs": [],
   "source": [
    "df = pd.DataFrame(np.random.randint(low=3, high=17, size=(5, 3)), columns=['col_1', 'col_2', 'col_3'])\n",
    "df"
   ]
  },
  {
   "cell_type": "code",
   "execution_count": null,
   "id": "9eceec84-c5a9-4b9d-8b06-9426a5040862",
   "metadata": {},
   "outputs": [],
   "source": [
    "# apply our min-max-scaler to each column separately\n",
    "df.apply(scale_min_max)"
   ]
  },
  {
   "cell_type": "code",
   "execution_count": null,
   "id": "4a931cc4-3cc0-4d17-9015-d2fa3537511c",
   "metadata": {},
   "outputs": [],
   "source": [
    "# or apply it to each row...\n",
    "df.apply(scale_min_max, axis=1)"
   ]
  },
  {
   "cell_type": "code",
   "execution_count": null,
   "id": "c1777f2e-4d29-4dbf-b601-bdca3a0f9c92",
   "metadata": {},
   "outputs": [],
   "source": [
    "def min_max_index_diff(s: pd.Series) -> int:\n",
    "    return s.idxmax() - s.idxmin()"
   ]
  },
  {
   "cell_type": "code",
   "execution_count": null,
   "id": "2e1d0264-6f19-4e36-b5bf-7b11ad023c81",
   "metadata": {},
   "outputs": [],
   "source": [
    "df.apply(min_max_index_diff)"
   ]
  },
  {
   "cell_type": "markdown",
   "id": "b783618c-8074-448e-ab10-77ae64f5f112",
   "metadata": {},
   "source": [
    "### map\n",
    "- function argument is a scalar\n",
    "- return value is a scalar\n",
    "- return value of `map` is a `DataFrame`\n",
    "- the function is applied to all elements of the DataFrame by `map`"
   ]
  },
  {
   "cell_type": "code",
   "execution_count": null,
   "id": "aad04385-b4a3-4514-aa8d-58d527b9b155",
   "metadata": {},
   "outputs": [],
   "source": [
    "df = pd.DataFrame(\n",
    "    {\n",
    "        'numeric': [1, 2, 3.1415, 4, 5],\n",
    "        'text': ['hello', 'world', 'aint', 'this', 'fun']\n",
    "    })\n",
    "df"
   ]
  },
  {
   "cell_type": "code",
   "execution_count": null,
   "id": "0440d079-4f41-4561-9378-39538804827d",
   "metadata": {},
   "outputs": [],
   "source": [
    "df.map(lambda x: len(str(x)))"
   ]
  },
  {
   "cell_type": "markdown",
   "id": "b58af412-96b3-4f36-a5cc-a88553c5acc4",
   "metadata": {
    "jp-MarkdownHeadingCollapsed": true
   },
   "source": [
    "### transform\n",
    "- like `map`, but applying multiple functions, and getting a result for each\n",
    "- similar argument syntax to `aggregate`"
   ]
  },
  {
   "cell_type": "code",
   "execution_count": null,
   "id": "f551d36a-e7fb-4576-a50e-a6ba2a25b0de",
   "metadata": {},
   "outputs": [],
   "source": [
    "df = pd.DataFrame(np.random.randint(low=3, high=17, size=(5, 3)), columns=['col_1', 'col_2', 'col_3'])\n",
    "df"
   ]
  },
  {
   "cell_type": "code",
   "execution_count": null,
   "id": "f4276008-3de4-4b39-9f96-0483a59a0404",
   "metadata": {},
   "outputs": [],
   "source": [
    "# columns become a multi-index here, too...\n",
    "df.transform(['sqrt', lambda x: x+1])"
   ]
  },
  {
   "cell_type": "code",
   "execution_count": null,
   "id": "4a6960a2-20ca-498d-a865-91a1b4ba2e0e",
   "metadata": {},
   "outputs": [],
   "source": [
    "df.transform({'col_1': lambda x: x+1, 'col_2': lambda x: x+2, 'col_3': [lambda x: x+3, 'sqrt']})"
   ]
  },
  {
   "cell_type": "code",
   "execution_count": null,
   "id": "90aa0824-bd82-4bf8-a07e-bf25356037c2",
   "metadata": {},
   "outputs": [],
   "source": [
    "# but this part of the `aggregate` syntax doesn't work for transform...\n",
    "df.transform(x=('col_1', 'sqrt'))"
   ]
  },
  {
   "cell_type": "markdown",
   "id": "a053a188-dd50-48be-9254-a2a8d8740a4b",
   "metadata": {
    "jp-MarkdownHeadingCollapsed": true
   },
   "source": [
    "## cleaning data"
   ]
  },
  {
   "cell_type": "markdown",
   "id": "35d5a0ac-f35c-4c07-bb97-ca8352f418e2",
   "metadata": {
    "jp-MarkdownHeadingCollapsed": true
   },
   "source": [
    "### dealing with NaNs"
   ]
  },
  {
   "cell_type": "code",
   "execution_count": null,
   "id": "8dbdb4a6-e39c-4cd3-9b48-67780bba3b22",
   "metadata": {},
   "outputs": [],
   "source": [
    "df = pd.DataFrame(np.random.randint(2, 12, size=(3, 4)), columns=['col1', 'col2', 'col3', 'col4'])\n",
    "df.iloc[0, ::2] = np.NaN\n",
    "df.iloc[1, 1::2] = np.NaN\n",
    "df"
   ]
  },
  {
   "cell_type": "code",
   "execution_count": null,
   "id": "13a0820f-4beb-4630-9771-f80ebafb20eb",
   "metadata": {},
   "outputs": [],
   "source": [
    "# same shape DataFrame telling you for each element whether it as NA\n",
    "df.isna()"
   ]
  },
  {
   "cell_type": "code",
   "execution_count": null,
   "id": "0c33692f-3a01-4e3d-b989-519992bdf5fb",
   "metadata": {},
   "outputs": [],
   "source": [
    "# opposite of the above...\n",
    "df.notna()"
   ]
  },
  {
   "cell_type": "code",
   "execution_count": null,
   "id": "99e74e7e-e926-4514-820a-d4bf6c30b559",
   "metadata": {},
   "outputs": [],
   "source": [
    "# many of the aggregation functions ignore NAs by default\n",
    "df.mean()"
   ]
  },
  {
   "cell_type": "code",
   "execution_count": null,
   "id": "def5b5d6-59e2-479a-bc4a-980e99baab2d",
   "metadata": {},
   "outputs": [],
   "source": [
    "# you can replace NA values by something new\n",
    "df.fillna(-1)"
   ]
  },
  {
   "cell_type": "code",
   "execution_count": null,
   "id": "8eae5b95-23a9-4bc5-9c45-8119e7938fbe",
   "metadata": {},
   "outputs": [],
   "source": [
    "# but you can also impute e.g. mean (or any other value) per column\n",
    "df.fillna(df.mean())"
   ]
  },
  {
   "cell_type": "code",
   "execution_count": null,
   "id": "47e1fe6b-c1e3-4235-b47f-f30cf9e9d798",
   "metadata": {},
   "outputs": [],
   "source": [
    "# reminder, this is what `df.mean()` looked like:\n",
    "df.mean()"
   ]
  },
  {
   "cell_type": "code",
   "execution_count": null,
   "id": "0f1d6514-95cc-413c-b23a-e52314dafc6e",
   "metadata": {},
   "outputs": [],
   "source": [
    "# so this also works (unspecified columns are simply skipped):\n",
    "df.fillna(pd.Series({'col1': -5, 'col3': -7}))"
   ]
  },
  {
   "cell_type": "code",
   "execution_count": null,
   "id": "34a1696f-90f0-4a62-8f78-ccdd79236174",
   "metadata": {},
   "outputs": [],
   "source": [
    "# and you don't even need the series, just use a dict\n",
    "df.fillna({'col1': -5, 'col3': -7})"
   ]
  },
  {
   "cell_type": "markdown",
   "id": "143ac8fd-8194-45a0-a321-5a227353e180",
   "metadata": {
    "jp-MarkdownHeadingCollapsed": true
   },
   "source": [
    "### duplicate rows"
   ]
  },
  {
   "cell_type": "code",
   "execution_count": null,
   "id": "435c67d9-e8c7-4ef4-86a2-2c554eae4d06",
   "metadata": {},
   "outputs": [],
   "source": [
    "df = pd.DataFrame({\n",
    "    'id': ['foo', 'bar', 'foo', 'bazz', 'bazz'],\n",
    "    'color': ['red', 'red', 'green', 'blue', 'blue'],\n",
    "    'length': [1, 2, 3, 2, 2]\n",
    "})\n",
    "df"
   ]
  },
  {
   "cell_type": "code",
   "execution_count": null,
   "id": "96ddfe46-17aa-4755-a677-97883fb1124c",
   "metadata": {},
   "outputs": [],
   "source": [
    "# find rows that are all duplicates\n",
    "df.duplicated()"
   ]
  },
  {
   "cell_type": "code",
   "execution_count": null,
   "id": "c48fc739-df7b-439b-8591-e02f1afa880b",
   "metadata": {},
   "outputs": [],
   "source": [
    "# find rows where some columns are duplicated\n",
    "df.duplicated(['id'])"
   ]
  },
  {
   "cell_type": "code",
   "execution_count": null,
   "id": "88d3f6c6-0530-44d4-bdd7-81d473c1e7c7",
   "metadata": {},
   "outputs": [],
   "source": [
    "# drop rows that are full duplicates\n",
    "df.drop_duplicates()"
   ]
  },
  {
   "cell_type": "code",
   "execution_count": null,
   "id": "88a32541-6fda-41dd-874a-881e5b1888b6",
   "metadata": {},
   "outputs": [],
   "source": [
    "# drop rows that are partial duplicates\n",
    "df.drop_duplicates(['id'])"
   ]
  },
  {
   "cell_type": "code",
   "execution_count": null,
   "id": "8d2bcd4b-a048-4bf2-a1a6-cdb5610c5fa5",
   "metadata": {},
   "outputs": [],
   "source": [
    "# by default you keep the first row\n",
    "# of course you can change that\n",
    "df.drop_duplicates(['id'], keep='last')"
   ]
  },
  {
   "cell_type": "markdown",
   "id": "b8f34867-22c8-4fba-9b12-37bb1317f59a",
   "metadata": {
    "jp-MarkdownHeadingCollapsed": true
   },
   "source": [
    "## Special Accessors\n",
    "- `.str` for string columns\n",
    "- `.dt` for timestamp columns"
   ]
  },
  {
   "cell_type": "markdown",
   "id": "d96997a3-3fa5-4d57-b601-b97fa7e25b91",
   "metadata": {},
   "source": [
    "### `str` accessor\n",
    "- makes string functions (eg `upper`, `lower`, indexing, ...) available as vectorized methods on a Series"
   ]
  },
  {
   "cell_type": "code",
   "execution_count": null,
   "id": "d62a7301-a6b0-4882-b489-09fa15686495",
   "metadata": {},
   "outputs": [],
   "source": [
    "df = pd.DataFrame(\n",
    "    {\n",
    "        'numeric': [1, 2, 3.1415, 4, 5],\n",
    "        'text': ['hello', 'world', 'aint', 'this', 'fun']\n",
    "    })\n",
    "df"
   ]
  },
  {
   "cell_type": "code",
   "execution_count": null,
   "id": "d4ba48d3-f32d-442b-b365-80bbfb6664a9",
   "metadata": {},
   "outputs": [],
   "source": [
    "# just a normal row index\n",
    "df.text[0]"
   ]
  },
  {
   "cell_type": "code",
   "execution_count": null,
   "id": "7f28625a-890b-4e89-a55b-d44972fd951d",
   "metadata": {},
   "outputs": [],
   "source": [
    "# vectorized, returning the first character of each element\n",
    "df['first_character'] = df.text.str[0]\n",
    "df"
   ]
  },
  {
   "cell_type": "code",
   "execution_count": null,
   "id": "38e66f67-3d5d-4bd3-87c1-7b955820157f",
   "metadata": {},
   "outputs": [],
   "source": [
    "df['has_a'] = df.text.str.contains('a')\n",
    "df"
   ]
  },
  {
   "cell_type": "markdown",
   "id": "494d68ca-ebb1-402e-b0be-70034b95bbad",
   "metadata": {},
   "source": [
    "### `.dt`-accessor\n",
    "- just like the string accessor, but for datetime objects"
   ]
  },
  {
   "cell_type": "code",
   "execution_count": null,
   "id": "9888fcd3-748e-4e3c-aa10-ed1df0c05b5d",
   "metadata": {},
   "outputs": [],
   "source": [
    "df = pd.DataFrame({'ts': pd.date_range(\"20221201 09:10:12\", periods=4, freq='M', tz='utc'), 'value': np.arange(4)})\n",
    "df"
   ]
  },
  {
   "cell_type": "code",
   "execution_count": null,
   "id": "65cd7abf-efee-4b1f-9b59-83b233e59415",
   "metadata": {},
   "outputs": [],
   "source": [
    "df.ts.dt.month_name()"
   ]
  },
  {
   "cell_type": "code",
   "execution_count": null,
   "id": "3ccf6c13-8711-450b-909a-a8d541cd275c",
   "metadata": {},
   "outputs": [],
   "source": [
    "df.ts.dt.month"
   ]
  },
  {
   "cell_type": "markdown",
   "id": "5d065436-eea3-458f-a9f0-0e21f8f4cbee",
   "metadata": {
    "jp-MarkdownHeadingCollapsed": true
   },
   "source": [
    "## group-by\n",
    "- group dataframe by value in one or multiple columns\n",
    "- and apply functions to the groups\n",
    "  - **aggregating** functions: calculate one value per group (and column), e.g. group means\n",
    "  - **transforming** functions: modify all group values with some group-specific function e.g. scaling by group\n",
    "  - **filter** functions: discard some groups based on group-specific criteria, e.g. discard small groups"
   ]
  },
  {
   "cell_type": "code",
   "execution_count": null,
   "id": "ed1d261b-db8a-43c9-9743-e7acc5d1d6fe",
   "metadata": {},
   "outputs": [],
   "source": [
    "df = pd.read_csv('../data/iris.csv')\n",
    "df.head(3)"
   ]
  },
  {
   "cell_type": "code",
   "execution_count": null,
   "id": "f116205e-84de-468f-9c26-60d71c958beb",
   "metadata": {},
   "outputs": [],
   "source": [
    "# groupby returns a `DataFrameGroupBy` object -- not very helpful\n",
    "df.groupby('variety')"
   ]
  },
  {
   "cell_type": "code",
   "execution_count": null,
   "id": "632fb79c-ed4c-44e4-adee-13dba013c9af",
   "metadata": {},
   "outputs": [],
   "source": [
    "# you can get information on the identified groups, and which rows belong to a group\n",
    "df.groupby('variety').groups"
   ]
  },
  {
   "cell_type": "code",
   "execution_count": null,
   "id": "f6e9d59b-0d87-45a1-a833-4d090b48706e",
   "metadata": {},
   "outputs": [],
   "source": [
    "# and you can pull out a single group\n",
    "df.groupby('variety').get_group('Setosa').head(3)"
   ]
  },
  {
   "cell_type": "markdown",
   "id": "96be5b6b-8353-4a6e-9857-aa7c28ae4e60",
   "metadata": {},
   "source": [
    "#### aggregation over groups"
   ]
  },
  {
   "cell_type": "code",
   "execution_count": null,
   "id": "821b000e-2988-4a3b-9cce-98b4440c5fdc",
   "metadata": {},
   "outputs": [],
   "source": [
    "# but mostly, you just call functions on the `GroupBy` object itself; that looks very useful :)\n",
    "# the value of the group-by column becomes the index of the new DataFrame!\n",
    "# (change that behaviour with the `as_index` parameter to `groupby`\n",
    "df.groupby('variety').mean()"
   ]
  },
  {
   "cell_type": "code",
   "execution_count": null,
   "id": "a608997d-feef-40e5-bec6-4ba2591be90b",
   "metadata": {},
   "outputs": [],
   "source": [
    "# you can also group by multiple columns, and get a result for each possible combination\n",
    "\n",
    "df['is_odd'] = np.arange(df.shape[0]) % 2\n",
    "df.groupby(['variety', 'is_odd']).max()"
   ]
  },
  {
   "cell_type": "code",
   "execution_count": null,
   "id": "32f11b40-f40f-4ca1-81fd-a49bb52740cc",
   "metadata": {},
   "outputs": [],
   "source": [
    "del df['is_odd']"
   ]
  },
  {
   "cell_type": "code",
   "execution_count": null,
   "id": "966105b8-eed5-4667-ac34-1710d3d29136",
   "metadata": {},
   "outputs": [],
   "source": [
    "# you can use `aggregate`, just like we saw for the `DataFrame` itself\n",
    "# everything we saw above for aggregate should work here as well\n",
    "df.groupby('variety').aggregate(['min', 'max'])"
   ]
  },
  {
   "cell_type": "markdown",
   "id": "35150146-8470-4911-bbfa-24267def5529",
   "metadata": {},
   "source": [
    "#### transformation of groups"
   ]
  },
  {
   "cell_type": "code",
   "execution_count": null,
   "id": "3c5b402a-4535-4a8b-9a45-675e485f5cc9",
   "metadata": {},
   "outputs": [],
   "source": [
    "# transformations don't return the group label...\n",
    "df.groupby('variety').cumsum()"
   ]
  },
  {
   "cell_type": "code",
   "execution_count": null,
   "id": "d281e9da-7674-470b-b064-e9a48a8ce6d3",
   "metadata": {},
   "outputs": [],
   "source": [
    "# usually the transformation result is combined back with the original dataframe\n",
    "combined = pd.concat(\n",
    "    [\n",
    "        df,\n",
    "        df.groupby('variety').cumsum().rename(columns=lambda x: x + '_cumsum')\n",
    "    ],\n",
    "    axis=1\n",
    ")\n",
    "combined[-50:-45]"
   ]
  },
  {
   "cell_type": "code",
   "execution_count": null,
   "id": "f4782539-c3e8-4e88-a4e9-1f58cdba7935",
   "metadata": {},
   "outputs": [],
   "source": [
    "# you can of course still use your own transformation functions\n",
    "# your function is applied to each column in the group separately, so it still accepts a Series\n",
    "def scale_min_max(s: pd.Series) -> pd.Series:\n",
    "    return (s - s.min()) / (s.max() - s.min())\n",
    "\n",
    "df.groupby('variety').transform(scale_min_max)"
   ]
  },
  {
   "cell_type": "markdown",
   "id": "b11990a5-9feb-4d8a-b4f3-3b384582f984",
   "metadata": {},
   "source": [
    "#### Filtration\n",
    "- filter, i.e. return some of the rows in each group, specific to the group"
   ]
  },
  {
   "cell_type": "code",
   "execution_count": null,
   "id": "e03afd80-8fbb-44d7-a2c8-ecaec81822fe",
   "metadata": {},
   "outputs": [],
   "source": [
    "# for example, the two rows for each group with the smalles (thanks to sorting first) values in some column\n",
    "df.sort_values('sepal_length').groupby('variety').head(2)"
   ]
  },
  {
   "cell_type": "code",
   "execution_count": null,
   "id": "10b79d37-9adc-469a-a4f1-d6457937a217",
   "metadata": {},
   "outputs": [],
   "source": [
    "df.groupby('variety').filter(lambda df: df['sepal_width'].mean() > df['petal_length'].mean())"
   ]
  },
  {
   "cell_type": "markdown",
   "id": "3453e727-dfa9-49b6-a0ca-ee971fe21d07",
   "metadata": {
    "jp-MarkdownHeadingCollapsed": true
   },
   "source": [
    "## concatenation and joins\n",
    "- you can stack `DataFrame`s on top, or next to each other igoring indices/columns using `concat`\n",
    "- just like in SQL you can also join tables, i.e. combine them along one axis while choosing how to treat the other index\n",
    "  - `merge` is typically used for joins based on column values\n",
    "  - `join` is typically used for joins based on index values"
   ]
  },
  {
   "cell_type": "markdown",
   "id": "db05afc0-3028-463d-b5b4-d205d5ee9f32",
   "metadata": {
    "jp-MarkdownHeadingCollapsed": true
   },
   "source": [
    "### concatenation"
   ]
  },
  {
   "cell_type": "code",
   "execution_count": null,
   "id": "b3210fd3-5bcc-4f7e-a86a-3712e4d0b0ce",
   "metadata": {},
   "outputs": [],
   "source": [
    "left = pd.DataFrame(\n",
    "    {\n",
    "        \"key1\": [\"K0\", \"K1\", \"K2\", \"K3\"],\n",
    "        \"A\": [\"A0\", \"A1\", \"A2\", \"A3\"],\n",
    "        \"B\": [\"B0\", \"B1\", \"B2\", \"B3\"],\n",
    "    }\n",
    ")\n",
    "\n",
    "right = pd.DataFrame(\n",
    "    {\n",
    "        \"key1\": [\"K5\", \"K6\", \"K7\", \"K8\"],\n",
    "        \"A\": [\"C0\", \"C1\", \"C2\", \"C3\"],\n",
    "        \"B\": [\"D0\", \"D1\", \"D2\", \"D3\"],\n",
    "    }\n",
    ")\n"
   ]
  },
  {
   "cell_type": "code",
   "execution_count": null,
   "id": "0bb2e95d-d014-422a-9fe5-5717f42f5dfa",
   "metadata": {},
   "outputs": [],
   "source": [
    "left"
   ]
  },
  {
   "cell_type": "code",
   "execution_count": null,
   "id": "ddc858b6-2b4d-44b9-9a9e-7180b36e34ca",
   "metadata": {},
   "outputs": [],
   "source": [
    "right"
   ]
  },
  {
   "cell_type": "code",
   "execution_count": null,
   "id": "695c6244-09ba-4fda-b7bc-bc79484973f3",
   "metadata": {},
   "outputs": [],
   "source": [
    "# stack one below the other\n",
    "pd.concat([left, right])"
   ]
  },
  {
   "cell_type": "code",
   "execution_count": null,
   "id": "d252a14d-d3c8-47e7-9ce1-8a4daf44990f",
   "metadata": {},
   "outputs": [],
   "source": [
    "# stack one to the right of the other\n",
    "pd.concat([left, right], axis=1)"
   ]
  },
  {
   "cell_type": "code",
   "execution_count": null,
   "id": "b6c77cb2-29e9-457c-994d-dfd4022e240c",
   "metadata": {},
   "outputs": [],
   "source": [
    "# same but when the columns/index have different names\n",
    "left = pd.DataFrame(\n",
    "    {\n",
    "        \"key1\": [\"K0\", \"K1\", \"K2\", \"K3\"],\n",
    "        \"A\": [\"A0\", \"A1\", \"A2\", \"A3\"],\n",
    "        \"B\": [\"B0\", \"B1\", \"B2\", \"B3\"],\n",
    "    }\n",
    ")\n",
    "\n",
    "right = pd.DataFrame(\n",
    "    {\n",
    "        \"key2\": [\"K5\", \"K6\", \"K7\", \"K8\"],\n",
    "        \"C\": [\"C0\", \"C1\", \"C2\", \"C3\"],\n",
    "        \"D\": [\"D0\", \"D1\", \"D2\", \"D3\"],\n",
    "    }, index=['a', 'b', 'c', 'd']\n",
    ")\n"
   ]
  },
  {
   "cell_type": "code",
   "execution_count": null,
   "id": "c6f9c408-3d4e-4c72-ab73-1d8dd75fb80c",
   "metadata": {},
   "outputs": [],
   "source": [
    "# content irrelevant, but labels preserved\n",
    "pd.concat([left, right])"
   ]
  },
  {
   "cell_type": "code",
   "execution_count": null,
   "id": "9157f2c7-607b-46cf-b9fe-f31a653432fd",
   "metadata": {},
   "outputs": [],
   "source": [
    "pd.concat([left, right], axis=1)"
   ]
  },
  {
   "cell_type": "code",
   "execution_count": null,
   "id": "7f6ab15f-8502-4a86-9cae-c875802f876d",
   "metadata": {},
   "outputs": [],
   "source": [
    "# you can e.g. reset the index to come to a more 'common' representations\n",
    "pd.concat([left.reset_index(), right.reset_index()], axis=1)"
   ]
  },
  {
   "cell_type": "markdown",
   "id": "01d3e4af-ba31-48b8-824f-b3fea5eee91a",
   "metadata": {
    "jp-MarkdownHeadingCollapsed": true
   },
   "source": [
    "### merging dataframes -- joins based on columns"
   ]
  },
  {
   "cell_type": "code",
   "execution_count": null,
   "id": "f85db656-b477-431c-afd4-7af7ded6569c",
   "metadata": {},
   "outputs": [],
   "source": [
    "left = pd.DataFrame(\n",
    "    {\n",
    "        \"key1\": [\"K0\", \"K1\", \"K2\", \"K3\"],\n",
    "        \"A\": [\"A0\", \"A1\", \"A2\", \"A3\"],\n",
    "        \"B\": [\"B0\", \"B1\", \"B2\", \"B3\"],\n",
    "    }\n",
    ")\n",
    "\n",
    "right = pd.DataFrame(\n",
    "    {\n",
    "        \"key1\": [\"K0\", \"K1\", \"K2\", \"K3\"],\n",
    "        \"C\": [\"C0\", \"C1\", \"C2\", \"C3\"],\n",
    "        \"D\": [\"D0\", \"D1\", \"D2\", \"D3\"],\n",
    "    }\n",
    ")"
   ]
  },
  {
   "cell_type": "code",
   "execution_count": null,
   "id": "7e8d644d-45ed-4bb9-8ed1-a6a648fa193b",
   "metadata": {},
   "outputs": [],
   "source": [
    "# join two dataframes on the same key\n",
    "pd.merge(left, right, on='key1')"
   ]
  },
  {
   "cell_type": "code",
   "execution_count": null,
   "id": "bba88b8b-c464-4a29-be12-943307654186",
   "metadata": {},
   "outputs": [],
   "source": [
    "# let's drop a row\n",
    "smaller_right = right.drop(1)\n",
    "smaller_right"
   ]
  },
  {
   "cell_type": "code",
   "execution_count": null,
   "id": "65e75a35-6bd1-4bd1-8ab8-0b2b75b0ab81",
   "metadata": {},
   "outputs": [],
   "source": [
    "# by default this is an inner join, i.e. only if the index is present in both will it show up in the result\n",
    "pd.merge(left, smaller_right, on='key1')"
   ]
  },
  {
   "cell_type": "code",
   "execution_count": null,
   "id": "a35ad9e6-b7c8-49df-bd40-264667b42e6d",
   "metadata": {},
   "outputs": [],
   "source": [
    "# you can specify the join type (left/right/inner/outer) through the `how` variable\n",
    "pd.merge(left, smaller_right, how='outer')"
   ]
  },
  {
   "cell_type": "code",
   "execution_count": null,
   "id": "f4b48f3b-b1b0-44ef-9859-3f454f90c7a8",
   "metadata": {},
   "outputs": [],
   "source": [
    "# there can be multiple columns to join on\n",
    "left = pd.DataFrame(\n",
    "    {\n",
    "        \"key1\": [\"K0\", \"K0\", \"K1\", \"K2\"],\n",
    "        \"key2\": [\"K0\", \"K1\", \"K0\", \"K1\"],\n",
    "        \"A\": [\"A0\", \"A1\", \"A2\", \"A3\"],\n",
    "        \"B\": [\"B0\", \"B1\", \"B2\", \"B3\"],\n",
    "    }\n",
    ")\n",
    "\n",
    "right = pd.DataFrame(\n",
    "    {\n",
    "        \"key1\": [\"K0\", \"K1\", \"K1\", \"K2\"],\n",
    "        \"key2\": [\"K0\", \"K0\", \"K0\", \"K0\"],\n",
    "        \"C\": [\"C0\", \"C1\", \"C2\", \"C3\"],\n",
    "        \"D\": [\"D0\", \"D1\", \"D2\", \"D3\"],\n",
    "    }\n",
    ")"
   ]
  },
  {
   "cell_type": "code",
   "execution_count": null,
   "id": "d8f628b8-12dd-4dce-9277-611e0eb6e013",
   "metadata": {},
   "outputs": [],
   "source": [
    "pd.merge(left, right, on=['key1', 'key2'], how='left')"
   ]
  },
  {
   "cell_type": "markdown",
   "id": "5e478444-9a22-4bdd-92b9-5775d6508f65",
   "metadata": {
    "jp-MarkdownHeadingCollapsed": true
   },
   "source": [
    "### join based on indices"
   ]
  },
  {
   "cell_type": "code",
   "execution_count": null,
   "id": "fb9ac8ad-a716-4ce3-a94a-f7963b8e31cf",
   "metadata": {},
   "outputs": [],
   "source": [
    "# same as before, but now the old `key` columns become the index\n",
    "\n",
    "left = pd.DataFrame(\n",
    "    {\n",
    "        \"A\": [\"A0\", \"A1\", \"A2\", \"A3\"],\n",
    "        \"B\": [\"B0\", \"B1\", \"B2\", \"B3\"],\n",
    "    }, index=[\"K0\", \"K1\", \"K2\", \"K3\"],\n",
    ")\n",
    "\n",
    "right = pd.DataFrame(\n",
    "    {\n",
    "        \"C\": [\"C0\", \"C1\", \"C2\", \"C3\"],\n",
    "        \"D\": [\"D0\", \"D1\", \"D2\", \"D3\"],\n",
    "    }, index=[\"K0\", \"K1\", \"K2\", \"K3\"],\n",
    ")"
   ]
  },
  {
   "cell_type": "code",
   "execution_count": null,
   "id": "e2ece1c7-ae67-4e93-bc53-ff4f4db33e3b",
   "metadata": {},
   "outputs": [],
   "source": [
    "left"
   ]
  },
  {
   "cell_type": "code",
   "execution_count": null,
   "id": "6ab3a297-eb99-4c67-a209-9b6ddc0e2d94",
   "metadata": {},
   "outputs": [],
   "source": [
    "right"
   ]
  },
  {
   "cell_type": "code",
   "execution_count": null,
   "id": "d53d5567-d3ce-4415-8285-4bb79b4dc6ce",
   "metadata": {},
   "outputs": [],
   "source": [
    "# join automaticallyy uses the index as join column\n",
    "left.join(right)"
   ]
  },
  {
   "cell_type": "code",
   "execution_count": null,
   "id": "b84edd78-cdd7-4e4e-bb8e-192d519b1e3b",
   "metadata": {},
   "outputs": [],
   "source": [
    "small_right = right.drop('K1')"
   ]
  },
  {
   "cell_type": "code",
   "execution_count": null,
   "id": "8f2dd962-a691-4f0e-b886-8e300bd04c2e",
   "metadata": {},
   "outputs": [],
   "source": [
    "# default `how` is 'left' this time around\n",
    "left.join(small_right)"
   ]
  },
  {
   "cell_type": "code",
   "execution_count": null,
   "id": "e3d3318f-70f4-4f42-84dd-4f97406fac05",
   "metadata": {},
   "outputs": [],
   "source": [
    "# but you can pick whichever you like\n",
    "left.join(small_right, how='right')"
   ]
  },
  {
   "cell_type": "code",
   "execution_count": null,
   "id": "4163a922-99a2-49b5-a4f5-16e2dd57c50d",
   "metadata": {},
   "outputs": [],
   "source": [
    "# you can do the same thing with `merge` if you like, so `join` is just a convenient shorthand\n",
    "pd.merge(left, small_right, left_index=True, right_index=True)"
   ]
  },
  {
   "cell_type": "markdown",
   "id": "e6afa76b-178e-43e1-9e92-47d4f70c37e2",
   "metadata": {
    "jp-MarkdownHeadingCollapsed": true
   },
   "source": [
    "## Timeseries"
   ]
  },
  {
   "cell_type": "code",
   "execution_count": null,
   "id": "f79f7279-8d71-409f-a205-60e185f342dc",
   "metadata": {},
   "outputs": [],
   "source": [
    "df = pd.DataFrame({\n",
    "    'value_1': np.random.randint(3, 12, size=(4,)),\n",
    "    'value_2': np.random.randint(3, 12, size=(4,))\n",
    "}, index=[pd.Timestamp('2023-11-01'), pd.Timestamp('2023-11-02'), pd.Timestamp('2023-11-04'), pd.Timestamp('2023-11-05')])\n",
    "df"
   ]
  },
  {
   "cell_type": "code",
   "execution_count": null,
   "id": "82b81a60-c08a-461f-9a99-8d6058df72fb",
   "metadata": {},
   "outputs": [],
   "source": [
    "# fill in gaps in a timeseries\n",
    "daily_df = df.reindex(pd.date_range('2023-11-01', '2023-11-05', freq='D'))\n",
    "daily_df"
   ]
  },
  {
   "cell_type": "code",
   "execution_count": null,
   "id": "0a135545-22c8-485b-b4f1-d284001a1571",
   "metadata": {},
   "outputs": [],
   "source": [
    "hourly_df = df.reindex(pd.date_range('2023-11-01', '2023-11-05', freq='H'))\n",
    "hourly_df.head()"
   ]
  },
  {
   "cell_type": "code",
   "execution_count": null,
   "id": "b196776b-0138-4b06-a1e1-7939d2bfa65d",
   "metadata": {},
   "outputs": [],
   "source": [
    "# indexing timestamps is 'fuzzy' if you use a string as index\n",
    "hourly_df.loc['2023-11-01'].head()"
   ]
  },
  {
   "cell_type": "code",
   "execution_count": null,
   "id": "9046cd95-1a9d-45d8-9cc6-841b9ddf9401",
   "metadata": {},
   "outputs": [],
   "source": [
    "# funky slicing\n",
    "hourly_df.loc['2023-11-01 05:00:00':'2023-11-01 08:00:00'].head()"
   ]
  },
  {
   "cell_type": "code",
   "execution_count": null,
   "id": "d638e5a6-1d78-4fc0-833d-7218f5c17bd5",
   "metadata": {},
   "outputs": [],
   "source": [
    "# using a Timestamp as index is precise, though\n",
    "hourly_df.loc[pd.Timestamp('2023-11-01')]"
   ]
  },
  {
   "cell_type": "code",
   "execution_count": null,
   "id": "ec637591-da2b-4cf4-b773-dc482f9b3108",
   "metadata": {},
   "outputs": [],
   "source": [
    "# fill NaNs with older values\n",
    "daily_df.ffill()"
   ]
  },
  {
   "cell_type": "code",
   "execution_count": null,
   "id": "c2416a78-6380-48b9-86da-5ac360a7cc63",
   "metadata": {},
   "outputs": [],
   "source": [
    "# you can also use `asfreq` to convert to a particular frequency, and fill missing values in one go\n",
    "df.asfreq(pd.offsets.BDay(), method=\"ffill\")"
   ]
  },
  {
   "cell_type": "code",
   "execution_count": null,
   "id": "0b3928cb-70bd-4948-afcf-392a90859439",
   "metadata": {},
   "outputs": [],
   "source": [
    "# just a reminder what `df` looks like\n",
    "df"
   ]
  },
  {
   "cell_type": "code",
   "execution_count": null,
   "id": "16a91725-bdc4-4e1f-a00f-6e007e817c59",
   "metadata": {},
   "outputs": [],
   "source": [
    "# shifting data\n",
    "pd.concat([df, df.shift(1)], axis=1)"
   ]
  },
  {
   "cell_type": "code",
   "execution_count": null,
   "id": "4c538c5d-ec65-4564-af65-46bc7a05e221",
   "metadata": {},
   "outputs": [],
   "source": [
    "# better specify a frequency!\n",
    "pd.concat([df, df.shift(1, freq='D')], axis=1)"
   ]
  },
  {
   "cell_type": "code",
   "execution_count": null,
   "id": "f6484188-a3e2-4945-afa4-73c919658be7",
   "metadata": {},
   "outputs": [],
   "source": [
    "# windowing functions\n",
    "df.rolling(2).mean()"
   ]
  },
  {
   "cell_type": "markdown",
   "id": "2895d43c-69e1-4771-9bd3-2649c4183adf",
   "metadata": {
    "jp-MarkdownHeadingCollapsed": true
   },
   "source": [
    "# plotnine\n",
    "- alternative API for plotting\n",
    "- built on top of matplotlib\n",
    "- works great with pandas\n",
    "- not used so much in python\n",
    "- but similar to a **very** popular R library, `ggplot2`\n",
    "- based on concepts from [A grammar of graphics](https://www.cs.uic.edu/~wilkinson/TheGrammarOfGraphics/GOG.html)"
   ]
  },
  {
   "cell_type": "markdown",
   "id": "f4cb7625-052b-4407-b2a4-b34dda34ca61",
   "metadata": {},
   "source": [
    "## Installation and Import    "
   ]
  },
  {
   "cell_type": "code",
   "execution_count": null,
   "id": "4477d2b1-9b8d-4e05-924f-7b63715167fd",
   "metadata": {},
   "outputs": [],
   "source": [
    "!/home/atreju/.conda/envs/dhbw/bin/pip install plotnine"
   ]
  },
  {
   "cell_type": "code",
   "execution_count": null,
   "id": "ef48e3c2-3145-4f26-9ddb-aabc8a853385",
   "metadata": {},
   "outputs": [],
   "source": [
    "import plotnine as p9  # convention, as usual"
   ]
  },
  {
   "cell_type": "markdown",
   "id": "18324704-74ab-4dff-95b4-2fc160bd7dbe",
   "metadata": {},
   "source": [
    "## Basic Example"
   ]
  },
  {
   "cell_type": "code",
   "execution_count": null,
   "id": "bca2c1ad-7049-4619-8173-0e2339ff0934",
   "metadata": {},
   "outputs": [],
   "source": [
    "df = pd.read_csv('../data/iris.csv')"
   ]
  },
  {
   "cell_type": "code",
   "execution_count": null,
   "id": "93ebece0-dccb-45f0-b5a8-3f3f05be45f6",
   "metadata": {},
   "outputs": [],
   "source": [
    "(\n",
    "    p9.ggplot(df, p9.aes(x='sepal_length', y='sepal_width', colour='variety', group='variety'))\n",
    "      + p9.geom_point()\n",
    "      + p9.geom_smooth(method='lm')\n",
    ")"
   ]
  },
  {
   "cell_type": "code",
   "execution_count": null,
   "id": "56853e70-de9e-4e54-87b9-100d5215d53e",
   "metadata": {},
   "outputs": [],
   "source": [
    "(\n",
    "  p9.ggplot(df, p9.aes(x='variety', y='sepal_width', fill='variety')) \n",
    "      + p9.geom_violin(draw_quantiles=0.5, trim=False)\n",
    "      + p9.scale_fill_brewer(type='qual')\n",
    ")"
   ]
  },
  {
   "cell_type": "markdown",
   "id": "772bc6b4-9076-4f5b-b2ee-aae711a1fd14",
   "metadata": {
    "jp-MarkdownHeadingCollapsed": true
   },
   "source": [
    "# Seaborn\n",
    "- another library for plotting & visualization\n",
    "- specific focus on statistics\n",
    "- with very high-level API"
   ]
  },
  {
   "cell_type": "markdown",
   "id": "afb85091-b0c0-4564-abfb-fc1417955429",
   "metadata": {},
   "source": [
    "## Installation and Import"
   ]
  },
  {
   "cell_type": "code",
   "execution_count": null,
   "id": "0c8b4956-0ab5-428c-ac1a-c4ada45af242",
   "metadata": {},
   "outputs": [],
   "source": [
    "!/home/atreju/.conda/envs/dhbw/bin/pip install seaborn"
   ]
  },
  {
   "cell_type": "code",
   "execution_count": null,
   "id": "7232fd0a-c774-4c2a-ad9a-2d7054866d55",
   "metadata": {},
   "outputs": [],
   "source": [
    "import seaborn as sns  # guess what: convention\n",
    "%matplotlib inline"
   ]
  },
  {
   "cell_type": "code",
   "execution_count": null,
   "id": "26aff350-3265-458f-986b-d8bcbc16a822",
   "metadata": {},
   "outputs": [],
   "source": [
    "tips = sns.load_dataset('tips')\n",
    "tips"
   ]
  },
  {
   "cell_type": "markdown",
   "id": "0182a817-aee8-4fc9-9c99-3686b3f4db1b",
   "metadata": {},
   "source": [
    "## Examples"
   ]
  },
  {
   "cell_type": "code",
   "execution_count": null,
   "id": "b2a2156a-ea11-42a5-8006-bfcdcf269b50",
   "metadata": {},
   "outputs": [],
   "source": [
    "# plot statistical relationship between multiple variables\n",
    "sns.relplot(\n",
    "    data=tips,\n",
    "    x=\"total_bill\", y=\"tip\", col=\"time\",\n",
    "    hue=\"smoker\", style=\"smoker\", size=\"size\",\n",
    ");"
   ]
  },
  {
   "cell_type": "code",
   "execution_count": null,
   "id": "67872c3e-8ee4-42f0-9cab-03bc257e7ede",
   "metadata": {},
   "outputs": [],
   "source": [
    "# or for distributions\n",
    "sns.displot(data=tips, x=\"total_bill\", col=\"time\", kde=True);"
   ]
  },
  {
   "cell_type": "code",
   "execution_count": null,
   "id": "adc2e232-e46e-4419-b650-6cfa1abcf4e4",
   "metadata": {},
   "outputs": [],
   "source": [
    "# or more violins\n",
    "# here called `catplot`(categorical, not the animal :) because we're using many categorical variables\n",
    "# (day, smoker)\n",
    "sns.catplot(data=tips, kind=\"violin\", x=\"day\", y=\"total_bill\", hue=\"smoker\", split=True)"
   ]
  },
  {
   "cell_type": "code",
   "execution_count": null,
   "id": "5c7efa7c-4ccb-4513-88de-cf934f5966a9",
   "metadata": {},
   "outputs": [],
   "source": [
    "# plot correlations between many variables in one go, and color by group\n",
    "df = pd.read_csv('../data/iris.csv')\n",
    "sns.pairplot(data=df, hue=\"variety\");"
   ]
  },
  {
   "cell_type": "code",
   "execution_count": null,
   "id": "90845e7e-0fd4-428a-aeca-b353c3fd6d29",
   "metadata": {},
   "outputs": [],
   "source": []
  }
 ],
 "metadata": {
  "kernelspec": {
   "display_name": "dhbw",
   "language": "python",
   "name": "dhbw"
  },
  "language_info": {
   "codemirror_mode": {
    "name": "ipython",
    "version": 3
   },
   "file_extension": ".py",
   "mimetype": "text/x-python",
   "name": "python",
   "nbconvert_exporter": "python",
   "pygments_lexer": "ipython3",
   "version": "3.11.0"
  }
 },
 "nbformat": 4,
 "nbformat_minor": 5
}
