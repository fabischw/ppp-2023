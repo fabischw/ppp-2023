{
 "cells": [
  {
   "cell_type": "markdown",
   "id": "0bea39ab-408a-43d2-b880-dc05478aaaa3",
   "metadata": {
    "jp-MarkdownHeadingCollapsed": true
   },
   "source": [
    "# Imports\n",
    "- there's an extensive ecosystem of libraries available around python\n",
    "- you can import these libraries using the `import` statement to make their functionality available in your code\n",
    "- `import <module_name> [as <alias>]` -- import the entire module\n",
    "- `from <module_name> import <object_names> [as <alias>]` -- import individual functions from a module (but lose the module prefix)"
   ]
  },
  {
   "cell_type": "code",
   "execution_count": null,
   "id": "d5e6f9e7-8fa6-481e-bcf8-b06e3e5fdc45",
   "metadata": {},
   "outputs": [],
   "source": [
    "import math\n",
    "math.cos(math.pi)"
   ]
  },
  {
   "cell_type": "code",
   "execution_count": null,
   "id": "62e87c2e-9659-4e46-a2ca-c2dccb47b26b",
   "metadata": {},
   "outputs": [],
   "source": [
    "import math as mth\n",
    "mth.cos(mth.pi)"
   ]
  },
  {
   "cell_type": "code",
   "execution_count": null,
   "id": "a2aed9d2-26c8-49e4-837b-fe234d5aaac9",
   "metadata": {},
   "outputs": [],
   "source": [
    "# same but with intermediate variable `math` assigned\n",
    "import math\n",
    "m = math\n",
    "m.cos(m.pi)"
   ]
  },
  {
   "cell_type": "code",
   "execution_count": null,
   "id": "e90af603-3c36-4245-a8d5-b303ae9ab1ca",
   "metadata": {},
   "outputs": [],
   "source": [
    "from math import cos, pi\n",
    "cos(pi)"
   ]
  },
  {
   "cell_type": "code",
   "execution_count": null,
   "id": "9537663d-0840-469c-a2a6-029ffb950f0a",
   "metadata": {},
   "outputs": [],
   "source": [
    "from math import cos as c, pi as p\n",
    "c(p)"
   ]
  },
  {
   "cell_type": "code",
   "execution_count": null,
   "id": "e57f021d-6eaf-4a43-8a0a-21c0ce911d73",
   "metadata": {},
   "outputs": [],
   "source": [
    "# import from your own files is just as easy\n",
    "import utils\n",
    "utils.say_hello()"
   ]
  },
  {
   "cell_type": "code",
   "execution_count": null,
   "id": "ed801494-156c-49cf-b787-d0b32c912392",
   "metadata": {},
   "outputs": [],
   "source": [
    "# note: never ever do `from <module> import *"
   ]
  },
  {
   "cell_type": "markdown",
   "id": "decedc9c-f871-4c0c-bc44-846fe963004d",
   "metadata": {
    "jp-MarkdownHeadingCollapsed": true
   },
   "source": [
    "# keywords and builtins\n",
    "- hierarchy of how 'close' something is to the language itself:\n",
    "  - keywords: modify syntax, not replaceable\n",
    "  - builtins: very common functions, no import needed\n",
    "  - standard library: delivered as part of python (no separate installation), but must be imported\n",
    "  - third party library: must be installed first before it can be imported"
   ]
  },
  {
   "cell_type": "markdown",
   "id": "350dbcc7-6099-4e01-a6c7-9025b5a0316d",
   "metadata": {},
   "source": [
    "- **keywords**: core language constructs that allow 'new syntax'. keywords are reserved and cannot be used as identifiers\n",
    "- **builtins**: preloaded functions, constants, types, and exceptions. Fundamental only in the sense of common usage, but 'normal' language objects\n",
    "- what is `print`\n",
    "- what is `for`\n",
    "- what is `True`"
   ]
  },
  {
   "cell_type": "code",
   "execution_count": null,
   "id": "c11e71f6-5669-4716-9f1c-f0bb840fb23a",
   "metadata": {},
   "outputs": [],
   "source": [
    "import keyword"
   ]
  },
  {
   "cell_type": "code",
   "execution_count": null,
   "id": "52662d5a-0e62-471c-9ec3-1fdc540ac532",
   "metadata": {},
   "outputs": [],
   "source": [
    "print(keyword.kwlist)"
   ]
  },
  {
   "cell_type": "markdown",
   "id": "027cf837-5f8f-4aed-8432-74e6af9626cb",
   "metadata": {},
   "source": [
    "- **control structures**: `if`, `elif`, `else`, `for`, `while`, `break`, `continue`, `pass`\n",
    "- **exception handling**: `try`, `except`, `raise`, `finally`, `assert`\n",
    "- **classes and function**: `class`, `def`, `return`, `lambda`, `yield`\n",
    "- **scopes**: `global`, `nonlocal`\n",
    "- **imports**: `import`, `from`, `as`\n",
    "- **logical operators**: `and`, `or`, `not`\n",
    "- **context managers**: `with`, `as`\n",
    "- **coroutines**: `async`, `await`\n",
    "- **others**: `del`, `in`, `is`\n",
    "- **constants**: `True`, `False`, `None`"
   ]
  },
  {
   "cell_type": "code",
   "execution_count": null,
   "id": "0ee6b0cd-442f-4580-8986-83613ecc26fd",
   "metadata": {},
   "outputs": [],
   "source": [
    "# where are `match` and `case`? (soft keywords: to avoid breaking existing code when a new feature is introduced)\n",
    "keyword.softkwlist"
   ]
  },
  {
   "cell_type": "code",
   "execution_count": null,
   "id": "194f849c-8719-4936-b5a8-285c74dee2ba",
   "metadata": {},
   "outputs": [],
   "source": [
    "import builtins"
   ]
  },
  {
   "cell_type": "code",
   "execution_count": null,
   "id": "ce639ff4-dc06-4ae5-bac4-bea3e83bc5bc",
   "metadata": {},
   "outputs": [],
   "source": [
    "print([x for x in dir(builtins) if not x.startswith('_')])"
   ]
  },
  {
   "cell_type": "markdown",
   "id": "d8351a28-2638-41df-afa1-e380fb08f698",
   "metadata": {},
   "source": [
    "- **lots of exceptions and warnings**...\n",
    "- **constants**: `True`, `False`, `None`\n",
    "- **numeric functions**: `abs`, `divmod`, `pow`, `sum`, `min`, `max`, `round`\n",
    "- **logical reductions**: `all`, `any`\n",
    "- **data types & conversions**: `bool`, `bytearray`, `bytes`, `complex`, `dict`, `int`, `float`, `frozenset`, `list`, `set`, `str`, `tuple`, `memoryview`, `chr`, `ord`\n",
    "- **number representations**: `bin`, `hex`, `oct`\n",
    "- **inspection-functions**: `callable`, `dir`, `id`, `type`\n",
    "- **decorators**: `classmethod`, `staticmethod`, `property`\n",
    "- **inheritance**: `isinstance`, `issubclass`, `super`, `object`\n",
    "- **iterable helpers**: `enumerate`, `zip`, `sorted`, `range`, `len`, `iter`, `next`, `map`, `reversed`, `aiter`, `anext`, `filter`\n",
    "- **scoping**: `locals`, `globals`, `vars`\n",
    "- **attributes**: `getattr`, `hasattr`, `delattr`, `setattr`\n",
    "- **code execution** `exec`, `eval`, `compile`\n",
    "- **slicing**: `Ellipsis`, `slice`\n",
    "- **flow control**: `NotImplemented`, `quit`, `exit`, `breakpoint`\n",
    "- **object representations**: `ascii`, `str`, `repr`, `bytes`, `format`\n",
    "- **I/O**: `input`, `print`, `open`\n",
    "- **other**: `hash`\n",
    "- **actual help**: help"
   ]
  },
  {
   "cell_type": "markdown",
   "id": "0cacfa71-7f50-451c-b086-d510d0f47f68",
   "metadata": {},
   "source": [
    "# standard library\n",
    "- a large numer of packages\n",
    "- comes with the python installation, no need to install anything separately\n",
    "- [python docs](https://docs.python.org/3/library/index.html)"
   ]
  },
  {
   "cell_type": "markdown",
   "id": "fa7bd929-8a6c-4662-a321-ccf2de2ceca3",
   "metadata": {
    "jp-MarkdownHeadingCollapsed": true
   },
   "source": [
    "## file and directory access"
   ]
  },
  {
   "cell_type": "markdown",
   "id": "69ccdaaa-936c-42ec-a637-95f83737ca63",
   "metadata": {},
   "source": [
    "### builtins: input, print, open"
   ]
  },
  {
   "cell_type": "markdown",
   "id": "84114885-0236-4430-9cf6-c20b8c6d527f",
   "metadata": {},
   "source": [
    "#### print"
   ]
  },
  {
   "cell_type": "code",
   "execution_count": null,
   "id": "fe9b85bb-c9da-4236-ac3c-aaf14fdc2a6a",
   "metadata": {},
   "outputs": [],
   "source": [
    "print('hello')\n",
    "print('world')"
   ]
  },
  {
   "cell_type": "code",
   "execution_count": null,
   "id": "b519871a-2895-4552-bee3-c6ba042106fb",
   "metadata": {
    "scrolled": true
   },
   "outputs": [],
   "source": [
    "# poor mans progress bar...\n",
    "for _ in range(100):\n",
    "    print('.')"
   ]
  },
  {
   "cell_type": "code",
   "execution_count": null,
   "id": "9bec5cb4-a88b-474b-a46a-000c2c90e37c",
   "metadata": {},
   "outputs": [],
   "source": [
    "help(print)"
   ]
  },
  {
   "cell_type": "markdown",
   "id": "ccd5ead9-44e8-4ce3-b769-b0a492fc40bc",
   "metadata": {},
   "source": [
    "#### input"
   ]
  },
  {
   "cell_type": "code",
   "execution_count": null,
   "id": "1e727ea9-c6bc-491d-9225-e4574929d073",
   "metadata": {},
   "outputs": [],
   "source": [
    "user_input = input('Please enter a number')\n",
    "print(f'You entered \"{user_input}\"')   # what happened to the newline when I pressed enter?"
   ]
  },
  {
   "cell_type": "code",
   "execution_count": null,
   "id": "ee81b97b-b8ea-44d9-8e19-096b758bc83a",
   "metadata": {},
   "outputs": [],
   "source": [
    "help(input)"
   ]
  },
  {
   "cell_type": "markdown",
   "id": "3ed8faa6-e2c8-4921-a54e-913271fb0d4f",
   "metadata": {},
   "source": [
    "#### open\n",
    "- opens file for (binary or text mode) reading and/or writing\n",
    "- can (and usually should) be used as contextmanager"
   ]
  },
  {
   "cell_type": "code",
   "execution_count": null,
   "id": "ef085610-c7e1-4a7a-b5dc-12f31ba3729a",
   "metadata": {},
   "outputs": [],
   "source": [
    "# open files in text-mode for reading\n",
    "with open('utils.py', 'r') as ifile:\n",
    "    content = ifile.readlines()\n",
    "content"
   ]
  },
  {
   "cell_type": "code",
   "execution_count": null,
   "id": "d9bd0bdc-4667-417e-93d6-be269baf7725",
   "metadata": {},
   "outputs": [],
   "source": [
    "# rading in binary mode returns bytes rather than strings\n",
    "with open('utils.py', 'rb') as ifile:\n",
    "    content = ifile.readlines()\n",
    "content"
   ]
  },
  {
   "cell_type": "code",
   "execution_count": null,
   "id": "cd855d98-947e-45fa-a361-7c6419c36a74",
   "metadata": {},
   "outputs": [],
   "source": [
    "# can also iterate over file object, give me one line each\n",
    "with open('utils.py', 'r') as ifile:\n",
    "    for line in ifile:\n",
    "        print(line, end='')"
   ]
  },
  {
   "cell_type": "code",
   "execution_count": null,
   "id": "02760779-87d8-4996-a78b-fe006d1eb092",
   "metadata": {},
   "outputs": [],
   "source": [
    "# writing to a file in text mode\n",
    "with open('demo_file.txt', 'w') as ifile:\n",
    "    ifile.write('Hello')"
   ]
  },
  {
   "cell_type": "code",
   "execution_count": null,
   "id": "fee8680d-ca45-4ff4-8785-ff994b1a623a",
   "metadata": {},
   "outputs": [],
   "source": [
    "# but opening in text mode overwrites the existing file (!)\n",
    "with open('demo_file.txt', 'w') as ifile:\n",
    "    ifile.write('World')"
   ]
  },
  {
   "cell_type": "code",
   "execution_count": null,
   "id": "a171f782-53a8-4c46-865e-80541dc2fdb2",
   "metadata": {},
   "outputs": [],
   "source": [
    "# use append mode instead\n",
    "with open('demo_file.txt', 'w') as ifile:\n",
    "    ifile.write('Hello')\n",
    "with open('demo_file.txt', 'a') as ifile:\n",
    "    ifile.write('World')"
   ]
  },
  {
   "cell_type": "code",
   "execution_count": null,
   "id": "35cfbea7-74f1-4c34-9293-ed63cbd7bbee",
   "metadata": {},
   "outputs": [],
   "source": [
    "# we can also `print` to a file (difference is just the automatic newline)\n",
    "with open('demo_file.txt', 'w') as ifile:\n",
    "    print('Hello', file=ifile)\n",
    "    print('World', file=ifile)"
   ]
  },
  {
   "cell_type": "code",
   "execution_count": null,
   "id": "6c63b25f-e841-4c63-be1b-74c855e45d7b",
   "metadata": {},
   "outputs": [],
   "source": [
    "# if we're writing text (rather than bytes) to a file opened in binary mode we need to convert to bytes first\n",
    "with open('demo_file.txt', 'wb') as ifile:\n",
    "    ifile.write('Hello'.encode())\n",
    "    ifile.write('World'.encode())"
   ]
  },
  {
   "cell_type": "code",
   "execution_count": null,
   "id": "577e9b9a-fb14-4646-b8fc-cd07b9c355fe",
   "metadata": {},
   "outputs": [],
   "source": [
    "# we can of course write other bytes to the file\n",
    "list_as_bytes = bytes([1, 2, 3])\n",
    "list_as_bytes"
   ]
  },
  {
   "cell_type": "code",
   "execution_count": null,
   "id": "3e2407ef-88c4-4b8e-9287-26979b84aeac",
   "metadata": {},
   "outputs": [],
   "source": [
    "with open('demo_file.txt', 'wb') as ifile:\n",
    "    ifile.write(list_as_bytes)"
   ]
  },
  {
   "cell_type": "code",
   "execution_count": null,
   "id": "5b25d044-0c8f-45fb-8df2-161b7d36867e",
   "metadata": {},
   "outputs": [],
   "source": [
    "with open('demo_file.txt', 'rb') as ifile:\n",
    "    read_bytes = ifile.read()\n",
    "read_bytes"
   ]
  },
  {
   "cell_type": "code",
   "execution_count": null,
   "id": "76a112fe-ca11-4b8e-a41a-6e86d6f890d4",
   "metadata": {},
   "outputs": [],
   "source": [
    "list(read_bytes)"
   ]
  },
  {
   "cell_type": "code",
   "execution_count": null,
   "id": "b396265a-126a-42f8-a641-3017e3c46dbf",
   "metadata": {},
   "outputs": [],
   "source": [
    "tuple(read_bytes)"
   ]
  },
  {
   "cell_type": "markdown",
   "id": "85cceade-bee9-46d3-abb7-d44b00b326c5",
   "metadata": {
    "jp-MarkdownHeadingCollapsed": true
   },
   "source": [
    "### pathlib\n",
    "- offers classes representing filesystem paths with semantics appropriate for different operating systems\n",
    "- `Path` -- the only class in the module you'll likely need\n",
    "- objects are immutable and hashable"
   ]
  },
  {
   "cell_type": "code",
   "execution_count": null,
   "id": "d5c77bb6-e975-493e-a484-90d743e06c61",
   "metadata": {},
   "outputs": [],
   "source": [
    "import pathlib"
   ]
  },
  {
   "cell_type": "code",
   "execution_count": null,
   "id": "d55d69da-3f21-44d7-bca4-b7c595d86e63",
   "metadata": {},
   "outputs": [],
   "source": [
    "current_dir = pathlib.Path('.')\n",
    "current_dir"
   ]
  },
  {
   "cell_type": "code",
   "execution_count": null,
   "id": "15c6a977-7e04-424f-8f09-d461b9619f07",
   "metadata": {},
   "outputs": [],
   "source": [
    "current_dir.is_absolute()"
   ]
  },
  {
   "cell_type": "code",
   "execution_count": null,
   "id": "3981887a-56c7-411c-8038-208bbbaf8599",
   "metadata": {},
   "outputs": [],
   "source": [
    "full_current_dir = current_dir.resolve()\n",
    "full_current_dir"
   ]
  },
  {
   "cell_type": "code",
   "execution_count": null,
   "id": "e9755cbf-f043-46b0-86dc-65204e78b9f3",
   "metadata": {},
   "outputs": [],
   "source": [
    "# explicit alternative\n",
    "pathlib.Path.cwd()"
   ]
  },
  {
   "cell_type": "code",
   "execution_count": null,
   "id": "a4c7c2e9-0c74-4bb5-8c56-cf494e026550",
   "metadata": {},
   "outputs": [],
   "source": [
    "# if you wat to access parts (OS-independent)\n",
    "full_current_dir.parts"
   ]
  },
  {
   "cell_type": "code",
   "execution_count": null,
   "id": "67189aef-acc4-4c26-a362-4c4bf0c1a9a2",
   "metadata": {},
   "outputs": [],
   "source": [
    "# funny overwriting `__div__` for navigating paths (on all Operating Systems)\n",
    "parent_dir = full_current_dir / '..'\n",
    "parent_dir"
   ]
  },
  {
   "cell_type": "code",
   "execution_count": null,
   "id": "135a14dc-cbbe-44d4-971f-d20f2079df34",
   "metadata": {},
   "outputs": [],
   "source": [
    "# explicit alternative:\n",
    "full_current_dir.joinpath('..')"
   ]
  },
  {
   "cell_type": "code",
   "execution_count": null,
   "id": "46c41352-9562-4bfe-b87a-ce5c51713133",
   "metadata": {},
   "outputs": [],
   "source": [
    "parent_dir.resolve()"
   ]
  },
  {
   "cell_type": "code",
   "execution_count": null,
   "id": "2d17e1ce-f53e-4d0d-9433-e9bb3d2b2f92",
   "metadata": {},
   "outputs": [],
   "source": [
    "# alternative, already resolved\n",
    "full_current_dir.parent"
   ]
  },
  {
   "cell_type": "code",
   "execution_count": null,
   "id": "e63c34f0-8d1c-45d0-9cf4-6124269587cc",
   "metadata": {},
   "outputs": [],
   "source": [
    "# can jump up N levels\n",
    "full_current_dir.parents[3]"
   ]
  },
  {
   "cell_type": "code",
   "execution_count": null,
   "id": "83db3c12-555e-4fba-a5ee-45cba066ffac",
   "metadata": {},
   "outputs": [],
   "source": [
    "# list files and subfolders\n",
    "list(current_dir.iterdir())"
   ]
  },
  {
   "cell_type": "code",
   "execution_count": null,
   "id": "8d020d25-1a8c-4dcf-a722-0b97001ce574",
   "metadata": {},
   "outputs": [],
   "source": [
    "# match specifying filename patterns (similar expansion to your shell)\n",
    "# there's also the `glob` module itself (not discussed in detail)\n",
    "list(current_dir.glob('*.txt'))"
   ]
  },
  {
   "cell_type": "code",
   "execution_count": null,
   "id": "7d1b5f27-54ef-42d1-8039-feb696b19ef3",
   "metadata": {},
   "outputs": [],
   "source": [
    "# is it a file or a directory?\n",
    "current_dir.is_dir()"
   ]
  },
  {
   "cell_type": "code",
   "execution_count": null,
   "id": "c97d916e-a993-4de6-9d68-80292f93c692",
   "metadata": {},
   "outputs": [],
   "source": [
    "demo_file = current_dir / 'demo_file.txt'\n",
    "demo_file.is_dir()"
   ]
  },
  {
   "cell_type": "code",
   "execution_count": null,
   "id": "56b521cf-96b1-41f7-bcee-ddca2a797c1d",
   "metadata": {},
   "outputs": [],
   "source": [
    "# just the file name\n",
    "print(f'{demo_file.name = }\\n{demo_file.stem = }\\n{demo_file.suffix = }')"
   ]
  },
  {
   "cell_type": "code",
   "execution_count": null,
   "id": "50750d55-a482-4528-95e8-8e6d3e8eda95",
   "metadata": {},
   "outputs": [],
   "source": [
    "# open files directly (with context manager)\n",
    "with demo_file.open('rb') as ifile:\n",
    "    print(ifile.read())"
   ]
  },
  {
   "cell_type": "markdown",
   "id": "b89dbf00-69d7-4c95-a0ac-9e95ac10f9a5",
   "metadata": {},
   "source": [
    "### shutil\n",
    "- high-level file operations\n",
    "- Might not copy all file metadata though!"
   ]
  },
  {
   "cell_type": "markdown",
   "id": "cfade620-e01b-435a-bff7-52e95fa33450",
   "metadata": {},
   "source": [
    "- `shutil.copy` -- copy file from src to dest, where src and dest are path-like objects\n",
    "- `shutil.copy2` -- like `copy`, but tries to preserve all file metadata\n",
    "- `shutil.copytree` -- copies directory structure recursively, uses `copy2` by default for files\n",
    "- `shutil.rmtree` -- deletes directory structure recursively\n",
    "- `shutil.move` -- move file or directory"
   ]
  },
  {
   "cell_type": "code",
   "execution_count": null,
   "id": "8a6b633f-8f56-4e0d-98d6-e360cbb6b282",
   "metadata": {},
   "outputs": [],
   "source": [
    "import pathlib, shutil"
   ]
  },
  {
   "cell_type": "code",
   "execution_count": null,
   "id": "adf4e03b-96e3-4e0f-89f6-fda444a5dab9",
   "metadata": {},
   "outputs": [],
   "source": [
    "src = pathlib.Path.cwd() / 'demo_file.txt'\n",
    "dest = pathlib.Path.cwd() / 'copied_file.txt'\n",
    "shutil.copy(src, dest)"
   ]
  },
  {
   "cell_type": "code",
   "execution_count": null,
   "id": "60618fe2-d6dc-4113-a38b-dab5f25ea783",
   "metadata": {},
   "outputs": [],
   "source": [
    "src.stat().st_mtime  # mtime: modified; atime: accessed; ctime: (metadata) change time"
   ]
  },
  {
   "cell_type": "code",
   "execution_count": null,
   "id": "77626e76-e02a-46bc-9293-7fbe093b0a59",
   "metadata": {},
   "outputs": [],
   "source": [
    "dest.stat().st_mtime"
   ]
  },
  {
   "cell_type": "code",
   "execution_count": null,
   "id": "310d4ec9-25af-4c05-bcfb-bf7b808931f3",
   "metadata": {},
   "outputs": [],
   "source": [
    "src = pathlib.Path.cwd() / 'demo_file.txt'\n",
    "dest = pathlib.Path.cwd() / 'copied_file.txt'\n",
    "shutil.copy2(src, dest)"
   ]
  },
  {
   "cell_type": "code",
   "execution_count": null,
   "id": "e472e90c-1339-44f0-b770-6285c5a1a764",
   "metadata": {},
   "outputs": [],
   "source": [
    "src.stat().st_mtime"
   ]
  },
  {
   "cell_type": "code",
   "execution_count": null,
   "id": "71e0394e-cd66-4dc2-b2eb-96adc9e8f293",
   "metadata": {},
   "outputs": [],
   "source": [
    "dest.stat().st_mtime"
   ]
  },
  {
   "cell_type": "markdown",
   "id": "80d36d2e-b49d-4380-b8dc-dbc0665ae098",
   "metadata": {
    "jp-MarkdownHeadingCollapsed": true
   },
   "source": [
    "## Text"
   ]
  },
  {
   "cell_type": "markdown",
   "id": "d981c87b-c025-4df5-ae15-c10111eca4bb",
   "metadata": {},
   "source": [
    "### string\n",
    "- useful constants, such as lists of ascii characters\n",
    "- `Formatter` class to customize your own string formatting rules\n",
    "- `Template` class, can be used for i18n\n",
    "- `capwords` helper function"
   ]
  },
  {
   "cell_type": "code",
   "execution_count": null,
   "id": "1f4e3528-0b65-450d-9393-d5f868498660",
   "metadata": {},
   "outputs": [],
   "source": [
    "import string\n",
    "print([x for x in dir(string) if not x.startswith('_')])"
   ]
  },
  {
   "cell_type": "code",
   "execution_count": null,
   "id": "99888169-65be-4a0c-9c22-99afa9425e92",
   "metadata": {},
   "outputs": [],
   "source": [
    "string.ascii_lowercase"
   ]
  },
  {
   "cell_type": "code",
   "execution_count": null,
   "id": "6030a595-b135-4a53-b7eb-379ad19cc073",
   "metadata": {},
   "outputs": [],
   "source": [
    "# could (possibly) have been used in the number parsing exercise, or the number finding exercise\n",
    "string.digits"
   ]
  },
  {
   "cell_type": "code",
   "execution_count": null,
   "id": "d419c496-71f9-471a-9020-9b883e99b11b",
   "metadata": {},
   "outputs": [],
   "source": [
    "string.capwords('   this  here \\tis some sentence')"
   ]
  },
  {
   "cell_type": "markdown",
   "id": "84fe6246-ec60-46ac-9f45-23f48c125ad0",
   "metadata": {
    "jp-MarkdownHeadingCollapsed": true
   },
   "source": [
    "### re\n",
    "- library for regular expressions\n",
    "- regular expressions are an extremely powerful tool for parsing strings\n",
    "- unfortunately, they are also rather hard to read/understand...\n",
    "- since '\\\\' is frequently used in regular expressions `r-strings` (raw strings) are useful for specifying expressions\n",
    "- if you're trying to write regular expressions go use [regex101](https://regex101.com/)\n",
    "- also: [python documentation](https://docs.python.org/3/library/re.html)"
   ]
  },
  {
   "cell_type": "markdown",
   "id": "fbb505bf-4859-4508-adbb-47097bf58444",
   "metadata": {},
   "source": [
    "#### important functions\n",
    "- `re.search`: find and return the first match of the pattern in the string\n",
    "- `re.match`: test if the beginning of a string matches the expression\n",
    "- `re.fullmatch`: test if the entire string matches the expression\n",
    "- `re.findall`: returns a list of all non-overlapping matches of the pattern in the string\n",
    "- `re.sub`: replace all occurences of pattern with a new string\n",
    "- `re.compile`: makes regular expressions more efficient if the same expression is used multiple times"
   ]
  },
  {
   "cell_type": "code",
   "execution_count": null,
   "id": "9687c98e-39b5-460d-a432-2102360cfa57",
   "metadata": {},
   "outputs": [],
   "source": [
    "import re"
   ]
  },
  {
   "cell_type": "code",
   "execution_count": null,
   "id": "9d266bd0-1ca6-4d26-9576-201c95e82b4d",
   "metadata": {},
   "outputs": [],
   "source": [
    "sample_text = 'lorem ipsum, by the way the time is 10:33:47, or maybe it is 17:23:11, and still the sample string goes on...'"
   ]
  },
  {
   "cell_type": "code",
   "execution_count": null,
   "id": "520935ef-4149-4a3d-b35a-36fdb0d1c073",
   "metadata": {},
   "outputs": [],
   "source": [
    "match = re.search(r'\\d\\d:\\d\\d:\\d\\d', sample_text)\n",
    "match"
   ]
  },
  {
   "cell_type": "code",
   "execution_count": null,
   "id": "7e81bcd0-af71-4da9-b625-ce21a9a5f370",
   "metadata": {},
   "outputs": [],
   "source": [
    "sample_text[match.start():match.end()]"
   ]
  },
  {
   "cell_type": "code",
   "execution_count": null,
   "id": "61dbf9c1-0ed5-447d-949c-c5153dba9aff",
   "metadata": {},
   "outputs": [],
   "source": [
    "# if there's no match search returns ``None`\n",
    "nomatch = re.search(r'hello', sample_text)\n",
    "print(nomatch)"
   ]
  },
  {
   "cell_type": "code",
   "execution_count": null,
   "id": "9810816b-17d2-4fd4-89e8-6b03550154a2",
   "metadata": {},
   "outputs": [],
   "source": [
    "# compiling patterns\n",
    "time_pattern = re.compile(r'(\\d{2}):(\\d{2}):(\\d{2})')"
   ]
  },
  {
   "cell_type": "code",
   "execution_count": null,
   "id": "cedbaa02-5a3b-4c00-8162-02860a9768af",
   "metadata": {},
   "outputs": [],
   "source": [
    "# capturing groups: extract parts of the match\n",
    "match = re.search(time_pattern, sample_text)\n",
    "match.groups()"
   ]
  },
  {
   "cell_type": "code",
   "execution_count": null,
   "id": "eedcc4fb-bcb8-4d03-9d3d-36b47b409ca2",
   "metadata": {},
   "outputs": [],
   "source": [
    "matches = re.findall(time_pattern, sample_text)\n",
    "matches"
   ]
  },
  {
   "cell_type": "code",
   "execution_count": null,
   "id": "7deaef1c-229f-48a6-8052-d5b46fc297b7",
   "metadata": {},
   "outputs": [],
   "source": [
    "# all words with at least four characters\n",
    "words = re.findall(r'\\w{4,}', sample_text)\n",
    "print(words)"
   ]
  },
  {
   "cell_type": "code",
   "execution_count": null,
   "id": "6a7ac1d0-c396-4cf8-9506-b193cb2bf2c1",
   "metadata": {},
   "outputs": [],
   "source": [
    "# all words with at at most two characters, separated by whitespace\n",
    "words = re.findall(r' (\\w{,2}) ', sample_text)\n",
    "print(words)"
   ]
  },
  {
   "cell_type": "code",
   "execution_count": null,
   "id": "575223a9-6f11-42d8-aeea-453fa64e3def",
   "metadata": {},
   "outputs": [],
   "source": [
    "print(re.match(r'\\d*?(\\d)\\1\\d*', '123456'))"
   ]
  },
  {
   "cell_type": "code",
   "execution_count": null,
   "id": "423d5ae8-40aa-4b5f-84d2-7be95b51c33e",
   "metadata": {},
   "outputs": [],
   "source": [
    "print(re.match(r'\\d*?(\\d)\\1\\d*', '123356'))"
   ]
  },
  {
   "cell_type": "code",
   "execution_count": null,
   "id": "f963fa98-9bfd-4830-a9b9-5a21908ac421",
   "metadata": {},
   "outputs": [],
   "source": [
    "print(re.match(r'\\d*?(\\d)\\1\\d*', '123336'))  # unfortunately also matches"
   ]
  },
  {
   "cell_type": "code",
   "execution_count": null,
   "id": "cfd978a4-e85c-473c-b417-0f83307afb19",
   "metadata": {},
   "outputs": [],
   "source": [
    "print(re.match(r'((^)|(\\d))((?(3)(?!\\3)\\d|\\d))\\4(?!\\4)', '123456'))"
   ]
  },
  {
   "cell_type": "code",
   "execution_count": null,
   "id": "bae5dd29-857a-425a-bd25-2e7675f970f1",
   "metadata": {},
   "outputs": [],
   "source": [
    "print(re.match(r'((^)|(\\d))((?(3)(?!\\3)\\d|\\d))\\4(?!\\4)', '122345'))"
   ]
  },
  {
   "cell_type": "code",
   "execution_count": null,
   "id": "a4845890-f54d-406c-b543-d7ce91890edc",
   "metadata": {},
   "outputs": [],
   "source": [
    "print(re.match(r'((^)|(\\d))((?(3)(?!\\3)\\d|\\d))\\4(?!\\4)', '122245'))"
   ]
  },
  {
   "cell_type": "markdown",
   "id": "1d8d2c78-9888-450c-bf7c-737ab9c91fcb",
   "metadata": {},
   "source": [
    "### unicodedata\n",
    "- contains everything you didn't want to know about unicode"
   ]
  },
  {
   "cell_type": "code",
   "execution_count": null,
   "id": "5d1c56f8-15bb-4fac-9f9f-7af594a58f7e",
   "metadata": {},
   "outputs": [],
   "source": [
    "import unicodedata"
   ]
  },
  {
   "cell_type": "markdown",
   "id": "a43331dd-ad5a-494a-bf50-8f78cfded770",
   "metadata": {
    "jp-MarkdownHeadingCollapsed": true
   },
   "source": [
    "#### character names"
   ]
  },
  {
   "cell_type": "code",
   "execution_count": null,
   "id": "3a957184-ab13-481a-bddc-77df595eadae",
   "metadata": {},
   "outputs": [],
   "source": [
    "unicodedata.name('{')"
   ]
  },
  {
   "cell_type": "code",
   "execution_count": null,
   "id": "7fff1264-06e0-4915-8307-0023679fba24",
   "metadata": {},
   "outputs": [],
   "source": [
    "unicodedata.lookup('GREEK SMALL LETTER MU')"
   ]
  },
  {
   "cell_type": "code",
   "execution_count": null,
   "id": "cf9673ae-bcb7-42a3-b701-21eb795dc3a5",
   "metadata": {},
   "outputs": [],
   "source": [
    "unicodedata.lookup('MICRO SIGN')"
   ]
  },
  {
   "cell_type": "code",
   "execution_count": null,
   "id": "ab42476f-a60c-4952-a0c3-ca71cdd03e7f",
   "metadata": {},
   "outputs": [],
   "source": [
    "unicodedata.lookup('MICRO SIGN') == unicodedata.lookup('GREEK SMALL LETTER MU')"
   ]
  },
  {
   "cell_type": "markdown",
   "id": "4ba0794c-183c-4c7f-a538-5e6c3e850a69",
   "metadata": {
    "jp-MarkdownHeadingCollapsed": true
   },
   "source": [
    "#### character decomposition"
   ]
  },
  {
   "cell_type": "code",
   "execution_count": null,
   "id": "9fc8cd43-5099-4bc0-98b5-31e0b8034b31",
   "metadata": {},
   "outputs": [],
   "source": [
    "cafe_1 = unicodedata.normalize('NFD', 'café')\n",
    "cafe_2 = unicodedata.normalize('NFC', 'café')"
   ]
  },
  {
   "cell_type": "code",
   "execution_count": null,
   "id": "17868e4c-4dfc-4a20-aaf7-1be4842afcda",
   "metadata": {},
   "outputs": [],
   "source": [
    "print(len(cafe_1), len(cafe_2))"
   ]
  },
  {
   "cell_type": "code",
   "execution_count": null,
   "id": "753bda3f-5c88-4644-8f24-27ca460b49a5",
   "metadata": {},
   "outputs": [],
   "source": [
    "print([unicodedata.name(x) for x in cafe_1])\n",
    "print([unicodedata.name(x) for x in cafe_2])"
   ]
  },
  {
   "cell_type": "code",
   "execution_count": null,
   "id": "f72a35d0-ffb6-4163-a397-2e1f768683d1",
   "metadata": {},
   "outputs": [],
   "source": [
    "print(cafe_1[-1])\n",
    "print(cafe_2[-1])"
   ]
  },
  {
   "cell_type": "markdown",
   "id": "3168b45a-1fd9-4332-a7c7-68fa7dc7569a",
   "metadata": {
    "jp-MarkdownHeadingCollapsed": true
   },
   "source": [
    "#### weird numbers"
   ]
  },
  {
   "cell_type": "code",
   "execution_count": null,
   "id": "a3c63e43-a6d7-4fc6-bb04-9d0d728790a4",
   "metadata": {},
   "outputs": [],
   "source": [
    "ethiopian_three = '\\u136b'\n",
    "print(ethiopian_three)"
   ]
  },
  {
   "cell_type": "code",
   "execution_count": null,
   "id": "acb2d229-e05e-454b-b19f-077507390edc",
   "metadata": {},
   "outputs": [],
   "source": [
    "unicodedata.numeric(ethiopian_three)"
   ]
  },
  {
   "cell_type": "code",
   "execution_count": null,
   "id": "98955fdf-69d5-4014-b454-4721311645bb",
   "metadata": {},
   "outputs": [],
   "source": [
    "unicodedata.digit(ethiopian_three)"
   ]
  },
  {
   "cell_type": "markdown",
   "id": "b40d6fb1-86ae-4ef5-ba21-49c9b357484c",
   "metadata": {},
   "source": [
    "#### unicode categories"
   ]
  },
  {
   "cell_type": "code",
   "execution_count": null,
   "id": "aa53fd9b-bae7-46c8-9f71-60c2c90f40eb",
   "metadata": {},
   "outputs": [],
   "source": [
    "unicodedata.category('a')  # lowercase letter"
   ]
  },
  {
   "cell_type": "code",
   "execution_count": null,
   "id": "12c060f8-382b-4174-bf09-48e4c6879e47",
   "metadata": {},
   "outputs": [],
   "source": [
    "unicodedata.category('&')  # other punctuation"
   ]
  },
  {
   "cell_type": "code",
   "execution_count": null,
   "id": "95f0bc36-976d-4af5-9a95-c449c6c642c0",
   "metadata": {},
   "outputs": [],
   "source": [
    "unicodedata.category('$')  # currency symbol"
   ]
  },
  {
   "cell_type": "code",
   "execution_count": null,
   "id": "224bba39-0ba3-47c6-87c6-12b140bcb37b",
   "metadata": {},
   "outputs": [],
   "source": [
    "unicodedata.category('3')  # decimal number"
   ]
  },
  {
   "cell_type": "code",
   "execution_count": null,
   "id": "752bbd0a-4461-4dc6-966e-22ecf7b84a9b",
   "metadata": {},
   "outputs": [],
   "source": [
    "unicodedata.category(ethiopian_three)  # other number"
   ]
  },
  {
   "cell_type": "markdown",
   "id": "fb7c9c8d-fda3-4221-ac55-930085c6ce85",
   "metadata": {
    "jp-MarkdownHeadingCollapsed": true
   },
   "source": [
    "## functional programming support"
   ]
  },
  {
   "cell_type": "markdown",
   "id": "eb2e134d-45d5-4537-8d89-14c96a0f661f",
   "metadata": {},
   "source": [
    "### operator\n",
    "- efficient functions corresponding to the built-in operators"
   ]
  },
  {
   "cell_type": "markdown",
   "id": "a2d1a7be-0d44-434d-a1e0-fa9a8b5b2188",
   "metadata": {},
   "source": [
    "- comparison operators: `lt`, `le`, `eq`, `ge`, `gt`, `ne`\n",
    "- logical operators: `and`, `or`, `not`, ...\n",
    "- arithmetic operators: `add`, `sub`, `mul`, `truediv`, `floordiv`, `mod`, `pow`, ...\n",
    "- indexing: `getitem`, `setitem`, `delitem`\n",
    "- bitwise operators: `lshift`, `rshift, `and_`, `or_`, `invert`, ...\n",
    "- ..."
   ]
  },
  {
   "cell_type": "code",
   "execution_count": null,
   "id": "421c09d1-0df1-4f2d-bd19-f1dba6c632d6",
   "metadata": {},
   "outputs": [],
   "source": [
    "import operator"
   ]
  },
  {
   "cell_type": "code",
   "execution_count": null,
   "id": "591f6e40-c471-4a36-8bda-94322d13f601",
   "metadata": {},
   "outputs": [],
   "source": [
    "operator.add(2, 5)"
   ]
  },
  {
   "cell_type": "code",
   "execution_count": null,
   "id": "e6000b16-6b9c-4762-9bb1-d946c9b1e989",
   "metadata": {},
   "outputs": [],
   "source": [
    "opcode_map = {\n",
    "    1: operator.add,\n",
    "    2: operator.mul,\n",
    "}"
   ]
  },
  {
   "cell_type": "code",
   "execution_count": null,
   "id": "9d94629b-c993-42a0-9b42-9575b36f1c1f",
   "metadata": {},
   "outputs": [],
   "source": [
    "opcode, *args = [1, 2, 3]\n",
    "opcode_map[opcode](*args)"
   ]
  },
  {
   "cell_type": "markdown",
   "id": "092e05ff-928c-487f-a241-34745491bc24",
   "metadata": {},
   "source": [
    "### itertools\n",
    "- Functions creating iterators for efficient looping¶\n",
    "- infinite iterators: `count`, `repeat`, `cycle`\n",
    "- combinatorics: `product`, `permutations`, `combinations`, `combinations_with_replacement`\n",
    "- terminating iterators: `accumulate`, `chain`, `compress`, `dropwhile`, `filterfalse`, `groupby`, `islice`, `pairwise`, `starmap`, `takewhile`, `tee`, `zip_longest`"
   ]
  },
  {
   "cell_type": "code",
   "execution_count": null,
   "id": "111c5fa3-a3e5-4f1f-9c87-185a502633d6",
   "metadata": {},
   "outputs": [],
   "source": [
    "import itertools, string"
   ]
  },
  {
   "cell_type": "code",
   "execution_count": null,
   "id": "df607a2f-2322-4e89-8eef-1497f3ad4938",
   "metadata": {},
   "outputs": [],
   "source": [
    "list(itertools.accumulate(range(10), operator.add))"
   ]
  },
  {
   "cell_type": "code",
   "execution_count": null,
   "id": "8fb8009c-5a2c-427f-9037-de9e740407af",
   "metadata": {},
   "outputs": [],
   "source": [
    "list(itertools.chain(range(3), range(3)))"
   ]
  },
  {
   "cell_type": "code",
   "execution_count": null,
   "id": "bbed3914-23f7-455c-95eb-fce42cffa80c",
   "metadata": {},
   "outputs": [],
   "source": [
    "list(itertools.compress(string.ascii_lowercase, [0, 1, 1, 0, 1, 0, 1]))"
   ]
  },
  {
   "cell_type": "code",
   "execution_count": null,
   "id": "fb150146-7b61-4d4a-b0a1-a5f6df037a04",
   "metadata": {},
   "outputs": [],
   "source": [
    "list(itertools.pairwise(string.ascii_lowercase))"
   ]
  },
  {
   "cell_type": "code",
   "execution_count": null,
   "id": "b334f235-dd47-473a-98bf-3c7c450ec83f",
   "metadata": {},
   "outputs": [],
   "source": [
    "list(itertools.product([1, 2, 3], [4, 5, 6]))  # basically a nested for"
   ]
  },
  {
   "cell_type": "code",
   "execution_count": null,
   "id": "3862da64-f909-4784-8cd4-a31ea2120125",
   "metadata": {},
   "outputs": [],
   "source": [
    "list(itertools.permutations('ABC'))"
   ]
  },
  {
   "cell_type": "code",
   "execution_count": null,
   "id": "2ed64821-440d-4e13-8e89-e205f582b429",
   "metadata": {},
   "outputs": [],
   "source": [
    "list(itertools.combinations('ABC', 2))"
   ]
  },
  {
   "cell_type": "code",
   "execution_count": null,
   "id": "684472d9-f0eb-4dfc-a5b4-412a86d88e7e",
   "metadata": {},
   "outputs": [],
   "source": [
    "list(itertools.combinations_with_replacement('ABC', 2))"
   ]
  },
  {
   "cell_type": "markdown",
   "id": "0205d65a-828a-4436-9012-5d6b5a06e2f1",
   "metadata": {},
   "source": [
    "### functools\n",
    "- higher-order functions: functions that act on or return other functions\n",
    "- caching decorators: `cache`, `cached_property`, `lru_cache` (see week 2)\n",
    "- `partial`: generate a new function from an existing function, with some arguments already set\n",
    "- `reduce`: apply iteratively to elements of iterable from left to right. also compare `all`, `any`, `filter`, `map` (builtins); but: list comprehensions...\n",
    "- `singledispatch`: branch functions depending on argument type\n",
    "- `wraps`: decorator for creating decorators while maintaining name/docstrings etc of the wrapper function"
   ]
  },
  {
   "cell_type": "code",
   "execution_count": null,
   "id": "48b3de28-4df0-453b-b211-df9385a6f730",
   "metadata": {},
   "outputs": [],
   "source": [
    "import functools"
   ]
  },
  {
   "cell_type": "code",
   "execution_count": null,
   "id": "39045017-5ccb-4b4f-b8a0-7f332bab7f36",
   "metadata": {},
   "outputs": [],
   "source": [
    "def sum_of_three(a, b, c):\n",
    "    print(a + b + c)\n",
    "\n",
    "sum_with_eight = functools.partial(sum_of_three, 3, 5)\n",
    "sum_with_eight(2)"
   ]
  },
  {
   "cell_type": "code",
   "execution_count": null,
   "id": "9a25f7ae-79a1-405e-9090-5f41984298d3",
   "metadata": {},
   "outputs": [],
   "source": [
    "functools.reduce(operator.add, range(10))"
   ]
  },
  {
   "cell_type": "code",
   "execution_count": null,
   "id": "4d9224bf-0df6-4218-a23e-3053b354e7eb",
   "metadata": {},
   "outputs": [],
   "source": [
    "functools.reduce(operator.xor, range(13))"
   ]
  },
  {
   "cell_type": "code",
   "execution_count": null,
   "id": "ea34cea7-ce07-417d-8024-b8792e799360",
   "metadata": {},
   "outputs": [],
   "source": [
    "@functools.singledispatch\n",
    "def type_dependent_function(obj):\n",
    "    print(\"this is the default...\", obj)\n",
    "\n",
    "@type_dependent_function.register(int)\n",
    "def _(obj):\n",
    "    print(\"integers are nice\", obj)\n",
    "\n",
    "@type_dependent_function.register(float)\n",
    "def _(obj):\n",
    "    print(\"but if this floats your boat...\", obj)"
   ]
  },
  {
   "cell_type": "code",
   "execution_count": null,
   "id": "781d1950-1b0d-4d8d-bbcd-e4188fda851a",
   "metadata": {},
   "outputs": [],
   "source": [
    "type_dependent_function('hello')"
   ]
  },
  {
   "cell_type": "code",
   "execution_count": null,
   "id": "ee12f15e-cde1-4506-9357-f18c537a6ed5",
   "metadata": {},
   "outputs": [],
   "source": [
    "type_dependent_function(1)"
   ]
  },
  {
   "cell_type": "code",
   "execution_count": null,
   "id": "8cdfec93-9e9e-407a-b8e8-0c58dde51aa2",
   "metadata": {},
   "outputs": [],
   "source": [
    "type_dependent_function(3.1415)"
   ]
  },
  {
   "cell_type": "code",
   "execution_count": null,
   "id": "e1612ffa-576e-4420-889b-649d8f47cfdc",
   "metadata": {},
   "outputs": [],
   "source": [
    "def the_decorator(wrapped_function):\n",
    "    # @functools.wraps(wrapped_function)\n",
    "    def wrapper(*args, **kwds):\n",
    "        print('Calling decorated function')\n",
    "        return wrapped_function(*args, **kwds)\n",
    "    return wrapper\n",
    "\n",
    "\n",
    "@the_decorator\n",
    "def my_function():\n",
    "    \"\"\"There be some fancy docstring here\"\"\"\n",
    "    print('Called example function')"
   ]
  },
  {
   "cell_type": "code",
   "execution_count": null,
   "id": "1cc693a7-bee6-48eb-8e48-680d3e5779eb",
   "metadata": {},
   "outputs": [],
   "source": [
    "print(my_function)"
   ]
  },
  {
   "cell_type": "code",
   "execution_count": null,
   "id": "d9588d10-6dc7-4820-91be-95cc4753e6ce",
   "metadata": {},
   "outputs": [],
   "source": [
    "help(my_function)"
   ]
  },
  {
   "cell_type": "markdown",
   "id": "303b67fd-69cc-4b68-95ae-cdab947b163c",
   "metadata": {
    "jp-MarkdownHeadingCollapsed": true
   },
   "source": [
    "## data types"
   ]
  },
  {
   "cell_type": "markdown",
   "id": "709dc059-0f7a-4acd-9f6a-1e3d15bc74f7",
   "metadata": {
    "jp-MarkdownHeadingCollapsed": true
   },
   "source": [
    "### datetime & zoneinfo\n",
    "- classes for manipulating dates and times\n",
    "- objects may be timezone 'naive' or timezone 'aware'\n",
    "- naive == no timezone information set, aware == timezone information available\n",
    "- avoid naive objects in production\n",
    "  - store dates/times either as timezone-aware objects (eg timestamp_tz in postgres) or as **explicit** utc times/dates\n",
    "  - convert once on input, and deal with tz-aware objects forever after\n",
    "- ojects in datetime offer microsecond resolution for dates between year 1 and year 9999\n",
    "- objects are immutable and hashable"
   ]
  },
  {
   "cell_type": "markdown",
   "id": "dc82864f-d1d7-410f-adc3-522230e05847",
   "metadata": {},
   "source": [
    "- `datetime.date`: naive date, assuming gregorian calendar\n",
    "- `datetime.time`: idealized time (no leap seconds), with (optional) timezone info\n",
    "- `datetime.datetime`: a real timestamp (date+time), with (optional) timezone info\n",
    "- `datetime.timedelta`: difference between two date/time/datetime objects\n",
    "- `datetime.timezone`: simple timezone class (see zoneinfo)\n",
    "- `zoneinfo.Zoneinfo`: named timezone objects"
   ]
  },
  {
   "cell_type": "code",
   "execution_count": null,
   "id": "a79c6e43-f605-45c1-84c3-a8e6152a56c9",
   "metadata": {},
   "outputs": [],
   "source": [
    "import datetime\n",
    "import zoneinfo"
   ]
  },
  {
   "cell_type": "markdown",
   "id": "ec1d92cb-7be9-47a3-a9f1-0a7155359388",
   "metadata": {},
   "source": [
    "#### creating datetime objects"
   ]
  },
  {
   "cell_type": "code",
   "execution_count": null,
   "id": "95381118-fdd8-4780-ba27-749b0eafb0db",
   "metadata": {},
   "outputs": [],
   "source": [
    "date_1 = datetime.datetime(2023, 1, 1, 11, 22, 33)\n",
    "print(date_1)"
   ]
  },
  {
   "cell_type": "code",
   "execution_count": null,
   "id": "b1d36582-17d8-407f-acb0-d1d811cb9621",
   "metadata": {},
   "outputs": [],
   "source": [
    "print(date_1.tzinfo)  # timezone-naive!"
   ]
  },
  {
   "cell_type": "code",
   "execution_count": null,
   "id": "c3e4146e-92bc-4faf-95c4-962a7a814f8a",
   "metadata": {},
   "outputs": [],
   "source": [
    "tz_utc = zoneinfo.ZoneInfo('UTC')"
   ]
  },
  {
   "cell_type": "code",
   "execution_count": null,
   "id": "f296ae69-8e21-4451-bf41-69aeb9c31335",
   "metadata": {},
   "outputs": [],
   "source": [
    "date_1 = datetime.datetime(2023, 1, 1, 21, 22, 33, tzinfo=tz_utc)\n",
    "print(date_1)"
   ]
  },
  {
   "cell_type": "code",
   "execution_count": null,
   "id": "d3dadb69-53dc-4b8d-9939-c18f8b17ab21",
   "metadata": {},
   "outputs": [],
   "source": [
    "# alternative constructor\n",
    "local_now = datetime.datetime.now()\n",
    "print(local_now)\n",
    "print(local_now.tzinfo) # naive!"
   ]
  },
  {
   "cell_type": "code",
   "execution_count": null,
   "id": "3ffb1ca7-99ca-48d2-a9f2-ee5bd6eef286",
   "metadata": {},
   "outputs": [],
   "source": [
    "utc_now = datetime.datetime.utcnow()\n",
    "print(utc_now)\n",
    "print(utc_now.tzinfo) # still naive!"
   ]
  },
  {
   "cell_type": "markdown",
   "id": "b7d88063-b72c-4d61-8896-99912abc8b07",
   "metadata": {},
   "source": [
    "#### timezone conversion"
   ]
  },
  {
   "cell_type": "code",
   "execution_count": null,
   "id": "4e0e0842-38ad-48b8-9edf-d91d1cff4dd0",
   "metadata": {},
   "outputs": [],
   "source": [
    "tz_berlin = zoneinfo.ZoneInfo('Europe/Berlin')\n",
    "tz_tokyo = zoneinfo.ZoneInfo('Asia/Tokyo')"
   ]
  },
  {
   "cell_type": "code",
   "execution_count": null,
   "id": "61bde5a7-eb81-4258-b171-c78958194cf7",
   "metadata": {},
   "outputs": [],
   "source": [
    "date_1 = datetime.datetime(2023, 1, 1, 21, 22, 33, tzinfo=tz_utc)"
   ]
  },
  {
   "cell_type": "code",
   "execution_count": null,
   "id": "bcd4eb76-4ee9-4b37-8a33-7528dd9beef8",
   "metadata": {},
   "outputs": [],
   "source": [
    "date_1_berlin = date_1.astimezone(tz_berlin)\n",
    "print(date_1_berlin)"
   ]
  },
  {
   "cell_type": "code",
   "execution_count": null,
   "id": "2dacc0d8-3f9d-4814-810a-d84ca052e2a6",
   "metadata": {},
   "outputs": [],
   "source": [
    "date_1_tokyo = date_1.astimezone(tz_tokyo)\n",
    "print(date_1_tokyo)"
   ]
  },
  {
   "cell_type": "code",
   "execution_count": null,
   "id": "7b55ce65-3c33-43f0-8749-ca14748b114e",
   "metadata": {},
   "outputs": [],
   "source": [
    "# conversion with naive (assumed local)\n",
    "utc_now = datetime.datetime.utcnow()\n",
    "utc_now.astimezone(tz_utc)  # wrong result! "
   ]
  },
  {
   "cell_type": "code",
   "execution_count": null,
   "id": "2a6c274e-680f-4b00-8bc4-2235d868abd1",
   "metadata": {},
   "outputs": [],
   "source": [
    "utc_now.replace(tzinfo=tz_utc)  # this is better"
   ]
  },
  {
   "cell_type": "code",
   "execution_count": null,
   "id": "bd65d757-f91d-47b8-877f-cfeb463b4bb6",
   "metadata": {},
   "outputs": [],
   "source": [
    "local_now = datetime.datetime.now()\n",
    "local_now.astimezone(tz_utc)  # this also works"
   ]
  },
  {
   "cell_type": "code",
   "execution_count": null,
   "id": "01f11ceb-25e8-4769-86d2-c876c4174068",
   "metadata": {},
   "outputs": [],
   "source": [
    "# timestamp differences"
   ]
  },
  {
   "cell_type": "code",
   "execution_count": null,
   "id": "d77c3e1d-61ff-4dc3-a59f-78067b28153e",
   "metadata": {},
   "outputs": [],
   "source": [
    "date_2 = datetime.datetime(2022, 6, 15, 13, 14, 15, tzinfo=tz_utc)\n",
    "timediff = date_1 - date_2\n",
    "print(f'{timediff!s} -- {timediff!r}')"
   ]
  },
  {
   "cell_type": "code",
   "execution_count": null,
   "id": "2f3a73aa-bcc2-44cc-a2c9-05bd7dbf01c7",
   "metadata": {},
   "outputs": [],
   "source": [
    "print(f'{date_1_berlin} - {date_1_tokyo} == {date_1_berlin - date_1_tokyo}')"
   ]
  },
  {
   "cell_type": "code",
   "execution_count": null,
   "id": "6702c025-1d3a-4e76-a025-c70d4ed80d0b",
   "metadata": {},
   "outputs": [],
   "source": [
    "timediff = date_2 - date_1\n",
    "print(f'{timediff!s} -- {timediff!r}')"
   ]
  },
  {
   "cell_type": "code",
   "execution_count": null,
   "id": "bbb33d38-7dce-466e-a6b1-3f79121f43a4",
   "metadata": {},
   "outputs": [],
   "source": [
    "# can't calculate difference between naive and aware objects\n",
    "utc_now - date_1"
   ]
  },
  {
   "cell_type": "markdown",
   "id": "e2250100-293c-400e-b6a5-05e044597c35",
   "metadata": {},
   "source": [
    "#### components"
   ]
  },
  {
   "cell_type": "code",
   "execution_count": null,
   "id": "e6d8e748-2962-47e2-99bb-5be3b7e6d588",
   "metadata": {},
   "outputs": [],
   "source": [
    "print(date_1.year, date_1.month, date_1.day)"
   ]
  },
  {
   "cell_type": "code",
   "execution_count": null,
   "id": "b1c9cee1-15f7-4338-8325-bf47c3553145",
   "metadata": {},
   "outputs": [],
   "source": [
    "print(date_1.hour, date_1.minute, date_1.second)"
   ]
  },
  {
   "cell_type": "markdown",
   "id": "0b971fa5-501a-4cbf-8cd0-ffd1a47af75c",
   "metadata": {},
   "source": [
    "#### timestamp strings"
   ]
  },
  {
   "cell_type": "code",
   "execution_count": null,
   "id": "385bc942-6372-4150-a92f-d8b393f74efc",
   "metadata": {},
   "outputs": [],
   "source": [
    "date_1.strftime('%Y-%m-%d')"
   ]
  },
  {
   "cell_type": "code",
   "execution_count": null,
   "id": "897c2814-24cb-4f9a-90cc-3ab03b86b21e",
   "metadata": {},
   "outputs": [],
   "source": [
    "date_1.strftime('%H:%M:%S')"
   ]
  },
  {
   "cell_type": "code",
   "execution_count": null,
   "id": "ffb865a9-f956-45d7-9c0c-9d1fab72ba91",
   "metadata": {},
   "outputs": [],
   "source": [
    "date_1.strftime('%Y-%m-%d %H:%M:%S')"
   ]
  },
  {
   "cell_type": "code",
   "execution_count": null,
   "id": "c26ed643-381a-45f2-a1bc-8994ad3cd0be",
   "metadata": {},
   "outputs": [],
   "source": [
    "print(f'{date_1:%Y-%m-%d}')  # also in f-strings"
   ]
  },
  {
   "cell_type": "code",
   "execution_count": null,
   "id": "c714d406-3a72-4ab5-bd44-87634a586be8",
   "metadata": {},
   "outputs": [],
   "source": [
    "date_1.isoformat()  # for (text) serialization use this format!"
   ]
  },
  {
   "cell_type": "code",
   "execution_count": null,
   "id": "e4efa98f-b400-41a6-a04f-feaaacf93b2d",
   "metadata": {},
   "outputs": [],
   "source": [
    "date_1.astimezone(tz_tokyo).isoformat()"
   ]
  },
  {
   "cell_type": "code",
   "execution_count": null,
   "id": "9f1f9795-bf35-4fa2-9057-2fe05c76a6df",
   "metadata": {},
   "outputs": [],
   "source": [
    "date_string = date_1.astimezone(tz_tokyo).isoformat()\n",
    "datetime_from_iso_string = datetime.datetime.fromisoformat(date_string)  # no memory of tokyo, just the offset\n",
    "print(datetime_from_iso_string)\n",
    "print(datetime_from_iso_string.tzinfo)"
   ]
  },
  {
   "cell_type": "code",
   "execution_count": null,
   "id": "81ac978c-f0f0-4770-977b-c4dd997ce798",
   "metadata": {},
   "outputs": [],
   "source": [
    "datetime_from_string = datetime.datetime.strptime('2023-11-12 13:14:15', '%Y-%m-%d %H:%M:%S')\n",
    "print(datetime_from_string)\n",
    "print(datetime_from_string.tzinfo)"
   ]
  },
  {
   "cell_type": "code",
   "execution_count": null,
   "id": "6f567885-e3cc-4124-897d-391f1ba19f09",
   "metadata": {},
   "outputs": [],
   "source": [
    "datetime.datetime.strptime('2023-11-12 13:14:15.123', '%Y-%m-%d %H:%M:%S')"
   ]
  },
  {
   "cell_type": "markdown",
   "id": "f4a6499b-b596-45e6-96e4-b839c6abc624",
   "metadata": {
    "jp-MarkdownHeadingCollapsed": true
   },
   "source": [
    "### collections\n",
    "- implements specialized container datatypes providing alternatives to Python’s general purpose built-in containers, `dict`, `list`, `set`, and `tuple`"
   ]
  },
  {
   "cell_type": "markdown",
   "id": "3b1189c8-98d0-4f2b-bdef-9666244be859",
   "metadata": {},
   "source": [
    "- `namedtuple` -- like a tuple, but with named fields\n",
    "- `deque` -- like a list, but appends and pops are fast on both sides (lists are only fast at the end)\n",
    "- `defaultdict` -- dict with default values for all keys\n",
    "- `Counter` -- counts elements in iterables\n",
    "- `UserDict`, `UserList`, `UserString` -- for easier subclassing of  builtin types (see last week)"
   ]
  },
  {
   "cell_type": "code",
   "execution_count": null,
   "id": "9fee50ce-3611-4981-9466-05fb2cf1d678",
   "metadata": {},
   "outputs": [],
   "source": [
    "import collections"
   ]
  },
  {
   "cell_type": "markdown",
   "id": "e313c834-5ead-4fd3-b83b-57a6edb381a1",
   "metadata": {
    "jp-MarkdownHeadingCollapsed": true
   },
   "source": [
    "#### namedtuple"
   ]
  },
  {
   "cell_type": "code",
   "execution_count": null,
   "id": "61c70edd-a981-4456-af45-59a678a908de",
   "metadata": {},
   "outputs": [],
   "source": [
    "Card = collections.namedtuple('Card', ['rank', 'suite'])\n",
    "card = Card('Ace', 'Clubs')\n",
    "print(card)"
   ]
  },
  {
   "cell_type": "markdown",
   "id": "72546c49-f20d-4b0b-8041-e789c9bd4d01",
   "metadata": {
    "jp-MarkdownHeadingCollapsed": true
   },
   "source": [
    "#### deque"
   ]
  },
  {
   "cell_type": "code",
   "execution_count": null,
   "id": "81e2da5e-4a1f-4881-b8cf-10f33df7d79e",
   "metadata": {},
   "outputs": [],
   "source": [
    "q = collections.deque([1, 2, 3])\n",
    "q.appendleft(0)\n",
    "q.appendleft(-1)\n",
    "print(f'{q} -- after adding two left elements')\n",
    "q.append(4)\n",
    "print(f'{q} -- after adding one right element')\n",
    "q.pop()\n",
    "print(f'{q} -- after pop right')\n",
    "q.popleft()\n",
    "print(f'{q} -- after pop left')"
   ]
  },
  {
   "cell_type": "code",
   "execution_count": null,
   "id": "f36d0507-634c-4d8b-9f05-cc32b1b2db0c",
   "metadata": {},
   "outputs": [],
   "source": [
    "%%timeit\n",
    "q = collections.deque()\n",
    "for i in range(100000):\n",
    "    q.appendleft(i)"
   ]
  },
  {
   "cell_type": "code",
   "execution_count": null,
   "id": "fc917a33-1443-4f4d-b089-fb298b36c37d",
   "metadata": {},
   "outputs": [],
   "source": [
    "%%timeit\n",
    "l = list()\n",
    "for i in range(100000):\n",
    "    l.insert(0, i)"
   ]
  },
  {
   "cell_type": "markdown",
   "id": "cbb406aa-c32f-4371-b722-af1904f26d0e",
   "metadata": {
    "jp-MarkdownHeadingCollapsed": true
   },
   "source": [
    "#### defaultdict"
   ]
  },
  {
   "cell_type": "code",
   "execution_count": null,
   "id": "c8be7942-7319-44dd-a2c0-846c1abc3eb9",
   "metadata": {},
   "outputs": [],
   "source": [
    "normal_dict = {}\n",
    "default_dict = collections.defaultdict(int)"
   ]
  },
  {
   "cell_type": "code",
   "execution_count": null,
   "id": "c6d7cfaa-2e7e-4ac1-b74b-b7ed7bcea50d",
   "metadata": {},
   "outputs": [],
   "source": [
    "normal_dict['key'] = 5\n",
    "default_dict['key'] = 5"
   ]
  },
  {
   "cell_type": "code",
   "execution_count": null,
   "id": "4befffa3-860c-4124-b345-6c7a0ececbd7",
   "metadata": {},
   "outputs": [],
   "source": [
    "print(f\"{normal_dict['key'] = }\")\n",
    "print(f\"{default_dict['key'] = }\")"
   ]
  },
  {
   "cell_type": "code",
   "execution_count": null,
   "id": "1d910b4f-b436-4655-87fb-e6c984842293",
   "metadata": {},
   "outputs": [],
   "source": [
    "normal_dict['no_key_here']"
   ]
  },
  {
   "cell_type": "code",
   "execution_count": null,
   "id": "4edd5e55-f3a7-49a9-9ac0-76932eb8edc2",
   "metadata": {},
   "outputs": [],
   "source": [
    "default_dict['no_key_here']"
   ]
  },
  {
   "cell_type": "code",
   "execution_count": null,
   "id": "7241a414-ca64-4e1c-a72a-891ccd91596c",
   "metadata": {},
   "outputs": [],
   "source": [
    "# can get the same from a normal dict with special method\n",
    "normal_dict.get('no_key_here', 0)"
   ]
  },
  {
   "cell_type": "code",
   "execution_count": null,
   "id": "57005a84-08b7-412d-99ff-1cb28b6b20d6",
   "metadata": {},
   "outputs": [],
   "source": [
    "# doesn't have to be zero, just needs a function that returns the default entry\n",
    "default_five = collections.defaultdict(lambda: 5)\n",
    "default_five['no_key_here']"
   ]
  },
  {
   "cell_type": "code",
   "execution_count": null,
   "id": "2be205f1-f5c9-4178-90f7-660afbe28c2c",
   "metadata": {},
   "outputs": [],
   "source": [
    "default_string = collections.defaultdict(str)\n",
    "default_string['no_key_here']"
   ]
  },
  {
   "cell_type": "code",
   "execution_count": null,
   "id": "f8e76795-daf2-4027-a388-4b84a6babd3a",
   "metadata": {},
   "outputs": [],
   "source": [
    "default_string_2 = collections.defaultdict(lambda: \"there was no entry for this key...\")\n",
    "default_string_2['no_key_here']"
   ]
  },
  {
   "cell_type": "markdown",
   "id": "4ecff100-023f-4a2e-be44-2828dc63ef64",
   "metadata": {
    "jp-MarkdownHeadingCollapsed": true
   },
   "source": [
    "#### Counter"
   ]
  },
  {
   "cell_type": "code",
   "execution_count": null,
   "id": "dc520ee0-37c4-4604-88ca-299a76521ee1",
   "metadata": {},
   "outputs": [],
   "source": [
    "collections.Counter('this here be some long string')"
   ]
  },
  {
   "cell_type": "code",
   "execution_count": null,
   "id": "44471667-5ed8-4dc5-b649-ef4b6230754f",
   "metadata": {},
   "outputs": [],
   "source": [
    "first_list = ['ybk', 'zcg', 'dhw', 'gua', 'mqh', 'yel', 'fpk', 'imk', 'nkt', 'tpl', 'guc', 'ozk', 'dip', 'thn', 'pxc', 'obk', 'orl', 'rdc', 'vto', 'wen', 'tbw', 'itj', 'qfb', 'ymd', 'txb', 'vgw', 'wgd', 'tcg', 'ezm', 'gnt', 'ehf', 'pfo', 'alf']\n",
    "collections.Counter(''.join(first_list))"
   ]
  },
  {
   "cell_type": "markdown",
   "id": "f5b1e74c-9475-4e00-9c43-32c15e7313c5",
   "metadata": {
    "jp-MarkdownHeadingCollapsed": true
   },
   "source": [
    "### array\n",
    "- sort of like a list\n",
    "- but for specified, uniform, basic types (numbers, characters)\n",
    "- numbers can range from 1-byte `chars` up to 8-byte `doubles` and `long long`s (but not arbitrary size integers)\n",
    "- integers can be signed or unsigned\n",
    "- arithmetic works like for lists\n",
    "- use 3-rd party library `numpy` for n-dimensional arrays with arithmetic, linear algebra etc..."
   ]
  },
  {
   "cell_type": "code",
   "execution_count": null,
   "id": "0d70112b-3d54-4bc5-aeae-a28439c186d1",
   "metadata": {},
   "outputs": [],
   "source": [
    "import array"
   ]
  },
  {
   "cell_type": "code",
   "execution_count": null,
   "id": "e0d0aa37-d001-4575-9acf-3a6b47d782d1",
   "metadata": {
    "scrolled": true
   },
   "outputs": [],
   "source": [
    "help(array)"
   ]
  },
  {
   "cell_type": "code",
   "execution_count": null,
   "id": "7c28014f-ef58-4885-8108-a186b9f5b87c",
   "metadata": {},
   "outputs": [],
   "source": [
    "unicode_array = array.array('u', 'Hello there! 😀')\n",
    "unicode_array"
   ]
  },
  {
   "cell_type": "code",
   "execution_count": null,
   "id": "43a1f654-2216-4fe2-8a25-5faa6f1a639f",
   "metadata": {},
   "outputs": [],
   "source": [
    "char_array = array.array('b', [1, 2, 3, 4, 5])  # b: signed 1-byte integer\n",
    "char_array"
   ]
  },
  {
   "cell_type": "code",
   "execution_count": null,
   "id": "d2398097-1140-4d73-a9ba-ee90e0bae5eb",
   "metadata": {},
   "outputs": [],
   "source": [
    "char_array.append(2**8)"
   ]
  },
  {
   "cell_type": "code",
   "execution_count": null,
   "id": "8f70eb00-d9fb-449b-ba9f-7294ed5d4f9e",
   "metadata": {},
   "outputs": [],
   "source": [
    "double_array = array.array('d', [3.1415, 2.718, 1e5])\n",
    "double_array"
   ]
  },
  {
   "cell_type": "markdown",
   "id": "d359ef4b-bba9-4d33-b294-84133e71ad2f",
   "metadata": {
    "jp-MarkdownHeadingCollapsed": true
   },
   "source": [
    "### copy\n",
    "- shallow or deep copy operations on objects"
   ]
  },
  {
   "cell_type": "code",
   "execution_count": null,
   "id": "cf67fbfa-e214-4abd-b43e-59822402e1c7",
   "metadata": {},
   "outputs": [],
   "source": [
    "import copy"
   ]
  },
  {
   "cell_type": "code",
   "execution_count": null,
   "id": "28995ccc-9c61-4ab7-8abc-ebe5e87290ed",
   "metadata": {},
   "outputs": [],
   "source": [
    "def modifying_function(some_dict):\n",
    "    some_dict['new_key'] = 'hey, set by a function'"
   ]
  },
  {
   "cell_type": "code",
   "execution_count": null,
   "id": "97fa3cd9-1b03-4cbc-8393-43e46657ac49",
   "metadata": {},
   "outputs": [],
   "source": [
    "d = dict()\n",
    "modifying_function(d)\n",
    "print(d)"
   ]
  },
  {
   "cell_type": "code",
   "execution_count": null,
   "id": "7011bdd9-a3d5-49ca-804e-185fa113d795",
   "metadata": {},
   "outputs": [],
   "source": [
    "d = dict()\n",
    "modifying_function(copy.copy(d))\n",
    "print(d)"
   ]
  },
  {
   "cell_type": "code",
   "execution_count": null,
   "id": "ed9035ac-e2ea-42c5-815d-069636e7e68a",
   "metadata": {},
   "outputs": [],
   "source": [
    "def deep_modifying_function(some_dict):\n",
    "    some_dict['inner_dict']['new_key'] = 'hey, set by a function'"
   ]
  },
  {
   "cell_type": "code",
   "execution_count": null,
   "id": "9470647e-a838-456f-9d12-856579a7cf95",
   "metadata": {},
   "outputs": [],
   "source": [
    "d = dict()\n",
    "d['inner_dict'] = dict()\n",
    "deep_modifying_function(d)\n",
    "print(d)"
   ]
  },
  {
   "cell_type": "code",
   "execution_count": null,
   "id": "c4b07af3-10d7-4433-953c-45505a995ee1",
   "metadata": {},
   "outputs": [],
   "source": [
    "d = dict()\n",
    "d['inner_dict'] = dict()\n",
    "deep_modifying_function(copy.copy(d))\n",
    "print(d)"
   ]
  },
  {
   "cell_type": "code",
   "execution_count": null,
   "id": "02537e29-9188-4be5-a5ea-acaf720d3d0a",
   "metadata": {},
   "outputs": [],
   "source": [
    "d = dict()\n",
    "d['inner_dict'] = dict()\n",
    "deep_modifying_function(copy.deepcopy(d))\n",
    "print(d)"
   ]
  },
  {
   "cell_type": "markdown",
   "id": "3019e54d-6128-49ad-a2bc-74983582787b",
   "metadata": {},
   "source": [
    "### base64\n",
    "- provides functions for encoding binary data to printable ASCII characters and decoding such encodings back to binary data.\n",
    "- mostly for transmitting binary data as part of URLs or in http POST requests\n",
    "- `base64.b64encode` / `base64.b64decode` -- en/de-code using the standard alphabet\n",
    "- `base64.urlsafe_b64encode` / `base64.urlsafe_b64decode` -- en/de-code using the urlencode alphabet"
   ]
  },
  {
   "cell_type": "code",
   "execution_count": null,
   "id": "c1dab0f4-fa7c-407c-b0bb-e5a588a51db3",
   "metadata": {},
   "outputs": [],
   "source": [
    "import base64"
   ]
  },
  {
   "cell_type": "code",
   "execution_count": null,
   "id": "261b4e4b-f2e2-4833-98fd-29f0c14f23cc",
   "metadata": {},
   "outputs": [],
   "source": [
    "list_as_bytes = bytes([1, 2, 3])\n",
    "list_as_bytes"
   ]
  },
  {
   "cell_type": "code",
   "execution_count": null,
   "id": "93f4409e-3bb1-4794-ba08-2f2033a3fb8f",
   "metadata": {},
   "outputs": [],
   "source": [
    "list_as_b64 = base64.b64encode(list_as_bytes)\n",
    "list_as_b64"
   ]
  },
  {
   "cell_type": "code",
   "execution_count": null,
   "id": "f7005849-71f1-46a1-bfa5-54f2930ab4df",
   "metadata": {},
   "outputs": [],
   "source": [
    "decoded_list_as_bytes = base64.b64decode(list_as_b64)\n",
    "decoded_list_as_bytes"
   ]
  },
  {
   "cell_type": "code",
   "execution_count": null,
   "id": "eb140787-723b-4506-993c-e481cc8b4320",
   "metadata": {},
   "outputs": [],
   "source": [
    "list(decoded_list_as_bytes)"
   ]
  },
  {
   "cell_type": "markdown",
   "id": "feb684a4-ba45-4602-a323-c95ef07f11fa",
   "metadata": {},
   "source": [
    "## mathemtical things"
   ]
  },
  {
   "cell_type": "markdown",
   "id": "88e3b6ee-fb45-426b-a01c-4cc4c3af3e7a",
   "metadata": {
    "jp-MarkdownHeadingCollapsed": true
   },
   "source": [
    "### math & cmath\n",
    "- `math` all the mathematical functions defined in C99 for real numbers\n",
    "- `cmath` all the mathematical functions defined in C99 for complex numbers"
   ]
  },
  {
   "cell_type": "markdown",
   "id": "597aea73-a868-44ec-8bfa-3c013bf48cfc",
   "metadata": {},
   "source": [
    "- rounding: `trunc`, `floor`, `ceil`, ...\n",
    "- combinatorics: `comb`, `perm`, ...\n",
    "- integer arithmetics: `factorial`, `gcd`, `lcm`, ...\n",
    "- (float) modulo: `fmod` (watch out, different from `%`)\n",
    "- trigonometry: `sin`, `cos`, `tan`, `asin`, `acos`, `atan`, `sinh`, `cosh`, `tanh`, `asinh`, `acosh`, `atanh`\n",
    "- angles: `degrees`, `radians` for conversion\n",
    "- log and exp: `exp`, `exp2`, `log`, `log2`, `log10`, `pow`, ...\n",
    "- special functions: `erf`, `gamma`, ...\n",
    "- value tests: `isinf`, `isfinite`, `isnan`\n",
    "- constants: `pi`, `e`, `tau`, `nan`, `inf`"
   ]
  },
  {
   "cell_type": "code",
   "execution_count": null,
   "id": "c221f087-58f7-44dc-acaa-038e4edc8f87",
   "metadata": {},
   "outputs": [],
   "source": [
    "math.inf == float('inf')"
   ]
  },
  {
   "cell_type": "code",
   "execution_count": null,
   "id": "9b8b3ed7-364d-435f-9e34-8e3a29b685ab",
   "metadata": {},
   "outputs": [],
   "source": [
    "math.nan == float('nan')"
   ]
  },
  {
   "cell_type": "code",
   "execution_count": null,
   "id": "729e8e67-1592-454f-9060-798cde8da70e",
   "metadata": {},
   "outputs": [],
   "source": [
    "math.comb(7, 3)   # 7 choose 3 without order"
   ]
  },
  {
   "cell_type": "code",
   "execution_count": null,
   "id": "cf27cc32-d00e-420c-88e2-8f951fc13da9",
   "metadata": {},
   "outputs": [],
   "source": [
    "math.perm(7, 3)  # 7 choose 3 with order"
   ]
  },
  {
   "cell_type": "code",
   "execution_count": null,
   "id": "37a3dc09-4deb-4fe5-852e-27462108cc81",
   "metadata": {},
   "outputs": [],
   "source": [
    "math.cos(math.pi)"
   ]
  },
  {
   "cell_type": "code",
   "execution_count": null,
   "id": "a395b175-88ca-42c3-a086-c1223efa63a8",
   "metadata": {},
   "outputs": [],
   "source": [
    "math.acos(-1)"
   ]
  },
  {
   "cell_type": "code",
   "execution_count": null,
   "id": "99315a55-d8d9-43b0-95bc-bc1bb98539f6",
   "metadata": {},
   "outputs": [],
   "source": [
    "math.acos(1)"
   ]
  },
  {
   "cell_type": "code",
   "execution_count": null,
   "id": "d4737389-53bf-4c70-a8c8-13db4642aa3a",
   "metadata": {},
   "outputs": [],
   "source": [
    "math.acos(0)"
   ]
  },
  {
   "cell_type": "code",
   "execution_count": null,
   "id": "e7bacc34-fa69-40f0-b7d9-af20cc31661a",
   "metadata": {},
   "outputs": [],
   "source": [
    "cmath.exp(math.pi*1j)"
   ]
  },
  {
   "cell_type": "markdown",
   "id": "e0fe304a-7611-4507-acc0-cea2b48f71d2",
   "metadata": {},
   "source": [
    "### random\n",
    "- generate pseudorandom numbers from various distributions, and related functions\n",
    "- pseudorandom numbers are **not** suitable for cryptographic applications! take a look at `secrets` or 3rd party libraries\n",
    "- for matrices (or otherwise large arrays) of random numbers and additional distributions look into `numpy` and `scipy`"
   ]
  },
  {
   "cell_type": "markdown",
   "id": "e0543785-63a6-4d53-b2be-afffa0b57d51",
   "metadata": {},
   "source": [
    "- `random.seed`: set the seed for pseudorandom generator (same seed = same sequence will be generated)\n",
    "- `random.randrange` - random element from range\n",
    "- `random.randint` - uniform random int between min and max (both inclusive!)\n",
    "- `random.random` - uniform floating point between 0 (inclusive) and 1 (exclusive)\n",
    "- `random.uniform` - uniform floating point between min and max\n",
    "- `random.gauss` - normal distribution\n",
    "- `random.choice` - return random element from sequence\n",
    "- `random.shuffle` - shuffle sequence in-place\n",
    "- `random.sample` - return k elements from sequence without replacement"
   ]
  },
  {
   "cell_type": "code",
   "execution_count": null,
   "id": "9d27fddd-e8cf-4d2b-be0b-ad06756a3fcf",
   "metadata": {},
   "outputs": [],
   "source": [
    "import random, string"
   ]
  },
  {
   "cell_type": "code",
   "execution_count": null,
   "id": "f628639d-0db8-489a-8834-a75c660e54e1",
   "metadata": {},
   "outputs": [],
   "source": [
    "random.seed(42)"
   ]
  },
  {
   "cell_type": "code",
   "execution_count": null,
   "id": "bef53890-9bfb-43f4-869d-2591e18faca9",
   "metadata": {},
   "outputs": [],
   "source": [
    "random.randint(1, 10)"
   ]
  },
  {
   "cell_type": "code",
   "execution_count": null,
   "id": "75ae3c1e-bbfa-4e30-9c87-6549656f7512",
   "metadata": {},
   "outputs": [],
   "source": [
    "random.choice(string.ascii_lowercase)"
   ]
  },
  {
   "cell_type": "code",
   "execution_count": null,
   "id": "ba667212-84ee-4a13-af62-d2b3bb52e463",
   "metadata": {},
   "outputs": [],
   "source": [
    "random.choice(['abc', 'def', 'ghi'])"
   ]
  },
  {
   "cell_type": "code",
   "execution_count": null,
   "id": "5d6149da-e90a-4762-9690-3152ee022edf",
   "metadata": {},
   "outputs": [],
   "source": [
    "random.sample(string.ascii_lowercase, 5)"
   ]
  },
  {
   "cell_type": "code",
   "execution_count": null,
   "id": "ca9972ef-8340-4966-8ce5-61505c849e41",
   "metadata": {},
   "outputs": [],
   "source": [
    "from matplotlib import pyplot as plt\n",
    "%matplotlib inline"
   ]
  },
  {
   "cell_type": "code",
   "execution_count": null,
   "id": "4bbfab54-0640-44a5-b164-091d13172e36",
   "metadata": {},
   "outputs": [],
   "source": [
    "uniform_data = [random.uniform(-1, 1) for _ in range(100000)]\n",
    "normal_data = [random.gauss() for _ in range(100000)]\n",
    "\n",
    "plt.hist(normal_data, bins=100, range=(-4, 4), alpha=0.5);\n",
    "plt.hist(uniform_data, bins=100, range=(-4, 4), alpha=0.5);"
   ]
  },
  {
   "cell_type": "markdown",
   "id": "fdf33010-fbe5-44d4-8e56-b531013ed55b",
   "metadata": {},
   "source": [
    "### decimal\n",
    "- decimal numbers with configurable precision\n",
    "- 'exact' within that precision\n",
    "- useful particularly for e.g. accounting"
   ]
  },
  {
   "cell_type": "code",
   "execution_count": null,
   "id": "3b5f53b7-1a2e-433f-8a71-a83704c31eed",
   "metadata": {},
   "outputs": [],
   "source": [
    "import decimal"
   ]
  },
  {
   "cell_type": "code",
   "execution_count": null,
   "id": "6c187b28-7f2a-4c8c-8202-3b58ea1e826a",
   "metadata": {},
   "outputs": [],
   "source": [
    "0.1 + 0.1 + 0.1 - 0.3"
   ]
  },
  {
   "cell_type": "code",
   "execution_count": null,
   "id": "656d415a-3dd9-48ae-b0a1-b7a2c5dc6077",
   "metadata": {},
   "outputs": [],
   "source": [
    "decimal.Decimal(0.1) + decimal.Decimal(0.1) + decimal.Decimal(0.1) - decimal.Decimal(0.3)"
   ]
  },
  {
   "cell_type": "code",
   "execution_count": null,
   "id": "00e148a5-faca-48e3-b655-93452ced17c7",
   "metadata": {},
   "outputs": [],
   "source": [
    "decimal.Decimal('0.1') + decimal.Decimal('0.1') + decimal.Decimal('0.1') - decimal.Decimal('0.3')"
   ]
  },
  {
   "cell_type": "code",
   "execution_count": null,
   "id": "13ab825f-a284-4348-926e-6cac0be03076",
   "metadata": {},
   "outputs": [],
   "source": [
    "with decimal.localcontext(traps=[decimal.FloatOperation]):\n",
    "    decimal.Decimal(0.1)"
   ]
  },
  {
   "cell_type": "code",
   "execution_count": null,
   "id": "288391e5-af4a-40ed-9080-4375379bb358",
   "metadata": {},
   "outputs": [],
   "source": [
    "# significance\n",
    "decimal.Decimal('1.50') + decimal.Decimal('1.50')"
   ]
  },
  {
   "cell_type": "code",
   "execution_count": null,
   "id": "cdcc94f9-ce3e-4166-ac09-339b647b9092",
   "metadata": {},
   "outputs": [],
   "source": [
    "# setting precision\n",
    "with decimal.localcontext(prec=3):\n",
    "    print(decimal.Decimal('1.23456'))\n",
    "    print(decimal.Decimal(1) / decimal.Decimal(7))\n",
    "    print(decimal.Decimal('1.23456') + decimal.Decimal('1.23456'))"
   ]
  },
  {
   "cell_type": "code",
   "execution_count": null,
   "id": "7fba3897-64a5-4ea5-bc0d-4534a8577517",
   "metadata": {},
   "outputs": [],
   "source": [
    "# setting precision\n",
    "with decimal.localcontext(prec=345):\n",
    "    print(decimal.Decimal(1) / decimal.Decimal(7))"
   ]
  }
 ],
 "metadata": {
  "kernelspec": {
   "display_name": "dhbw",
   "language": "python",
   "name": "dhbw"
  },
  "language_info": {
   "codemirror_mode": {
    "name": "ipython",
    "version": 3
   },
   "file_extension": ".py",
   "mimetype": "text/x-python",
   "name": "python",
   "nbconvert_exporter": "python",
   "pygments_lexer": "ipython3",
   "version": "3.11.0"
  }
 },
 "nbformat": 4,
 "nbformat_minor": 5
}
