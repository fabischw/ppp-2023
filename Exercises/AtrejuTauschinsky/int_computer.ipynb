{
 "cells": [
  {
   "cell_type": "code",
   "execution_count": null,
   "metadata": {},
   "outputs": [],
   "source": [
    "import operator"
   ]
  },
  {
   "cell_type": "code",
   "execution_count": null,
   "metadata": {},
   "outputs": [],
   "source": [
    "class IntComputer:            \n",
    "    def __init__(self, input_getter, output_collector):\n",
    "        def get_input(modes):\n",
    "            target = self.memory[self.ip]\n",
    "            self.memory[target] = input_getter()\n",
    "            self.ip += 1\n",
    "\n",
    "        def write_output(modes):\n",
    "            x = self.get_function_arguments(modes, 1)[0]\n",
    "            output_collector(x)\n",
    "\n",
    "        self.function_map = {\n",
    "            1: self._make_register_setter(operator.add),\n",
    "            2: self._make_register_setter(operator.mul),\n",
    "            3: get_input,\n",
    "            4: write_output,\n",
    "            5: self._make_ip_setter(operator.ne, 0),\n",
    "            6: self._make_ip_setter(operator.eq, 0),\n",
    "            7: self._make_register_setter(operator.lt),\n",
    "            8: self._make_register_setter(operator.eq),\n",
    "        }\n",
    "\n",
    "    def _make_register_setter(self, func):\n",
    "        # make generic function that sets a register\n",
    "        def f(modes):\n",
    "            x, y = self.get_function_arguments(modes, 2)\n",
    "            target = self.memory[self.ip]\n",
    "            self.memory[target] = int(func(x, y))\n",
    "            self.ip += 1\n",
    "        return f\n",
    "    \n",
    "    def _make_ip_setter(self, func, comparison_value):\n",
    "        # make a generic function that sets the instruction pointer\n",
    "        def f(modes):\n",
    "            x, y = self.get_function_arguments(modes, 2)\n",
    "            if func(x, comparison_value):\n",
    "                self.ip = y\n",
    "        return f\n",
    "\n",
    "    def get_function_arguments(self, modes, n_args):\n",
    "        arg_values = self.memory[self.ip:self.ip + n_args]\n",
    "        arg_modes = [(modes // (10**i)) % 10 for i in range(n_args)]\n",
    "        arguments = [value if mode == 1 else self.memory[value] for mode, value in zip(arg_modes, arg_values)]\n",
    "        self.ip += n_args\n",
    "        return arguments\n",
    "        \n",
    "    def split_command_and_modes(self):\n",
    "        command = self.memory[self.ip]\n",
    "        self.ip += 1\n",
    "        return command % 100, command // 100\n",
    "\n",
    "    def run(self, data):\n",
    "        self.memory = data.copy()\n",
    "        self.ip = 0\n",
    "        \n",
    "        while True:\n",
    "            opcode, modes = self.split_command_and_modes()\n",
    "            if opcode == 99:\n",
    "                break\n",
    "            \n",
    "            # calculate function arguments\n",
    "            opcode_function = self.function_map[opcode]\n",
    "            opcode_function(modes)\n",
    "        \n",
    "        print('shutting down...')"
   ]
  },
  {
   "cell_type": "code",
   "execution_count": null,
   "metadata": {},
   "outputs": [],
   "source": [
    "def input_getter():\n",
    "    value = input('please enter the next value:')\n",
    "    return int(value)\n",
    "\n",
    "ic = IntComputer(input_getter, print)"
   ]
  },
  {
   "cell_type": "code",
   "execution_count": null,
   "metadata": {},
   "outputs": [],
   "source": [
    "data = [3,225,1,225,6,6,1100,1,238,225,104,0,1101,40,71,224,1001,224,-111,224,4,224,1002,223,8,223,101,7,224,224,1,224,223,223,1102,66,6,225,1102,22,54,225,1,65,35,224,1001,224,-86,224,4,224,102,8,223,223,101,6,224,224,1,224,223,223,1102,20,80,225,101,92,148,224,101,-162,224,224,4,224,1002,223,8,223,101,5,224,224,1,224,223,223,1102,63,60,225,1101,32,48,225,2,173,95,224,1001,224,-448,224,4,224,102,8,223,223,1001,224,4,224,1,224,223,223,1001,91,16,224,101,-79,224,224,4,224,1002,223,8,223,101,3,224,224,1,224,223,223,1101,13,29,225,1101,71,70,225,1002,39,56,224,1001,224,-1232,224,4,224,102,8,223,223,101,4,224,224,1,223,224,223,1101,14,59,225,102,38,143,224,1001,224,-494,224,4,224,102,8,223,223,101,3,224,224,1,224,223,223,1102,30,28,224,1001,224,-840,224,4,224,1002,223,8,223,101,4,224,224,1,223,224,223,4,223,99,0,0,0,677,0,0,0,0,0,0,0,0,0,0,0,1105,0,99999,1105,227,247,1105,1,99999,1005,227,99999,1005,0,256,1105,1,99999,1106,227,99999,1106,0,265,1105,1,99999,1006,0,99999,1006,227,274,1105,1,99999,1105,1,280,1105,1,99999,1,225,225,225,1101,294,0,0,105,1,0,1105,1,99999,1106,0,300,1105,1,99999,1,225,225,225,1101,314,0,0,106,0,0,1105,1,99999,107,677,226,224,1002,223,2,223,1005,224,329,1001,223,1,223,8,226,226,224,102,2,223,223,1006,224,344,101,1,223,223,7,226,677,224,1002,223,2,223,1005,224,359,101,1,223,223,1007,677,226,224,1002,223,2,223,1005,224,374,1001,223,1,223,1007,677,677,224,1002,223,2,223,1006,224,389,101,1,223,223,1008,226,226,224,1002,223,2,223,1005,224,404,1001,223,1,223,108,677,226,224,1002,223,2,223,1006,224,419,1001,223,1,223,1108,677,226,224,102,2,223,223,1006,224,434,1001,223,1,223,108,226,226,224,1002,223,2,223,1005,224,449,101,1,223,223,7,677,677,224,1002,223,2,223,1006,224,464,1001,223,1,223,8,226,677,224,1002,223,2,223,1005,224,479,1001,223,1,223,107,226,226,224,102,2,223,223,1006,224,494,101,1,223,223,1007,226,226,224,1002,223,2,223,1005,224,509,1001,223,1,223,1107,226,677,224,102,2,223,223,1005,224,524,1001,223,1,223,108,677,677,224,1002,223,2,223,1005,224,539,101,1,223,223,1107,677,226,224,102,2,223,223,1005,224,554,1001,223,1,223,107,677,677,224,1002,223,2,223,1005,224,569,101,1,223,223,8,677,226,224,102,2,223,223,1005,224,584,1001,223,1,223,7,677,226,224,102,2,223,223,1006,224,599,101,1,223,223,1008,677,677,224,1002,223,2,223,1005,224,614,101,1,223,223,1008,677,226,224,102,2,223,223,1006,224,629,1001,223,1,223,1108,677,677,224,102,2,223,223,1006,224,644,101,1,223,223,1108,226,677,224,1002,223,2,223,1005,224,659,1001,223,1,223,1107,226,226,224,102,2,223,223,1006,224,674,1001,223,1,223,4,223,99,226]"
   ]
  },
  {
   "cell_type": "code",
   "execution_count": null,
   "metadata": {},
   "outputs": [],
   "source": [
    "ic.run(data)"
   ]
  },
  {
   "cell_type": "code",
   "execution_count": null,
   "metadata": {},
   "outputs": [],
   "source": []
  }
 ],
 "metadata": {
  "kernelspec": {
   "display_name": "Python 3 (ipykernel)",
   "language": "python",
   "name": "python3"
  },
  "language_info": {
   "codemirror_mode": {
    "name": "ipython",
    "version": 3
   },
   "file_extension": ".py",
   "mimetype": "text/x-python",
   "name": "python",
   "nbconvert_exporter": "python",
   "pygments_lexer": "ipython3",
   "version": "3.11.4"
  }
 },
 "nbformat": 4,
 "nbformat_minor": 4
}
