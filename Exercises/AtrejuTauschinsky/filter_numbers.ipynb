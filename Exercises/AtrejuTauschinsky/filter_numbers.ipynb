{
 "cells": [
  {
   "cell_type": "code",
   "execution_count": null,
   "id": "558681d2-bb88-4527-a301-8d6852a5abb1",
   "metadata": {},
   "outputs": [],
   "source": [
    "import string\n",
    "from collections import Counter"
   ]
  },
  {
   "cell_type": "code",
   "execution_count": null,
   "id": "6077c121-c5f9-4850-a331-cc6c328f37a7",
   "metadata": {},
   "outputs": [],
   "source": [
    "def number_is_valid(number):\n",
    "    number_string = str(number)\n",
    "    has_two = 2 in [number_string.count(digit) for digit in number_string]\n",
    "    is_monotonic = all(number_string[i] <= number_string[i + 1] for i in range(len(number_string) - 1))\n",
    "    return has_two and is_monotonic"
   ]
  },
  {
   "cell_type": "code",
   "execution_count": null,
   "id": "112b9add-0526-418a-a961-acbe6e437993",
   "metadata": {},
   "outputs": [],
   "source": [
    "sum(number_is_valid(x) for x in range(134564, 585159))"
   ]
  },
  {
   "cell_type": "code",
   "execution_count": null,
   "id": "1a176066-a0fd-4af6-8499-19e9cd1317aa",
   "metadata": {},
   "outputs": [],
   "source": [
    "# faster but still somewhat readable version below"
   ]
  },
  {
   "cell_type": "code",
   "execution_count": null,
   "id": "12277705-a48e-4907-9a28-4bcb0ec5b26c",
   "metadata": {},
   "outputs": [],
   "source": [
    "import numpy as np"
   ]
  },
  {
   "cell_type": "code",
   "execution_count": null,
   "id": "0d46eda1-d7ac-4605-af87-1de2110b8144",
   "metadata": {},
   "outputs": [],
   "source": [
    "def next_monotonic_number(n):\n",
    "    for i in range(1, len(n) + 1):\n",
    "        if n[-i] < 9:\n",
    "            target_num = n[-i] + 1\n",
    "            n[-i:] = target_num\n",
    "            return n"
   ]
  },
  {
   "cell_type": "code",
   "execution_count": null,
   "id": "a9364178-d85f-45b3-adc4-741746711c24",
   "metadata": {},
   "outputs": [],
   "source": [
    "def get_valid_count(start, end):\n",
    "    start = np.array([int(x) for x in str(start)])\n",
    "    end = np.array([int(x) for x in str(end)])\n",
    "    \n",
    "    # make start monotonic\n",
    "    for i in range(len(start) - 1):\n",
    "        if start[i + 1] < start[i]:\n",
    "            start[i:] = start[i]\n",
    "            break\n",
    "\n",
    "    \n",
    "    current_number = np.copy(start)\n",
    "    count = 0\n",
    "    numbers = []\n",
    "    while any(current_number < end):\n",
    "        if 2 in np.unique(current_number, return_counts=True)[1]:\n",
    "            count += 1\n",
    "            numbers.append(np.copy(current_number))\n",
    "        current_number = next_monotonic_number(current_number)\n",
    "    return count"
   ]
  },
  {
   "cell_type": "code",
   "execution_count": null,
   "id": "f934e55f-63ad-4344-9903-377d07da9827",
   "metadata": {},
   "outputs": [],
   "source": [
    "get_valid_count('134564', '585159')"
   ]
  },
  {
   "cell_type": "code",
   "execution_count": null,
   "id": "9f315be7-d970-44b4-aa07-ec3ec9e1972b",
   "metadata": {},
   "outputs": [],
   "source": [
    "%timeit get_valid_count('134564', '585159')"
   ]
  }
 ],
 "metadata": {
  "kernelspec": {
   "display_name": "dhbw",
   "language": "python",
   "name": "dhbw"
  },
  "language_info": {
   "codemirror_mode": {
    "name": "ipython",
    "version": 3
   },
   "file_extension": ".py",
   "mimetype": "text/x-python",
   "name": "python",
   "nbconvert_exporter": "python",
   "pygments_lexer": "ipython3",
   "version": "3.11.0"
  }
 },
 "nbformat": 4,
 "nbformat_minor": 5
}
