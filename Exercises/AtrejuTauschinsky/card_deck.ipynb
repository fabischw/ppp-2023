{
 "cells": [
  {
   "cell_type": "code",
   "execution_count": null,
   "id": "ca83e1c9-1fca-4dac-a51c-fe4050c3ef96",
   "metadata": {},
   "outputs": [],
   "source": [
    "from collections import UserList\n",
    "\n",
    "# Code stolen from Henriette\n",
    "class Card:\n",
    "    def __init__(self, value, suit):\n",
    "        self.value = value\n",
    "        self.suit = suit\n",
    "\n",
    "    def __str__(self):\n",
    "        return f\"{self.value} of {self.suit}\"\n",
    "\n",
    "class CardDeck(UserList):\n",
    "    min_card = 2\n",
    "    def __init__(self):\n",
    "        suites = ['Diamonds', 'Hearts', 'Spades', 'Clubs']\n",
    "        values = [str(x) for x in range(self.min_card, 11)] + ['Jack', 'Queen', 'King', 'Ace']\n",
    "        self.data = [\n",
    "            Card(value, suit)\n",
    "            for suit in suites\n",
    "            for value in values\n",
    "        ]\n",
    "\n",
    "class FrenchDeck(CardDeck):\n",
    "    pass\n",
    "\n",
    "class SkatDeck(CardDeck):\n",
    "    min_card = 7"
   ]
  },
  {
   "cell_type": "code",
   "execution_count": null,
   "id": "363f17f6-06f0-45dc-a453-8ecba1efd1bd",
   "metadata": {},
   "outputs": [],
   "source": [
    "french_deck = FrenchDeck()\n",
    "print(french_deck[13])"
   ]
  },
  {
   "cell_type": "code",
   "execution_count": null,
   "id": "f4d5ba58-6f7f-4f88-86ab-342b1bd91a1d",
   "metadata": {},
   "outputs": [],
   "source": [
    "skat_deck = SkatDeck()\n",
    "for card in skat_deck:\n",
    "    print(card)"
   ]
  },
  {
   "cell_type": "code",
   "execution_count": null,
   "id": "6d87b00f-dcf2-4a59-bc7f-00a9127f77e6",
   "metadata": {},
   "outputs": [],
   "source": [
    "from collections.abc import Sequence"
   ]
  },
  {
   "cell_type": "code",
   "execution_count": null,
   "id": "175bccd6-d190-4553-958d-0abc66e8b093",
   "metadata": {},
   "outputs": [],
   "source": [
    "class MySequence(Sequence):\n",
    "    pass"
   ]
  },
  {
   "cell_type": "code",
   "execution_count": null,
   "id": "b1a9c8c5-071b-4e88-b9ee-01b2a5bb450e",
   "metadata": {},
   "outputs": [],
   "source": [
    "sequence = MySequence()"
   ]
  },
  {
   "cell_type": "code",
   "execution_count": null,
   "id": "b73da49b-ddf3-44f1-a75a-ba00b7ff89e0",
   "metadata": {},
   "outputs": [],
   "source": []
  }
 ],
 "metadata": {
  "kernelspec": {
   "display_name": "dhbw",
   "language": "python",
   "name": "dhbw"
  },
  "language_info": {
   "codemirror_mode": {
    "name": "ipython",
    "version": 3
   },
   "file_extension": ".py",
   "mimetype": "text/x-python",
   "name": "python",
   "nbconvert_exporter": "python",
   "pygments_lexer": "ipython3",
   "version": "3.11.0"
  }
 },
 "nbformat": 4,
 "nbformat_minor": 5
}
